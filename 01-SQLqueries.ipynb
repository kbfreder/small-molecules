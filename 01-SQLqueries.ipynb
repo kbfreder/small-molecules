{
 "cells": [
  {
   "cell_type": "markdown",
   "metadata": {},
   "source": [
    "## References\n",
    "- Preview tables on GBQ: https://console.cloud.google.com/bigquery?project=chembl-kf&folder&organizationId&p=patents-public-data&d=ebi_chembl&page=dataset\n",
    "- Schema - text: http://ftp.ebi.ac.uk/pub/databases/chembl/ChEMBLdb/releases/chembl_23/schema_documentation.html\n",
    "- Schema - visual: http://ftp.ebi.ac.uk/pub/databases/chembl/ChEMBLdb/releases/chembl_23/chembl_23_schema.png"
   ]
  },
  {
   "cell_type": "code",
   "execution_count": 1,
   "metadata": {},
   "outputs": [],
   "source": [
    "from google.cloud import bigquery # Import the Google Cloud client library\n",
    "import bq_helper # Import bq_helper module\n",
    "\n",
    "import pandas as pd\n",
    "import numpy as np\n",
    "\n",
    "import util as u\n",
    "%load_ext autoreload\n",
    "%autoreload 2\n",
    "\n",
    "import matplotlib.pyplot as plt"
   ]
  },
  {
   "cell_type": "code",
   "execution_count": 8,
   "metadata": {},
   "outputs": [],
   "source": [
    "# Instantiate a client implicitly -- looks for credentials in an environmental variable\n",
    "client = bigquery.Client()\n",
    "\n",
    "# instantiate a BigQueryHelper object\n",
    "ebi_chembl = bq_helper.BigQueryHelper(active_project=\"patents-public-data\", dataset_name=\"ebi_chembl\")"
   ]
  },
  {
   "cell_type": "code",
   "execution_count": 9,
   "metadata": {},
   "outputs": [
    {
     "data": {
      "text/plain": [
       "<google.cloud.bigquery.client.Client at 0x1181ffa90>"
      ]
     },
     "execution_count": 9,
     "metadata": {},
     "output_type": "execute_result"
    }
   ],
   "source": [
    "client"
   ]
  },
  {
   "cell_type": "markdown",
   "metadata": {},
   "source": [
    "### Compound Properties"
   ]
  },
  {
   "cell_type": "markdown",
   "metadata": {},
   "source": [
    "- phy-chem data from compount_properties\n",
    "- max phase, withdrawn_flag from molecule_dictionary\n",
    "- patent info from product_patents\n",
    "- small molecule compounds only"
   ]
  },
  {
   "cell_type": "code",
   "execution_count": 77,
   "metadata": {},
   "outputs": [
    {
     "data": {
      "text/plain": [
       "0.20395510271191597"
      ]
     },
     "execution_count": 77,
     "metadata": {},
     "output_type": "execute_result"
    }
   ],
   "source": [
    "q5b = \"\"\"\n",
    "SELECT md.molregno as molecule_key, md.pref_name as molecule_name, \n",
    "    mw_freebase, alogp, acd_logp, acd_logd, hba, hbd, psa, rtb, ro3_pass, num_ro5_violations, \n",
    "    ACD_MOST_APKA, ACD_MOST_BPKA, MOLECULAR_SPECIES, AROMATIC_RINGS, HEAVY_ATOMS, QED_WEIGHTED, \n",
    "    HBA_LIPINSKI, HBD_LIPINSKI, NUM_LIPINSKI_RO5_VIOLATIONS,\n",
    "     md.max_phase as phase, CAST(md.withdrawn_flag AS INT64) as withdrawn, num_patents\n",
    "FROM `patents-public-data.ebi_chembl.molecule_dictionary_24` AS md\n",
    "JOIN `patents-public-data.ebi_chembl.compound_properties_24` AS cp ON cp.molregno = md.molregno\n",
    "LEFT JOIN (\n",
    "    SELECT form.molregno, COUNT(DISTINCT(pp.patent_no)) as num_patents\n",
    "    FROM `patents-public-data.ebi_chembl.formulations_24` AS form\n",
    "    JOIN `patents-public-data.ebi_chembl.product_patents_24` AS pp ON pp.product_id = form.product_id\n",
    "    GROUP BY form.molregno\n",
    "    ) AS pats \n",
    "  ON md.molregno = pats.molregno\n",
    "WHERE md.molecule_type = 'Small molecule'\n",
    "\"\"\"\n",
    "ebi_chembl.estimate_query_size(q5b)"
   ]
  },
  {
   "cell_type": "code",
   "execution_count": 78,
   "metadata": {},
   "outputs": [
    {
     "data": {
      "text/html": [
       "<div>\n",
       "<style scoped>\n",
       "    .dataframe tbody tr th:only-of-type {\n",
       "        vertical-align: middle;\n",
       "    }\n",
       "\n",
       "    .dataframe tbody tr th {\n",
       "        vertical-align: top;\n",
       "    }\n",
       "\n",
       "    .dataframe thead th {\n",
       "        text-align: right;\n",
       "    }\n",
       "</style>\n",
       "<table border=\"1\" class=\"dataframe\">\n",
       "  <thead>\n",
       "    <tr style=\"text-align: right;\">\n",
       "      <th></th>\n",
       "      <th>molecule_key</th>\n",
       "      <th>molecule_name</th>\n",
       "      <th>mw_freebase</th>\n",
       "      <th>alogp</th>\n",
       "      <th>acd_logp</th>\n",
       "      <th>acd_logd</th>\n",
       "      <th>hba</th>\n",
       "      <th>hbd</th>\n",
       "      <th>psa</th>\n",
       "      <th>rtb</th>\n",
       "      <th>...</th>\n",
       "      <th>MOLECULAR_SPECIES</th>\n",
       "      <th>AROMATIC_RINGS</th>\n",
       "      <th>HEAVY_ATOMS</th>\n",
       "      <th>QED_WEIGHTED</th>\n",
       "      <th>HBA_LIPINSKI</th>\n",
       "      <th>HBD_LIPINSKI</th>\n",
       "      <th>NUM_LIPINSKI_RO5_VIOLATIONS</th>\n",
       "      <th>phase</th>\n",
       "      <th>withdrawn</th>\n",
       "      <th>num_patents</th>\n",
       "    </tr>\n",
       "  </thead>\n",
       "  <tbody>\n",
       "    <tr>\n",
       "      <th>0</th>\n",
       "      <td>460508</td>\n",
       "      <td>None</td>\n",
       "      <td>691.65</td>\n",
       "      <td>1.92</td>\n",
       "      <td>1.69</td>\n",
       "      <td>1.69</td>\n",
       "      <td>13</td>\n",
       "      <td>8</td>\n",
       "      <td>222.86</td>\n",
       "      <td>6</td>\n",
       "      <td>...</td>\n",
       "      <td>NEUTRAL</td>\n",
       "      <td>7</td>\n",
       "      <td>51</td>\n",
       "      <td>0.12</td>\n",
       "      <td>15</td>\n",
       "      <td>8</td>\n",
       "      <td>None</td>\n",
       "      <td>0</td>\n",
       "      <td>0</td>\n",
       "      <td>NaN</td>\n",
       "    </tr>\n",
       "    <tr>\n",
       "      <th>1</th>\n",
       "      <td>506107</td>\n",
       "      <td>None</td>\n",
       "      <td>934.63</td>\n",
       "      <td>1</td>\n",
       "      <td>1.7</td>\n",
       "      <td>-4.57</td>\n",
       "      <td>26</td>\n",
       "      <td>15</td>\n",
       "      <td>452</td>\n",
       "      <td>2</td>\n",
       "      <td>...</td>\n",
       "      <td>ACID</td>\n",
       "      <td>7</td>\n",
       "      <td>67</td>\n",
       "      <td>0.04</td>\n",
       "      <td>26</td>\n",
       "      <td>15</td>\n",
       "      <td>None</td>\n",
       "      <td>0</td>\n",
       "      <td>0</td>\n",
       "      <td>NaN</td>\n",
       "    </tr>\n",
       "    <tr>\n",
       "      <th>2</th>\n",
       "      <td>623893</td>\n",
       "      <td>None</td>\n",
       "      <td>913.88</td>\n",
       "      <td>9.13</td>\n",
       "      <td>-0.23</td>\n",
       "      <td>-5.75</td>\n",
       "      <td>18</td>\n",
       "      <td>7</td>\n",
       "      <td>372.91</td>\n",
       "      <td>11</td>\n",
       "      <td>...</td>\n",
       "      <td>ACID</td>\n",
       "      <td>7</td>\n",
       "      <td>63</td>\n",
       "      <td>0.02</td>\n",
       "      <td>22</td>\n",
       "      <td>9</td>\n",
       "      <td>None</td>\n",
       "      <td>0</td>\n",
       "      <td>0</td>\n",
       "      <td>NaN</td>\n",
       "    </tr>\n",
       "    <tr>\n",
       "      <th>3</th>\n",
       "      <td>460509</td>\n",
       "      <td>None</td>\n",
       "      <td>691.65</td>\n",
       "      <td>1.92</td>\n",
       "      <td>1.81</td>\n",
       "      <td>1.81</td>\n",
       "      <td>13</td>\n",
       "      <td>8</td>\n",
       "      <td>222.86</td>\n",
       "      <td>6</td>\n",
       "      <td>...</td>\n",
       "      <td>NEUTRAL</td>\n",
       "      <td>7</td>\n",
       "      <td>51</td>\n",
       "      <td>0.12</td>\n",
       "      <td>15</td>\n",
       "      <td>8</td>\n",
       "      <td>None</td>\n",
       "      <td>0</td>\n",
       "      <td>0</td>\n",
       "      <td>NaN</td>\n",
       "    </tr>\n",
       "    <tr>\n",
       "      <th>4</th>\n",
       "      <td>47659</td>\n",
       "      <td>None</td>\n",
       "      <td>810.68</td>\n",
       "      <td>6.12</td>\n",
       "      <td>2.12</td>\n",
       "      <td>-3.13</td>\n",
       "      <td>16</td>\n",
       "      <td>8</td>\n",
       "      <td>282.68</td>\n",
       "      <td>6</td>\n",
       "      <td>...</td>\n",
       "      <td>ACID</td>\n",
       "      <td>9</td>\n",
       "      <td>60</td>\n",
       "      <td>0.09</td>\n",
       "      <td>16</td>\n",
       "      <td>8</td>\n",
       "      <td>None</td>\n",
       "      <td>0</td>\n",
       "      <td>0</td>\n",
       "      <td>NaN</td>\n",
       "    </tr>\n",
       "  </tbody>\n",
       "</table>\n",
       "<p>5 rows × 24 columns</p>\n",
       "</div>"
      ],
      "text/plain": [
       "  molecule_key molecule_name mw_freebase alogp acd_logp acd_logd hba hbd  \\\n",
       "0       460508          None      691.65  1.92     1.69     1.69  13   8   \n",
       "1       506107          None      934.63     1      1.7    -4.57  26  15   \n",
       "2       623893          None      913.88  9.13    -0.23    -5.75  18   7   \n",
       "3       460509          None      691.65  1.92     1.81     1.81  13   8   \n",
       "4        47659          None      810.68  6.12     2.12    -3.13  16   8   \n",
       "\n",
       "      psa rtb     ...     MOLECULAR_SPECIES AROMATIC_RINGS HEAVY_ATOMS  \\\n",
       "0  222.86   6     ...               NEUTRAL              7          51   \n",
       "1     452   2     ...                  ACID              7          67   \n",
       "2  372.91  11     ...                  ACID              7          63   \n",
       "3  222.86   6     ...               NEUTRAL              7          51   \n",
       "4  282.68   6     ...                  ACID              9          60   \n",
       "\n",
       "  QED_WEIGHTED HBA_LIPINSKI HBD_LIPINSKI NUM_LIPINSKI_RO5_VIOLATIONS phase  \\\n",
       "0         0.12           15            8                        None     0   \n",
       "1         0.04           26           15                        None     0   \n",
       "2         0.02           22            9                        None     0   \n",
       "3         0.12           15            8                        None     0   \n",
       "4         0.09           16            8                        None     0   \n",
       "\n",
       "  withdrawn num_patents  \n",
       "0         0         NaN  \n",
       "1         0         NaN  \n",
       "2         0         NaN  \n",
       "3         0         NaN  \n",
       "4         0         NaN  \n",
       "\n",
       "[5 rows x 24 columns]"
      ]
     },
     "execution_count": 78,
     "metadata": {},
     "output_type": "execute_result"
    }
   ],
   "source": [
    "response5b = ebi_chembl.query_to_pandas_safe(q5b)\n",
    "response5b.head()"
   ]
  },
  {
   "cell_type": "code",
   "execution_count": 96,
   "metadata": {},
   "outputs": [],
   "source": [
    "response5b.to_csv('Data/compound_properties_02.csv', index=False)"
   ]
  },
  {
   "cell_type": "markdown",
   "metadata": {},
   "source": [
    "Note not all molecules in molecule_dictionary not contain an entry in compound_properties -- this is where some of the patent & approval attrition is coming from."
   ]
  },
  {
   "cell_type": "code",
   "execution_count": 32,
   "metadata": {},
   "outputs": [
    {
     "data": {
      "text/plain": [
       "0.05434732884168625"
      ]
     },
     "execution_count": 32,
     "metadata": {},
     "output_type": "execute_result"
    }
   ],
   "source": [
    "q5c = \"\"\"\n",
    "SELECT COUNT(md.molregno) as num_mols_md, COUNT(cp.molregno) as num_mols_cp \n",
    "FROM `patents-public-data.ebi_chembl.molecule_dictionary_24` AS md\n",
    "LEFT JOIN `patents-public-data.ebi_chembl.compound_properties_24` AS cp \n",
    "ON cp.molregno = md.molregno\n",
    "WHERE md.molecule_type = 'Small molecule'\n",
    "\n",
    "\"\"\"\n",
    "ebi_chembl.estimate_query_size(q5c)"
   ]
  },
  {
   "cell_type": "code",
   "execution_count": 33,
   "metadata": {},
   "outputs": [
    {
     "data": {
      "text/html": [
       "<div>\n",
       "<style scoped>\n",
       "    .dataframe tbody tr th:only-of-type {\n",
       "        vertical-align: middle;\n",
       "    }\n",
       "\n",
       "    .dataframe tbody tr th {\n",
       "        vertical-align: top;\n",
       "    }\n",
       "\n",
       "    .dataframe thead th {\n",
       "        text-align: right;\n",
       "    }\n",
       "</style>\n",
       "<table border=\"1\" class=\"dataframe\">\n",
       "  <thead>\n",
       "    <tr style=\"text-align: right;\">\n",
       "      <th></th>\n",
       "      <th>num_mols_md</th>\n",
       "      <th>num_mols_cp</th>\n",
       "    </tr>\n",
       "  </thead>\n",
       "  <tbody>\n",
       "    <tr>\n",
       "      <th>0</th>\n",
       "      <td>1701313</td>\n",
       "      <td>1699286</td>\n",
       "    </tr>\n",
       "  </tbody>\n",
       "</table>\n",
       "</div>"
      ],
      "text/plain": [
       "   num_mols_md  num_mols_cp\n",
       "0      1701313      1699286"
      ]
     },
     "execution_count": 33,
     "metadata": {},
     "output_type": "execute_result"
    }
   ],
   "source": [
    "response5c = ebi_chembl.query_to_pandas_safe(q5c)\n",
    "response5c"
   ]
  },
  {
   "cell_type": "markdown",
   "metadata": {},
   "source": [
    "## Target info"
   ]
  },
  {
   "cell_type": "code",
   "execution_count": 49,
   "metadata": {},
   "outputs": [
    {
     "data": {
      "text/plain": [
       "0.289852699264884"
      ]
     },
     "execution_count": 49,
     "metadata": {},
     "output_type": "execute_result"
    }
   ],
   "source": [
    "# There could be >1 target per molecule. use ARRAY_AGG\n",
    "q8b = \"\"\"\n",
    "SELECT md.molregno as molecule_key, ANY_VALUE(md.pref_name) as molecule_name, \n",
    "    ARRAY_AGG(STRUCT(t.pref_name as name, t.parent_type as class, t.organism as organism, \n",
    "                t.tax_id as tax_id)) AS target,\n",
    "    COUNT(t.tid) as num_targets\n",
    "FROM `patents-public-data.ebi_chembl.molecule_dictionary_24` as md\n",
    "LEFT JOIN(\n",
    "    SELECT td.pref_name, tt.parent_type, td.organism, td.tax_id,\n",
    "        act.molregno, td.tid\n",
    "    FROM `patents-public-data.ebi_chembl.target_dictionary_24` AS td\n",
    "    JOIN `patents-public-data.ebi_chembl.target_type_24` AS tt ON td.target_type = tt.target_type\n",
    "    JOIN `patents-public-data.ebi_chembl.assays_24` AS a ON a.tid = td.tid\n",
    "    JOIN `patents-public-data.ebi_chembl.activities_24` AS act ON act.assay_id = a.assay_id\n",
    "    ) as t\n",
    "ON t.molregno = md.molregno\n",
    "WHERE md.molecule_type = 'Small molecule'\n",
    "GROUP BY md.molregno\n",
    "        \"\"\"\n",
    "ebi_chembl.estimate_query_size(q8b)"
   ]
  },
  {
   "cell_type": "code",
   "execution_count": 50,
   "metadata": {},
   "outputs": [
    {
     "data": {
      "text/html": [
       "<div>\n",
       "<style scoped>\n",
       "    .dataframe tbody tr th:only-of-type {\n",
       "        vertical-align: middle;\n",
       "    }\n",
       "\n",
       "    .dataframe tbody tr th {\n",
       "        vertical-align: top;\n",
       "    }\n",
       "\n",
       "    .dataframe thead th {\n",
       "        text-align: right;\n",
       "    }\n",
       "</style>\n",
       "<table border=\"1\" class=\"dataframe\">\n",
       "  <thead>\n",
       "    <tr style=\"text-align: right;\">\n",
       "      <th></th>\n",
       "      <th>molecule_key</th>\n",
       "      <th>molecule_name</th>\n",
       "      <th>target</th>\n",
       "      <th>num_targets</th>\n",
       "    </tr>\n",
       "  </thead>\n",
       "  <tbody>\n",
       "    <tr>\n",
       "      <th>0</th>\n",
       "      <td>1006305</td>\n",
       "      <td>None</td>\n",
       "      <td>[{'name': 'Plasmodium falciparum', 'class': 'N...</td>\n",
       "      <td>6</td>\n",
       "    </tr>\n",
       "    <tr>\n",
       "      <th>1</th>\n",
       "      <td>1006435</td>\n",
       "      <td>None</td>\n",
       "      <td>[{'name': 'Cellular tumor antigen p53', 'class...</td>\n",
       "      <td>18</td>\n",
       "    </tr>\n",
       "    <tr>\n",
       "      <th>2</th>\n",
       "      <td>1006551</td>\n",
       "      <td>None</td>\n",
       "      <td>[{'name': 'Chromobox protein homolog 1', 'clas...</td>\n",
       "      <td>4</td>\n",
       "    </tr>\n",
       "    <tr>\n",
       "      <th>3</th>\n",
       "      <td>1006602</td>\n",
       "      <td>None</td>\n",
       "      <td>[{'name': 'Unchecked', 'class': 'UNDEFINED', '...</td>\n",
       "      <td>7</td>\n",
       "    </tr>\n",
       "    <tr>\n",
       "      <th>4</th>\n",
       "      <td>1006685</td>\n",
       "      <td>None</td>\n",
       "      <td>[{'name': 'Mothers against decapentaplegic hom...</td>\n",
       "      <td>18</td>\n",
       "    </tr>\n",
       "  </tbody>\n",
       "</table>\n",
       "</div>"
      ],
      "text/plain": [
       "  molecule_key molecule_name  \\\n",
       "0      1006305          None   \n",
       "1      1006435          None   \n",
       "2      1006551          None   \n",
       "3      1006602          None   \n",
       "4      1006685          None   \n",
       "\n",
       "                                              target  num_targets  \n",
       "0  [{'name': 'Plasmodium falciparum', 'class': 'N...            6  \n",
       "1  [{'name': 'Cellular tumor antigen p53', 'class...           18  \n",
       "2  [{'name': 'Chromobox protein homolog 1', 'clas...            4  \n",
       "3  [{'name': 'Unchecked', 'class': 'UNDEFINED', '...            7  \n",
       "4  [{'name': 'Mothers against decapentaplegic hom...           18  "
      ]
     },
     "execution_count": 50,
     "metadata": {},
     "output_type": "execute_result"
    }
   ],
   "source": [
    "response8b = ebi_chembl.query_to_pandas_safe(q8b)\n",
    "response8b.head()"
   ]
  },
  {
   "cell_type": "code",
   "execution_count": 73,
   "metadata": {},
   "outputs": [
    {
     "data": {
      "text/plain": [
       "1701313"
      ]
     },
     "execution_count": 73,
     "metadata": {},
     "output_type": "execute_result"
    }
   ],
   "source": [
    "len(response8b)"
   ]
  },
  {
   "cell_type": "markdown",
   "metadata": {},
   "source": [
    "A wide variety in number of targets by molecule -- this will be a good numerical feature to include:"
   ]
  },
  {
   "cell_type": "code",
   "execution_count": 49,
   "metadata": {},
   "outputs": [
    {
     "data": {
      "text/plain": [
       "count    1.701313e+06\n",
       "mean     8.693708e+00\n",
       "std      4.483590e+01\n",
       "min      0.000000e+00\n",
       "25%      2.000000e+00\n",
       "50%      4.000000e+00\n",
       "75%      8.000000e+00\n",
       "max      1.557700e+04\n",
       "Name: num_targets, dtype: float64"
      ]
     },
     "execution_count": 49,
     "metadata": {},
     "output_type": "execute_result"
    }
   ],
   "source": [
    "response8b['num_targets'].describe()"
   ]
  },
  {
   "cell_type": "markdown",
   "metadata": {},
   "source": [
    "#### \"Extract\" target class info"
   ]
  },
  {
   "cell_type": "code",
   "execution_count": 51,
   "metadata": {},
   "outputs": [],
   "source": [
    "df = response8b"
   ]
  },
  {
   "cell_type": "code",
   "execution_count": 84,
   "metadata": {
    "collapsed": true
   },
   "outputs": [
    {
     "ename": "NameError",
     "evalue": "name 'row' is not defined",
     "output_type": "error",
     "traceback": [
      "\u001b[0;31m---------------------------------------------------------------------------\u001b[0m",
      "\u001b[0;31mNameError\u001b[0m                                 Traceback (most recent call last)",
      "\u001b[0;32m<ipython-input-84-2366ebe72db8>\u001b[0m in \u001b[0;36m<module>\u001b[0;34m\u001b[0m\n\u001b[0;32m----> 1\u001b[0;31m \u001b[0mdf\u001b[0m\u001b[0;34m[\u001b[0m\u001b[0;34m'target_class'\u001b[0m\u001b[0;34m]\u001b[0m \u001b[0;34m=\u001b[0m \u001b[0mdf\u001b[0m\u001b[0;34m[\u001b[0m\u001b[0;34m'target'\u001b[0m\u001b[0;34m]\u001b[0m\u001b[0;34m.\u001b[0m\u001b[0mapply\u001b[0m\u001b[0;34m(\u001b[0m\u001b[0mx\u001b[0m\u001b[0;34m[\u001b[0m\u001b[0;34m'class'\u001b[0m\u001b[0;34m]\u001b[0m \u001b[0;32mfor\u001b[0m \u001b[0mx\u001b[0m \u001b[0;32min\u001b[0m \u001b[0mrow\u001b[0m\u001b[0;34m)\u001b[0m\u001b[0;34m\u001b[0m\u001b[0m\n\u001b[0m",
      "\u001b[0;31mNameError\u001b[0m: name 'row' is not defined"
     ]
    }
   ],
   "source": [
    "# df['target_class'] = df['target'].apply(x['class'] for x in row)\n",
    "df['classes_extracted'] = df['target'].apply(lambda struct: list(set([x['class'] for x in struct])))\n",
    "df['orgs_extracted'] = df['target'].apply(lambda struct: list(set([x['organism'] for x in struct])))\n",
    "df['org_ids_extracted'] = df['target'].apply(lambda struct: list(set([x['tax_id'] for x in struct])))\n",
    "df['classes_extracted2'] = df['classes_extracted'].apply(lambda x: ','.join(list(filter(lambda y: y != None, x))))\n",
    "df['human_target'] = df['org_ids_extracted'].apply(lambda x: 1 if '9606' in x else 0)"
   ]
  },
  {
   "cell_type": "code",
   "execution_count": 86,
   "metadata": {},
   "outputs": [
    {
     "data": {
      "text/html": [
       "<div>\n",
       "<style scoped>\n",
       "    .dataframe tbody tr th:only-of-type {\n",
       "        vertical-align: middle;\n",
       "    }\n",
       "\n",
       "    .dataframe tbody tr th {\n",
       "        vertical-align: top;\n",
       "    }\n",
       "\n",
       "    .dataframe thead th {\n",
       "        text-align: right;\n",
       "    }\n",
       "</style>\n",
       "<table border=\"1\" class=\"dataframe\">\n",
       "  <thead>\n",
       "    <tr style=\"text-align: right;\">\n",
       "      <th></th>\n",
       "      <th>molecule_key</th>\n",
       "      <th>molecule_name</th>\n",
       "      <th>target</th>\n",
       "      <th>num_targets</th>\n",
       "      <th>classes_extracted</th>\n",
       "      <th>orgs_extracted</th>\n",
       "      <th>org_ids_extracted</th>\n",
       "      <th>classes_extracted2</th>\n",
       "      <th>human_target</th>\n",
       "    </tr>\n",
       "  </thead>\n",
       "  <tbody>\n",
       "    <tr>\n",
       "      <th>0</th>\n",
       "      <td>1006305</td>\n",
       "      <td>None</td>\n",
       "      <td>[{'name': 'Plasmodium falciparum', 'class': 'N...</td>\n",
       "      <td>6</td>\n",
       "      <td>[UNDEFINED, NON-MOLECULAR, PROTEIN]</td>\n",
       "      <td>[None, Plasmodium falciparum, Homo sapiens]</td>\n",
       "      <td>[9606, 5833, None]</td>\n",
       "      <td>UNDEFINED,NON-MOLECULAR,PROTEIN</td>\n",
       "      <td>1</td>\n",
       "    </tr>\n",
       "    <tr>\n",
       "      <th>1</th>\n",
       "      <td>1006435</td>\n",
       "      <td>None</td>\n",
       "      <td>[{'name': 'Cellular tumor antigen p53', 'class...</td>\n",
       "      <td>18</td>\n",
       "      <td>[UNDEFINED, MOLECULAR, PROTEIN]</td>\n",
       "      <td>[Photinus pyralis, None, Homo sapiens]</td>\n",
       "      <td>[9606, None, 7054]</td>\n",
       "      <td>UNDEFINED,MOLECULAR,PROTEIN</td>\n",
       "      <td>1</td>\n",
       "    </tr>\n",
       "    <tr>\n",
       "      <th>2</th>\n",
       "      <td>1006551</td>\n",
       "      <td>None</td>\n",
       "      <td>[{'name': 'Chromobox protein homolog 1', 'clas...</td>\n",
       "      <td>4</td>\n",
       "      <td>[PROTEIN]</td>\n",
       "      <td>[Human immunodeficiency virus 1, Homo sapiens]</td>\n",
       "      <td>[9606, 11676]</td>\n",
       "      <td>PROTEIN</td>\n",
       "      <td>1</td>\n",
       "    </tr>\n",
       "    <tr>\n",
       "      <th>3</th>\n",
       "      <td>1006602</td>\n",
       "      <td>None</td>\n",
       "      <td>[{'name': 'Unchecked', 'class': 'UNDEFINED', '...</td>\n",
       "      <td>7</td>\n",
       "      <td>[UNDEFINED, NON-MOLECULAR, PROTEIN]</td>\n",
       "      <td>[Homo sapiens, Plasmodium falciparum, None]</td>\n",
       "      <td>[9606, 5833, None]</td>\n",
       "      <td>UNDEFINED,NON-MOLECULAR,PROTEIN</td>\n",
       "      <td>1</td>\n",
       "    </tr>\n",
       "    <tr>\n",
       "      <th>4</th>\n",
       "      <td>1006685</td>\n",
       "      <td>None</td>\n",
       "      <td>[{'name': 'Mothers against decapentaplegic hom...</td>\n",
       "      <td>18</td>\n",
       "      <td>[UNDEFINED, NON-MOLECULAR, PROTEIN]</td>\n",
       "      <td>[Mus musculus, Plasmodium falciparum, Bacillus...</td>\n",
       "      <td>[10090, 9606, None, 1423, 5833, 10116]</td>\n",
       "      <td>UNDEFINED,NON-MOLECULAR,PROTEIN</td>\n",
       "      <td>1</td>\n",
       "    </tr>\n",
       "  </tbody>\n",
       "</table>\n",
       "</div>"
      ],
      "text/plain": [
       "  molecule_key molecule_name  \\\n",
       "0      1006305          None   \n",
       "1      1006435          None   \n",
       "2      1006551          None   \n",
       "3      1006602          None   \n",
       "4      1006685          None   \n",
       "\n",
       "                                              target  num_targets  \\\n",
       "0  [{'name': 'Plasmodium falciparum', 'class': 'N...            6   \n",
       "1  [{'name': 'Cellular tumor antigen p53', 'class...           18   \n",
       "2  [{'name': 'Chromobox protein homolog 1', 'clas...            4   \n",
       "3  [{'name': 'Unchecked', 'class': 'UNDEFINED', '...            7   \n",
       "4  [{'name': 'Mothers against decapentaplegic hom...           18   \n",
       "\n",
       "                     classes_extracted  \\\n",
       "0  [UNDEFINED, NON-MOLECULAR, PROTEIN]   \n",
       "1      [UNDEFINED, MOLECULAR, PROTEIN]   \n",
       "2                            [PROTEIN]   \n",
       "3  [UNDEFINED, NON-MOLECULAR, PROTEIN]   \n",
       "4  [UNDEFINED, NON-MOLECULAR, PROTEIN]   \n",
       "\n",
       "                                      orgs_extracted  \\\n",
       "0        [None, Plasmodium falciparum, Homo sapiens]   \n",
       "1             [Photinus pyralis, None, Homo sapiens]   \n",
       "2     [Human immunodeficiency virus 1, Homo sapiens]   \n",
       "3        [Homo sapiens, Plasmodium falciparum, None]   \n",
       "4  [Mus musculus, Plasmodium falciparum, Bacillus...   \n",
       "\n",
       "                        org_ids_extracted               classes_extracted2  \\\n",
       "0                      [9606, 5833, None]  UNDEFINED,NON-MOLECULAR,PROTEIN   \n",
       "1                      [9606, None, 7054]      UNDEFINED,MOLECULAR,PROTEIN   \n",
       "2                           [9606, 11676]                          PROTEIN   \n",
       "3                      [9606, 5833, None]  UNDEFINED,NON-MOLECULAR,PROTEIN   \n",
       "4  [10090, 9606, None, 1423, 5833, 10116]  UNDEFINED,NON-MOLECULAR,PROTEIN   \n",
       "\n",
       "   human_target  \n",
       "0             1  \n",
       "1             1  \n",
       "2             1  \n",
       "3             1  \n",
       "4             1  "
      ]
     },
     "execution_count": 86,
     "metadata": {},
     "output_type": "execute_result"
    }
   ],
   "source": [
    "df.head()"
   ]
  },
  {
   "cell_type": "markdown",
   "metadata": {},
   "source": [
    "Performed the following after the dataframe had been saved. Note: When saving as a .csv, the lists become one large string, so \"extracting\" becomes a Regex manipulation. Would have been better to pickle the dataframe."
   ]
  },
  {
   "cell_type": "code",
   "execution_count": 3,
   "metadata": {},
   "outputs": [],
   "source": [
    "# df.to_csv('Data/molecule_target_agg_query.csv')\n",
    "df = pd.read_csv('Data/molecule_target_agg_query.csv')\n",
    "# u.pkl_this('Data/molecule_target_agg_query.pkl', df)\n",
    "# df = u.open_pkl('Data/molecule_target_agg_query.pkl')"
   ]
  },
  {
   "cell_type": "code",
   "execution_count": 11,
   "metadata": {},
   "outputs": [],
   "source": [
    "df['num_target_organisms'] = df['org_ids_extracted'].apply(lambda x: len(x.split(',')))"
   ]
  },
  {
   "cell_type": "code",
   "execution_count": 12,
   "metadata": {},
   "outputs": [
    {
     "data": {
      "text/html": [
       "<div>\n",
       "<style scoped>\n",
       "    .dataframe tbody tr th:only-of-type {\n",
       "        vertical-align: middle;\n",
       "    }\n",
       "\n",
       "    .dataframe tbody tr th {\n",
       "        vertical-align: top;\n",
       "    }\n",
       "\n",
       "    .dataframe thead th {\n",
       "        text-align: right;\n",
       "    }\n",
       "</style>\n",
       "<table border=\"1\" class=\"dataframe\">\n",
       "  <thead>\n",
       "    <tr style=\"text-align: right;\">\n",
       "      <th></th>\n",
       "      <th>Unnamed: 0</th>\n",
       "      <th>molecule_key</th>\n",
       "      <th>molecule_name</th>\n",
       "      <th>target</th>\n",
       "      <th>num_targets</th>\n",
       "      <th>org_ids_extracted</th>\n",
       "      <th>classes_extracted2</th>\n",
       "      <th>human_target</th>\n",
       "      <th>num_target_organisms</th>\n",
       "    </tr>\n",
       "  </thead>\n",
       "  <tbody>\n",
       "    <tr>\n",
       "      <th>0</th>\n",
       "      <td>0</td>\n",
       "      <td>1006305</td>\n",
       "      <td>NaN</td>\n",
       "      <td>[{'name': 'Plasmodium falciparum', 'class': 'N...</td>\n",
       "      <td>6</td>\n",
       "      <td>['9606', '5833', None]</td>\n",
       "      <td>UNDEFINED,NON-MOLECULAR,PROTEIN</td>\n",
       "      <td>1</td>\n",
       "      <td>3</td>\n",
       "    </tr>\n",
       "    <tr>\n",
       "      <th>1</th>\n",
       "      <td>1</td>\n",
       "      <td>1006435</td>\n",
       "      <td>NaN</td>\n",
       "      <td>[{'name': 'Cellular tumor antigen p53', 'class...</td>\n",
       "      <td>18</td>\n",
       "      <td>['9606', None, '7054']</td>\n",
       "      <td>UNDEFINED,MOLECULAR,PROTEIN</td>\n",
       "      <td>1</td>\n",
       "      <td>3</td>\n",
       "    </tr>\n",
       "    <tr>\n",
       "      <th>2</th>\n",
       "      <td>2</td>\n",
       "      <td>1006551</td>\n",
       "      <td>NaN</td>\n",
       "      <td>[{'name': 'Chromobox protein homolog 1', 'clas...</td>\n",
       "      <td>4</td>\n",
       "      <td>['9606', '11676']</td>\n",
       "      <td>PROTEIN</td>\n",
       "      <td>1</td>\n",
       "      <td>2</td>\n",
       "    </tr>\n",
       "    <tr>\n",
       "      <th>3</th>\n",
       "      <td>3</td>\n",
       "      <td>1006602</td>\n",
       "      <td>NaN</td>\n",
       "      <td>[{'name': 'Unchecked', 'class': 'UNDEFINED', '...</td>\n",
       "      <td>7</td>\n",
       "      <td>['9606', '5833', None]</td>\n",
       "      <td>UNDEFINED,NON-MOLECULAR,PROTEIN</td>\n",
       "      <td>1</td>\n",
       "      <td>3</td>\n",
       "    </tr>\n",
       "    <tr>\n",
       "      <th>4</th>\n",
       "      <td>4</td>\n",
       "      <td>1006685</td>\n",
       "      <td>NaN</td>\n",
       "      <td>[{'name': 'Mothers against decapentaplegic hom...</td>\n",
       "      <td>18</td>\n",
       "      <td>['10090', '9606', None, '1423', '5833', '10116']</td>\n",
       "      <td>UNDEFINED,NON-MOLECULAR,PROTEIN</td>\n",
       "      <td>1</td>\n",
       "      <td>6</td>\n",
       "    </tr>\n",
       "  </tbody>\n",
       "</table>\n",
       "</div>"
      ],
      "text/plain": [
       "   Unnamed: 0  molecule_key molecule_name  \\\n",
       "0           0       1006305           NaN   \n",
       "1           1       1006435           NaN   \n",
       "2           2       1006551           NaN   \n",
       "3           3       1006602           NaN   \n",
       "4           4       1006685           NaN   \n",
       "\n",
       "                                              target  num_targets  \\\n",
       "0  [{'name': 'Plasmodium falciparum', 'class': 'N...            6   \n",
       "1  [{'name': 'Cellular tumor antigen p53', 'class...           18   \n",
       "2  [{'name': 'Chromobox protein homolog 1', 'clas...            4   \n",
       "3  [{'name': 'Unchecked', 'class': 'UNDEFINED', '...            7   \n",
       "4  [{'name': 'Mothers against decapentaplegic hom...           18   \n",
       "\n",
       "                                  org_ids_extracted  \\\n",
       "0                            ['9606', '5833', None]   \n",
       "1                            ['9606', None, '7054']   \n",
       "2                                 ['9606', '11676']   \n",
       "3                            ['9606', '5833', None]   \n",
       "4  ['10090', '9606', None, '1423', '5833', '10116']   \n",
       "\n",
       "                classes_extracted2  human_target  num_target_organisms  \n",
       "0  UNDEFINED,NON-MOLECULAR,PROTEIN             1                     3  \n",
       "1      UNDEFINED,MOLECULAR,PROTEIN             1                     3  \n",
       "2                          PROTEIN             1                     2  \n",
       "3  UNDEFINED,NON-MOLECULAR,PROTEIN             1                     3  \n",
       "4  UNDEFINED,NON-MOLECULAR,PROTEIN             1                     6  "
      ]
     },
     "execution_count": 12,
     "metadata": {},
     "output_type": "execute_result"
    }
   ],
   "source": [
    "df.head()"
   ]
  },
  {
   "cell_type": "code",
   "execution_count": 17,
   "metadata": {},
   "outputs": [],
   "source": [
    "df.to_csv('Data/molecule_target_agg_query.csv', index=False)\n",
    "# df = pd.read_csv('Data/molecule_target_agg_query.csv')\n",
    "\n",
    "u.pkl_this('Data/molecule_target_agg_query.pkl', df)\n",
    "# df = u.open_pkl('Data/molecule_target_agg_query.pkl')"
   ]
  },
  {
   "cell_type": "markdown",
   "metadata": {},
   "source": [
    "Run query again, include target_id"
   ]
  },
  {
   "cell_type": "code",
   "execution_count": 109,
   "metadata": {},
   "outputs": [
    {
     "data": {
      "text/plain": [
       "0.28927554097026587"
      ]
     },
     "execution_count": 109,
     "metadata": {},
     "output_type": "execute_result"
    }
   ],
   "source": [
    "# run this again, include target_id\n",
    "q8f = \"\"\"\n",
    "SELECT md.molregno as molecule_key, ANY_VALUE(md.pref_name) as molecule_name, \n",
    "    ARRAY_AGG(STRUCT(t.tid)) as target_ids,\n",
    "    COUNT(t.tid) as num_targets\n",
    "FROM `patents-public-data.ebi_chembl.molecule_dictionary_24` as md\n",
    "LEFT JOIN(\n",
    "    SELECT act.molregno, td.tid\n",
    "    FROM `patents-public-data.ebi_chembl.target_dictionary_24` AS td\n",
    "    JOIN `patents-public-data.ebi_chembl.target_type_24` AS tt ON td.target_type = tt.target_type\n",
    "    JOIN `patents-public-data.ebi_chembl.assays_24` AS a ON a.tid = td.tid\n",
    "    JOIN `patents-public-data.ebi_chembl.activities_24` AS act ON act.assay_id = a.assay_id\n",
    "    ) as t\n",
    "ON t.molregno = md.molregno\n",
    "WHERE md.molecule_type = 'Small molecule'\n",
    "GROUP BY md.molregno\n",
    "        \"\"\"\n",
    "ebi_chembl.estimate_query_size(q8f)\n"
   ]
  },
  {
   "cell_type": "code",
   "execution_count": 110,
   "metadata": {},
   "outputs": [],
   "source": [
    "response8f = ebi_chembl.query_to_pandas_safe(q8f)"
   ]
  },
  {
   "cell_type": "code",
   "execution_count": 111,
   "metadata": {},
   "outputs": [
    {
     "data": {
      "text/html": [
       "<div>\n",
       "<style scoped>\n",
       "    .dataframe tbody tr th:only-of-type {\n",
       "        vertical-align: middle;\n",
       "    }\n",
       "\n",
       "    .dataframe tbody tr th {\n",
       "        vertical-align: top;\n",
       "    }\n",
       "\n",
       "    .dataframe thead th {\n",
       "        text-align: right;\n",
       "    }\n",
       "</style>\n",
       "<table border=\"1\" class=\"dataframe\">\n",
       "  <thead>\n",
       "    <tr style=\"text-align: right;\">\n",
       "      <th></th>\n",
       "      <th>molecule_key</th>\n",
       "      <th>molecule_name</th>\n",
       "      <th>target_ids</th>\n",
       "      <th>num_targets</th>\n",
       "    </tr>\n",
       "  </thead>\n",
       "  <tbody>\n",
       "    <tr>\n",
       "      <th>0</th>\n",
       "      <td>300022</td>\n",
       "      <td>CARBOPLATIN</td>\n",
       "      <td>[{'tid': '22226'}, {'tid': '22226'}, {'tid': '...</td>\n",
       "      <td>2516</td>\n",
       "    </tr>\n",
       "    <tr>\n",
       "      <th>1</th>\n",
       "      <td>193323</td>\n",
       "      <td>Platinum complex II</td>\n",
       "      <td>[{'tid': '80156'}, {'tid': '80697'}, {'tid': '...</td>\n",
       "      <td>25</td>\n",
       "    </tr>\n",
       "    <tr>\n",
       "      <th>2</th>\n",
       "      <td>1286173</td>\n",
       "      <td>None</td>\n",
       "      <td>[{'tid': '81123'}, {'tid': '81322'}, {'tid': '...</td>\n",
       "      <td>57</td>\n",
       "    </tr>\n",
       "    <tr>\n",
       "      <th>3</th>\n",
       "      <td>1291449</td>\n",
       "      <td>None</td>\n",
       "      <td>[{'tid': '80354'}, {'tid': '80560'}, {'tid': '...</td>\n",
       "      <td>44</td>\n",
       "    </tr>\n",
       "    <tr>\n",
       "      <th>4</th>\n",
       "      <td>1292975</td>\n",
       "      <td>None</td>\n",
       "      <td>[{'tid': '80186'}, {'tid': '80575'}, {'tid': '...</td>\n",
       "      <td>57</td>\n",
       "    </tr>\n",
       "  </tbody>\n",
       "</table>\n",
       "</div>"
      ],
      "text/plain": [
       "  molecule_key        molecule_name  \\\n",
       "0       300022          CARBOPLATIN   \n",
       "1       193323  Platinum complex II   \n",
       "2      1286173                 None   \n",
       "3      1291449                 None   \n",
       "4      1292975                 None   \n",
       "\n",
       "                                          target_ids  num_targets  \n",
       "0  [{'tid': '22226'}, {'tid': '22226'}, {'tid': '...         2516  \n",
       "1  [{'tid': '80156'}, {'tid': '80697'}, {'tid': '...           25  \n",
       "2  [{'tid': '81123'}, {'tid': '81322'}, {'tid': '...           57  \n",
       "3  [{'tid': '80354'}, {'tid': '80560'}, {'tid': '...           44  \n",
       "4  [{'tid': '80186'}, {'tid': '80575'}, {'tid': '...           57  "
      ]
     },
     "execution_count": 111,
     "metadata": {},
     "output_type": "execute_result"
    }
   ],
   "source": [
    "response8f.head()"
   ]
  },
  {
   "cell_type": "code",
   "execution_count": 112,
   "metadata": {},
   "outputs": [],
   "source": [
    "df2 = response8f\n",
    "df2['target_ids_extracted'] = df2['target_ids'].apply(lambda struct: list(set([x['tid'] for x in struct])))\n",
    "df3 = pd.merge(df, df2[['molecule_key', 'target_ids_extracted']], on='molecule_key')"
   ]
  },
  {
   "cell_type": "code",
   "execution_count": 124,
   "metadata": {},
   "outputs": [
    {
     "data": {
      "text/html": [
       "<div>\n",
       "<style scoped>\n",
       "    .dataframe tbody tr th:only-of-type {\n",
       "        vertical-align: middle;\n",
       "    }\n",
       "\n",
       "    .dataframe tbody tr th {\n",
       "        vertical-align: top;\n",
       "    }\n",
       "\n",
       "    .dataframe thead th {\n",
       "        text-align: right;\n",
       "    }\n",
       "</style>\n",
       "<table border=\"1\" class=\"dataframe\">\n",
       "  <thead>\n",
       "    <tr style=\"text-align: right;\">\n",
       "      <th></th>\n",
       "      <th>molecule_key</th>\n",
       "      <th>molecule_name</th>\n",
       "      <th>target</th>\n",
       "      <th>num_targets</th>\n",
       "      <th>classes_extracted</th>\n",
       "      <th>orgs_extracted</th>\n",
       "      <th>org_ids_extracted</th>\n",
       "      <th>target_ids_extracted</th>\n",
       "    </tr>\n",
       "  </thead>\n",
       "  <tbody>\n",
       "    <tr>\n",
       "      <th>0</th>\n",
       "      <td>674297</td>\n",
       "      <td>GADODIAMIDE</td>\n",
       "      <td>[{'name': 'Hepatotoxicity', 'class': 'NON-MOLE...</td>\n",
       "      <td>14</td>\n",
       "      <td>[NON-MOLECULAR]</td>\n",
       "      <td>[None]</td>\n",
       "      <td>[None]</td>\n",
       "      <td>[103956]</td>\n",
       "    </tr>\n",
       "    <tr>\n",
       "      <th>1</th>\n",
       "      <td>1381264</td>\n",
       "      <td>CARBOMER 1342</td>\n",
       "      <td>[{'name': None, 'class': None, 'organism': Non...</td>\n",
       "      <td>0</td>\n",
       "      <td>[None]</td>\n",
       "      <td>[None]</td>\n",
       "      <td>[None]</td>\n",
       "      <td>[None]</td>\n",
       "    </tr>\n",
       "    <tr>\n",
       "      <th>2</th>\n",
       "      <td>1592377</td>\n",
       "      <td>ETIRINOTECAN PEGOL TETRAHYDROCHLORIDE</td>\n",
       "      <td>[{'name': None, 'class': None, 'organism': Non...</td>\n",
       "      <td>0</td>\n",
       "      <td>[None]</td>\n",
       "      <td>[None]</td>\n",
       "      <td>[None]</td>\n",
       "      <td>[None]</td>\n",
       "    </tr>\n",
       "    <tr>\n",
       "      <th>3</th>\n",
       "      <td>1926850</td>\n",
       "      <td>MK-8353</td>\n",
       "      <td>[{'name': None, 'class': None, 'organism': Non...</td>\n",
       "      <td>0</td>\n",
       "      <td>[None]</td>\n",
       "      <td>[None]</td>\n",
       "      <td>[None]</td>\n",
       "      <td>[None]</td>\n",
       "    </tr>\n",
       "    <tr>\n",
       "      <th>4</th>\n",
       "      <td>1927022</td>\n",
       "      <td>IRX4310</td>\n",
       "      <td>[{'name': None, 'class': None, 'organism': Non...</td>\n",
       "      <td>0</td>\n",
       "      <td>[None]</td>\n",
       "      <td>[None]</td>\n",
       "      <td>[None]</td>\n",
       "      <td>[None]</td>\n",
       "    </tr>\n",
       "  </tbody>\n",
       "</table>\n",
       "</div>"
      ],
      "text/plain": [
       "  molecule_key                          molecule_name  \\\n",
       "0       674297                            GADODIAMIDE   \n",
       "1      1381264                          CARBOMER 1342   \n",
       "2      1592377  ETIRINOTECAN PEGOL TETRAHYDROCHLORIDE   \n",
       "3      1926850                                MK-8353   \n",
       "4      1927022                                IRX4310   \n",
       "\n",
       "                                              target  num_targets  \\\n",
       "0  [{'name': 'Hepatotoxicity', 'class': 'NON-MOLE...           14   \n",
       "1  [{'name': None, 'class': None, 'organism': Non...            0   \n",
       "2  [{'name': None, 'class': None, 'organism': Non...            0   \n",
       "3  [{'name': None, 'class': None, 'organism': Non...            0   \n",
       "4  [{'name': None, 'class': None, 'organism': Non...            0   \n",
       "\n",
       "  classes_extracted orgs_extracted org_ids_extracted target_ids_extracted  \n",
       "0   [NON-MOLECULAR]         [None]            [None]             [103956]  \n",
       "1            [None]         [None]            [None]               [None]  \n",
       "2            [None]         [None]            [None]               [None]  \n",
       "3            [None]         [None]            [None]               [None]  \n",
       "4            [None]         [None]            [None]               [None]  "
      ]
     },
     "execution_count": 124,
     "metadata": {},
     "output_type": "execute_result"
    }
   ],
   "source": [
    "df3.head()"
   ]
  },
  {
   "cell_type": "code",
   "execution_count": 51,
   "metadata": {},
   "outputs": [],
   "source": [
    "# if run again, pickle instead!\n",
    "\n",
    "# df3.to_csv('Data/molecule_target_agg_query.csv')\n",
    "df3 = pd.read_csv('Data/molecule_target_agg_query.csv', index=False)\n",
    "\n",
    "# for export into model:\n",
    "df4 = df3.drop(columns=['Unnamed: 0', 'classes_extracted', 'orgs_extracted'])\n",
    "df4.to_csv('Data/molecule_target_agg_query.csv')"
   ]
  },
  {
   "cell_type": "markdown",
   "metadata": {},
   "source": [
    "### Now the reverse:\n",
    "How many molecules per target? (This was an example of me wasting time on a feature I didn't end up using.)"
   ]
  },
  {
   "cell_type": "code",
   "execution_count": 10,
   "metadata": {},
   "outputs": [
    {
     "data": {
      "text/plain": [
       "0.28901479206979275"
      ]
     },
     "execution_count": 10,
     "metadata": {},
     "output_type": "execute_result"
    }
   ],
   "source": [
    "q9 = \"\"\"\n",
    "SELECT td.tid, ANY_VALUE(td.pref_name) as target_name, ANY_VALUE(td.target_type) as target_type, \n",
    "    ANY_VALUE(tt.parent_type) as target_class, ANY_VALUE(td.organism) as target_organsim, \n",
    "    ARRAY_AGG(DISTINCT md.molregno) as molecule_key, \n",
    "    COUNT(md.molregno) as num_molecules\n",
    "FROM `patents-public-data.ebi_chembl.target_dictionary_24` AS td\n",
    "JOIN `patents-public-data.ebi_chembl.target_type_24` AS tt ON td.target_type = tt.target_type\n",
    "JOIN `patents-public-data.ebi_chembl.assays_24` AS a ON a.tid = td.tid\n",
    "JOIN `patents-public-data.ebi_chembl.activities_24` AS act ON act.assay_id = a.assay_id\n",
    "JOIN `patents-public-data.ebi_chembl.molecule_dictionary_24` as md on act.molregno = md.molregno\n",
    "WHERE md.molecule_type = 'Small molecule'\n",
    "GROUP BY td.tid;\n",
    "        \"\"\"\n",
    "ebi_chembl.estimate_query_size(q9)"
   ]
  },
  {
   "cell_type": "code",
   "execution_count": 11,
   "metadata": {},
   "outputs": [],
   "source": [
    "response9 = ebi_chembl.query_to_pandas_safe(q9)"
   ]
  },
  {
   "cell_type": "code",
   "execution_count": 12,
   "metadata": {},
   "outputs": [
    {
     "data": {
      "text/html": [
       "<div>\n",
       "<style scoped>\n",
       "    .dataframe tbody tr th:only-of-type {\n",
       "        vertical-align: middle;\n",
       "    }\n",
       "\n",
       "    .dataframe tbody tr th {\n",
       "        vertical-align: top;\n",
       "    }\n",
       "\n",
       "    .dataframe thead th {\n",
       "        text-align: right;\n",
       "    }\n",
       "</style>\n",
       "<table border=\"1\" class=\"dataframe\">\n",
       "  <thead>\n",
       "    <tr style=\"text-align: right;\">\n",
       "      <th></th>\n",
       "      <th>tid</th>\n",
       "      <th>target_name</th>\n",
       "      <th>target_type</th>\n",
       "      <th>target_class</th>\n",
       "      <th>target_organsim</th>\n",
       "      <th>molecule_key</th>\n",
       "      <th>num_molecules</th>\n",
       "    </tr>\n",
       "  </thead>\n",
       "  <tbody>\n",
       "    <tr>\n",
       "      <th>0</th>\n",
       "      <td>100268</td>\n",
       "      <td>Ac2-L-Lys-D-Ala-D-Ala peptide</td>\n",
       "      <td>UNKNOWN</td>\n",
       "      <td>UNDEFINED</td>\n",
       "      <td>None</td>\n",
       "      <td>[1704101, 1704098, 130741, 129976, 1704099]</td>\n",
       "      <td>5</td>\n",
       "    </tr>\n",
       "    <tr>\n",
       "      <th>1</th>\n",
       "      <td>107942</td>\n",
       "      <td>TPR/MET fusion protein</td>\n",
       "      <td>CHIMERIC PROTEIN</td>\n",
       "      <td>PROTEIN</td>\n",
       "      <td>Mus musculus</td>\n",
       "      <td>[2083632, 2083644, 2083625, 2083642, 2083628, ...</td>\n",
       "      <td>51</td>\n",
       "    </tr>\n",
       "    <tr>\n",
       "      <th>2</th>\n",
       "      <td>104904</td>\n",
       "      <td>GABA-A receptor; benzodiazepine site</td>\n",
       "      <td>PROTEIN COMPLEX GROUP</td>\n",
       "      <td>PROTEIN</td>\n",
       "      <td>Homo sapiens</td>\n",
       "      <td>[335730]</td>\n",
       "      <td>3</td>\n",
       "    </tr>\n",
       "    <tr>\n",
       "      <th>3</th>\n",
       "      <td>100258</td>\n",
       "      <td>AF2 neuropeptide receptor</td>\n",
       "      <td>UNKNOWN</td>\n",
       "      <td>UNDEFINED</td>\n",
       "      <td>None</td>\n",
       "      <td>[72907, 73345, 73068, 72968, 73820, 72734, 738...</td>\n",
       "      <td>54</td>\n",
       "    </tr>\n",
       "    <tr>\n",
       "      <th>4</th>\n",
       "      <td>103779</td>\n",
       "      <td>Phospholipidosis</td>\n",
       "      <td>PHENOTYPE</td>\n",
       "      <td>NON-MOLECULAR</td>\n",
       "      <td>None</td>\n",
       "      <td>[86466, 130637, 371615, 675211, 230999, 8193, ...</td>\n",
       "      <td>928</td>\n",
       "    </tr>\n",
       "  </tbody>\n",
       "</table>\n",
       "</div>"
      ],
      "text/plain": [
       "      tid                           target_name            target_type  \\\n",
       "0  100268         Ac2-L-Lys-D-Ala-D-Ala peptide                UNKNOWN   \n",
       "1  107942                TPR/MET fusion protein       CHIMERIC PROTEIN   \n",
       "2  104904  GABA-A receptor; benzodiazepine site  PROTEIN COMPLEX GROUP   \n",
       "3  100258             AF2 neuropeptide receptor                UNKNOWN   \n",
       "4  103779                      Phospholipidosis              PHENOTYPE   \n",
       "\n",
       "    target_class target_organsim  \\\n",
       "0      UNDEFINED            None   \n",
       "1        PROTEIN    Mus musculus   \n",
       "2        PROTEIN    Homo sapiens   \n",
       "3      UNDEFINED            None   \n",
       "4  NON-MOLECULAR            None   \n",
       "\n",
       "                                        molecule_key  num_molecules  \n",
       "0        [1704101, 1704098, 130741, 129976, 1704099]              5  \n",
       "1  [2083632, 2083644, 2083625, 2083642, 2083628, ...             51  \n",
       "2                                           [335730]              3  \n",
       "3  [72907, 73345, 73068, 72968, 73820, 72734, 738...             54  \n",
       "4  [86466, 130637, 371615, 675211, 230999, 8193, ...            928  "
      ]
     },
     "execution_count": 12,
     "metadata": {},
     "output_type": "execute_result"
    }
   ],
   "source": [
    "response9.head()"
   ]
  },
  {
   "cell_type": "code",
   "execution_count": 13,
   "metadata": {},
   "outputs": [],
   "source": [
    "# response9.to_csv('Data/targets_num_molecules.csv')\n",
    "u.pkl_this('Data/targets_num_molecules.pkl', response9)"
   ]
  },
  {
   "cell_type": "code",
   "execution_count": 14,
   "metadata": {},
   "outputs": [
    {
     "data": {
      "text/plain": [
       "1     901\n",
       "2     600\n",
       "3     419\n",
       "4     362\n",
       "5     246\n",
       "6     245\n",
       "8     201\n",
       "7     179\n",
       "10    172\n",
       "12    161\n",
       "Name: num_molecules, dtype: int64"
      ]
     },
     "execution_count": 14,
     "metadata": {},
     "output_type": "execute_result"
    }
   ],
   "source": [
    "response9['num_molecules'].value_counts()[:10]"
   ]
  },
  {
   "cell_type": "code",
   "execution_count": 18,
   "metadata": {},
   "outputs": [
    {
     "name": "stdout",
     "output_type": "stream",
     "text": [
      "target_name: 9134\n",
      "target_type: 20\n",
      "target_class: 5\n",
      "target_organsim: 2427\n"
     ]
    }
   ],
   "source": [
    "for x in ['target_name', 'target_type', 'target_class', 'target_organsim']:\n",
    "    print(f'{x}: {len(response9[x].unique())}')"
   ]
  },
  {
   "cell_type": "markdown",
   "metadata": {},
   "source": [
    "## Assays"
   ]
  },
  {
   "cell_type": "markdown",
   "metadata": {},
   "source": [
    "How many assays per molecule?"
   ]
  },
  {
   "cell_type": "code",
   "execution_count": 5,
   "metadata": {},
   "outputs": [
    {
     "data": {
      "text/plain": [
       "0.41718792356550694"
      ]
     },
     "execution_count": 5,
     "metadata": {},
     "output_type": "execute_result"
    }
   ],
   "source": [
    "q10b = \"\"\"\n",
    "SELECT md.molregno as molecule_key, \n",
    "    ANY_VALUE(md.pref_name) as molecule_name, \n",
    "    COUNT(a.activity_id) as num_activities,\n",
    "    COUNT(DISTINCT a.assay_id) as num_assays,\n",
    "    ARRAY_AGG(STRUCT(a.assay_type)) as assay_types\n",
    "FROM `patents-public-data.ebi_chembl.molecule_dictionary_24` as md\n",
    "LEFT JOIN(\n",
    "    SELECT act.molregno, act.activity_id, asy.assay_id, asy.assay_type\n",
    "    FROM `patents-public-data.ebi_chembl.activities_24` AS act \n",
    "    JOIN `patents-public-data.ebi_chembl.assays_24` asy ON act.assay_id = asy.assay_id\n",
    "    ) as a\n",
    "ON a.molregno = md.molregno\n",
    "WHERE md.molecule_type = 'Small molecule'\n",
    "GROUP BY md.molregno\n",
    "        \"\"\"\n",
    "ebi_chembl.estimate_query_size(q10b)"
   ]
  },
  {
   "cell_type": "code",
   "execution_count": null,
   "metadata": {},
   "outputs": [],
   "source": [
    "act2 = ebi_chembl.query_to_pandas_safe(q10b)"
   ]
  },
  {
   "cell_type": "code",
   "execution_count": 10,
   "metadata": {},
   "outputs": [
    {
     "data": {
      "text/html": [
       "<div>\n",
       "<style scoped>\n",
       "    .dataframe tbody tr th:only-of-type {\n",
       "        vertical-align: middle;\n",
       "    }\n",
       "\n",
       "    .dataframe tbody tr th {\n",
       "        vertical-align: top;\n",
       "    }\n",
       "\n",
       "    .dataframe thead th {\n",
       "        text-align: right;\n",
       "    }\n",
       "</style>\n",
       "<table border=\"1\" class=\"dataframe\">\n",
       "  <thead>\n",
       "    <tr style=\"text-align: right;\">\n",
       "      <th></th>\n",
       "      <th>molecule_key</th>\n",
       "      <th>molecule_name</th>\n",
       "      <th>num_activities</th>\n",
       "      <th>num_assays</th>\n",
       "      <th>assay_types</th>\n",
       "    </tr>\n",
       "  </thead>\n",
       "  <tbody>\n",
       "    <tr>\n",
       "      <th>0</th>\n",
       "      <td>879433</td>\n",
       "      <td>None</td>\n",
       "      <td>38</td>\n",
       "      <td>38</td>\n",
       "      <td>[{'assay_type': 'F'}, {'assay_type': 'F'}, {'a...</td>\n",
       "    </tr>\n",
       "    <tr>\n",
       "      <th>1</th>\n",
       "      <td>1091202</td>\n",
       "      <td>None</td>\n",
       "      <td>104</td>\n",
       "      <td>104</td>\n",
       "      <td>[{'assay_type': 'F'}, {'assay_type': 'F'}, {'a...</td>\n",
       "    </tr>\n",
       "    <tr>\n",
       "      <th>2</th>\n",
       "      <td>828936</td>\n",
       "      <td>None</td>\n",
       "      <td>21</td>\n",
       "      <td>21</td>\n",
       "      <td>[{'assay_type': 'F'}, {'assay_type': 'F'}, {'a...</td>\n",
       "    </tr>\n",
       "    <tr>\n",
       "      <th>3</th>\n",
       "      <td>765698</td>\n",
       "      <td>None</td>\n",
       "      <td>23</td>\n",
       "      <td>23</td>\n",
       "      <td>[{'assay_type': 'F'}, {'assay_type': 'F'}, {'a...</td>\n",
       "    </tr>\n",
       "    <tr>\n",
       "      <th>4</th>\n",
       "      <td>1683361</td>\n",
       "      <td>None</td>\n",
       "      <td>23</td>\n",
       "      <td>23</td>\n",
       "      <td>[{'assay_type': 'F'}, {'assay_type': 'F'}, {'a...</td>\n",
       "    </tr>\n",
       "  </tbody>\n",
       "</table>\n",
       "</div>"
      ],
      "text/plain": [
       "  molecule_key molecule_name  num_activities  num_assays  \\\n",
       "0       879433          None              38          38   \n",
       "1      1091202          None             104         104   \n",
       "2       828936          None              21          21   \n",
       "3       765698          None              23          23   \n",
       "4      1683361          None              23          23   \n",
       "\n",
       "                                         assay_types  \n",
       "0  [{'assay_type': 'F'}, {'assay_type': 'F'}, {'a...  \n",
       "1  [{'assay_type': 'F'}, {'assay_type': 'F'}, {'a...  \n",
       "2  [{'assay_type': 'F'}, {'assay_type': 'F'}, {'a...  \n",
       "3  [{'assay_type': 'F'}, {'assay_type': 'F'}, {'a...  \n",
       "4  [{'assay_type': 'F'}, {'assay_type': 'F'}, {'a...  "
      ]
     },
     "execution_count": 10,
     "metadata": {},
     "output_type": "execute_result"
    }
   ],
   "source": [
    "act2.head()"
   ]
  },
  {
   "cell_type": "code",
   "execution_count": 130,
   "metadata": {},
   "outputs": [
    {
     "data": {
      "text/plain": [
       "<matplotlib.axes._subplots.AxesSubplot at 0x683baf2e8>"
      ]
     },
     "execution_count": 130,
     "metadata": {},
     "output_type": "execute_result"
    },
    {
     "data": {
      "image/png": "[encoded data removed]",
      "text/plain": [
       "<Figure size 432x288 with 1 Axes>"
      ]
     },
     "metadata": {
      "needs_background": "light"
     },
     "output_type": "display_data"
    }
   ],
   "source": [
    "act2.plot(x='num_activities', y='num_assays', kind='scatter', alpha=0.2)"
   ]
  },
  {
   "cell_type": "code",
   "execution_count": 135,
   "metadata": {},
   "outputs": [
    {
     "data": {
      "text/plain": [
       "count    1.701313e+06\n",
       "mean     8.693708e+00\n",
       "std      4.483590e+01\n",
       "min      0.000000e+00\n",
       "25%      2.000000e+00\n",
       "50%      4.000000e+00\n",
       "75%      8.000000e+00\n",
       "max      1.557700e+04\n",
       "Name: num_activities, dtype: float64"
      ]
     },
     "execution_count": 135,
     "metadata": {},
     "output_type": "execute_result"
    }
   ],
   "source": [
    "act2.num_activities.describe()"
   ]
  },
  {
   "cell_type": "markdown",
   "metadata": {},
   "source": [
    "Most molecules have very few activities"
   ]
  },
  {
   "cell_type": "code",
   "execution_count": 11,
   "metadata": {},
   "outputs": [],
   "source": [
    "act2['assay_types_extracted'] = act2['assay_types'].apply(lambda struct: list(set([x['assay_type'] for x in struct])))"
   ]
  },
  {
   "cell_type": "code",
   "execution_count": 12,
   "metadata": {},
   "outputs": [
    {
     "data": {
      "text/html": [
       "<div>\n",
       "<style scoped>\n",
       "    .dataframe tbody tr th:only-of-type {\n",
       "        vertical-align: middle;\n",
       "    }\n",
       "\n",
       "    .dataframe tbody tr th {\n",
       "        vertical-align: top;\n",
       "    }\n",
       "\n",
       "    .dataframe thead th {\n",
       "        text-align: right;\n",
       "    }\n",
       "</style>\n",
       "<table border=\"1\" class=\"dataframe\">\n",
       "  <thead>\n",
       "    <tr style=\"text-align: right;\">\n",
       "      <th></th>\n",
       "      <th>molecule_key</th>\n",
       "      <th>molecule_name</th>\n",
       "      <th>num_activities</th>\n",
       "      <th>num_assays</th>\n",
       "      <th>assay_types</th>\n",
       "      <th>assay_types_extracted</th>\n",
       "    </tr>\n",
       "  </thead>\n",
       "  <tbody>\n",
       "    <tr>\n",
       "      <th>0</th>\n",
       "      <td>879433</td>\n",
       "      <td>None</td>\n",
       "      <td>38</td>\n",
       "      <td>38</td>\n",
       "      <td>[{'assay_type': 'F'}, {'assay_type': 'F'}, {'a...</td>\n",
       "      <td>[B, F]</td>\n",
       "    </tr>\n",
       "    <tr>\n",
       "      <th>1</th>\n",
       "      <td>1091202</td>\n",
       "      <td>None</td>\n",
       "      <td>104</td>\n",
       "      <td>104</td>\n",
       "      <td>[{'assay_type': 'F'}, {'assay_type': 'F'}, {'a...</td>\n",
       "      <td>[B, F]</td>\n",
       "    </tr>\n",
       "    <tr>\n",
       "      <th>2</th>\n",
       "      <td>828936</td>\n",
       "      <td>None</td>\n",
       "      <td>21</td>\n",
       "      <td>21</td>\n",
       "      <td>[{'assay_type': 'F'}, {'assay_type': 'F'}, {'a...</td>\n",
       "      <td>[F]</td>\n",
       "    </tr>\n",
       "    <tr>\n",
       "      <th>3</th>\n",
       "      <td>765698</td>\n",
       "      <td>None</td>\n",
       "      <td>23</td>\n",
       "      <td>23</td>\n",
       "      <td>[{'assay_type': 'F'}, {'assay_type': 'F'}, {'a...</td>\n",
       "      <td>[B, F]</td>\n",
       "    </tr>\n",
       "    <tr>\n",
       "      <th>4</th>\n",
       "      <td>1683361</td>\n",
       "      <td>None</td>\n",
       "      <td>23</td>\n",
       "      <td>23</td>\n",
       "      <td>[{'assay_type': 'F'}, {'assay_type': 'F'}, {'a...</td>\n",
       "      <td>[B, F]</td>\n",
       "    </tr>\n",
       "  </tbody>\n",
       "</table>\n",
       "</div>"
      ],
      "text/plain": [
       "  molecule_key molecule_name  num_activities  num_assays  \\\n",
       "0       879433          None              38          38   \n",
       "1      1091202          None             104         104   \n",
       "2       828936          None              21          21   \n",
       "3       765698          None              23          23   \n",
       "4      1683361          None              23          23   \n",
       "\n",
       "                                         assay_types assay_types_extracted  \n",
       "0  [{'assay_type': 'F'}, {'assay_type': 'F'}, {'a...                [B, F]  \n",
       "1  [{'assay_type': 'F'}, {'assay_type': 'F'}, {'a...                [B, F]  \n",
       "2  [{'assay_type': 'F'}, {'assay_type': 'F'}, {'a...                   [F]  \n",
       "3  [{'assay_type': 'F'}, {'assay_type': 'F'}, {'a...                [B, F]  \n",
       "4  [{'assay_type': 'F'}, {'assay_type': 'F'}, {'a...                [B, F]  "
      ]
     },
     "execution_count": 12,
     "metadata": {},
     "output_type": "execute_result"
    }
   ],
   "source": [
    "act2.head()"
   ]
  },
  {
   "cell_type": "code",
   "execution_count": 46,
   "metadata": {},
   "outputs": [],
   "source": [
    "# act2['molecule_key']\n",
    "act_df = u.to_num('molecule_key', act2)\n",
    "\n",
    "# u.pkl_this('Data/molecule_assays.pkl', act_df.drop(columns='assay_types'))\n",
    "# act_df = u.open_pkl('Data/molecule_assays.pkl')"
   ]
  },
  {
   "cell_type": "markdown",
   "metadata": {},
   "source": [
    "It's easier to use CountVectorizer on a string than a list. Further \"extract\" assay types from list."
   ]
  },
  {
   "cell_type": "code",
   "execution_count": 13,
   "metadata": {},
   "outputs": [],
   "source": [
    "def extract_assays(row):\n",
    "    if row['num_assays'] > 0:\n",
    "        return ','.join(row['assay_types_extracted'])\n",
    "    else:\n",
    "        return ''"
   ]
  },
  {
   "cell_type": "code",
   "execution_count": 14,
   "metadata": {},
   "outputs": [],
   "source": [
    "act_df['assay_types'] = act_df.apply(lambda row: extract_assays(row), axis=1)"
   ]
  },
  {
   "cell_type": "code",
   "execution_count": 15,
   "metadata": {},
   "outputs": [
    {
     "data": {
      "text/html": [
       "<div>\n",
       "<style scoped>\n",
       "    .dataframe tbody tr th:only-of-type {\n",
       "        vertical-align: middle;\n",
       "    }\n",
       "\n",
       "    .dataframe tbody tr th {\n",
       "        vertical-align: top;\n",
       "    }\n",
       "\n",
       "    .dataframe thead th {\n",
       "        text-align: right;\n",
       "    }\n",
       "</style>\n",
       "<table border=\"1\" class=\"dataframe\">\n",
       "  <thead>\n",
       "    <tr style=\"text-align: right;\">\n",
       "      <th></th>\n",
       "      <th>molecule_key</th>\n",
       "      <th>molecule_name</th>\n",
       "      <th>num_activities</th>\n",
       "      <th>num_assays</th>\n",
       "      <th>assay_types_extracted</th>\n",
       "      <th>assay_types</th>\n",
       "    </tr>\n",
       "  </thead>\n",
       "  <tbody>\n",
       "    <tr>\n",
       "      <th>0</th>\n",
       "      <td>879433</td>\n",
       "      <td>None</td>\n",
       "      <td>38</td>\n",
       "      <td>38</td>\n",
       "      <td>[B, F]</td>\n",
       "      <td>B,F</td>\n",
       "    </tr>\n",
       "    <tr>\n",
       "      <th>1</th>\n",
       "      <td>1091202</td>\n",
       "      <td>None</td>\n",
       "      <td>104</td>\n",
       "      <td>104</td>\n",
       "      <td>[B, F]</td>\n",
       "      <td>B,F</td>\n",
       "    </tr>\n",
       "    <tr>\n",
       "      <th>2</th>\n",
       "      <td>828936</td>\n",
       "      <td>None</td>\n",
       "      <td>21</td>\n",
       "      <td>21</td>\n",
       "      <td>[F]</td>\n",
       "      <td>F</td>\n",
       "    </tr>\n",
       "    <tr>\n",
       "      <th>3</th>\n",
       "      <td>765698</td>\n",
       "      <td>None</td>\n",
       "      <td>23</td>\n",
       "      <td>23</td>\n",
       "      <td>[B, F]</td>\n",
       "      <td>B,F</td>\n",
       "    </tr>\n",
       "    <tr>\n",
       "      <th>4</th>\n",
       "      <td>1683361</td>\n",
       "      <td>None</td>\n",
       "      <td>23</td>\n",
       "      <td>23</td>\n",
       "      <td>[B, F]</td>\n",
       "      <td>B,F</td>\n",
       "    </tr>\n",
       "  </tbody>\n",
       "</table>\n",
       "</div>"
      ],
      "text/plain": [
       "   molecule_key molecule_name  num_activities  num_assays  \\\n",
       "0        879433          None              38          38   \n",
       "1       1091202          None             104         104   \n",
       "2        828936          None              21          21   \n",
       "3        765698          None              23          23   \n",
       "4       1683361          None              23          23   \n",
       "\n",
       "  assay_types_extracted assay_types  \n",
       "0                [B, F]         B,F  \n",
       "1                [B, F]         B,F  \n",
       "2                   [F]           F  \n",
       "3                [B, F]         B,F  \n",
       "4                [B, F]         B,F  "
      ]
     },
     "execution_count": 15,
     "metadata": {},
     "output_type": "execute_result"
    }
   ],
   "source": [
    "act_df.head()"
   ]
  },
  {
   "cell_type": "code",
   "execution_count": 17,
   "metadata": {},
   "outputs": [],
   "source": [
    "u.pkl_this('Data/molecule_assays.pkl', act_df.drop(columns='assay_types_extracted'))\n",
    "# act_df = u.open_pkl('Data/molecule_assays.pkl')"
   ]
  },
  {
   "cell_type": "markdown",
   "metadata": {},
   "source": [
    "From query run on GBQ web: 3605 unique organism ID's in assay table"
   ]
  },
  {
   "cell_type": "markdown",
   "metadata": {},
   "source": [
    "### Molecule Structure Flag"
   ]
  },
  {
   "cell_type": "code",
   "execution_count": 19,
   "metadata": {},
   "outputs": [
    {
     "data": {
      "text/plain": [
       "0.11085928417742252"
      ]
     },
     "execution_count": 19,
     "metadata": {},
     "output_type": "execute_result"
    }
   ],
   "source": [
    "q11 = \"\"\"\n",
    "SELECT md.molregno as molecule_key, \n",
    "    COUNT(a.alert_name) as num_alerts,\n",
    "    ARRAY_AGG(STRUCT(a.alert_name)) as alerts,\n",
    "    (CASE WHEN COUNT(a.alert_name) > 0 THEN 1 ELSE 0 END) as alert_yn\n",
    "FROM `patents-public-data.ebi_chembl.molecule_dictionary_24` as md\n",
    "LEFT JOIN(\n",
    "    SELECT csa.molregno, sa.alert_name\n",
    "    FROM `patents-public-data.ebi_chembl.compound_structural_alerts_24` AS csa \n",
    "    JOIN `patents-public-data.ebi_chembl.structural_alerts_24` sa ON csa.alert_id = sa.alert_id\n",
    "    ) as a\n",
    "ON a.molregno = md.molregno\n",
    "WHERE md.molecule_type = 'Small molecule'\n",
    "GROUP BY md.molregno\n",
    "        \"\"\"\n",
    "ebi_chembl.estimate_query_size(q11)"
   ]
  },
  {
   "cell_type": "code",
   "execution_count": 20,
   "metadata": {},
   "outputs": [],
   "source": [
    "alerts = ebi_chembl.query_to_pandas_safe(q11)"
   ]
  },
  {
   "cell_type": "code",
   "execution_count": 21,
   "metadata": {},
   "outputs": [
    {
     "data": {
      "text/html": [
       "<div>\n",
       "<style scoped>\n",
       "    .dataframe tbody tr th:only-of-type {\n",
       "        vertical-align: middle;\n",
       "    }\n",
       "\n",
       "    .dataframe tbody tr th {\n",
       "        vertical-align: top;\n",
       "    }\n",
       "\n",
       "    .dataframe thead th {\n",
       "        text-align: right;\n",
       "    }\n",
       "</style>\n",
       "<table border=\"1\" class=\"dataframe\">\n",
       "  <thead>\n",
       "    <tr style=\"text-align: right;\">\n",
       "      <th></th>\n",
       "      <th>molecule_key</th>\n",
       "      <th>num_alerts</th>\n",
       "      <th>alerts</th>\n",
       "      <th>alert_yn</th>\n",
       "    </tr>\n",
       "  </thead>\n",
       "  <tbody>\n",
       "    <tr>\n",
       "      <th>0</th>\n",
       "      <td>641189</td>\n",
       "      <td>20</td>\n",
       "      <td>[{'alert_name': 'R1 Reactive alkyl halides'}, ...</td>\n",
       "      <td>1</td>\n",
       "    </tr>\n",
       "    <tr>\n",
       "      <th>1</th>\n",
       "      <td>866774</td>\n",
       "      <td>15</td>\n",
       "      <td>[{'alert_name': 'I4 Disulphides'}, {'alert_nam...</td>\n",
       "      <td>1</td>\n",
       "    </tr>\n",
       "    <tr>\n",
       "      <th>2</th>\n",
       "      <td>1152057</td>\n",
       "      <td>14</td>\n",
       "      <td>[{'alert_name': 'R1 Reactive alkyl halides'}, ...</td>\n",
       "      <td>1</td>\n",
       "    </tr>\n",
       "    <tr>\n",
       "      <th>3</th>\n",
       "      <td>3897</td>\n",
       "      <td>15</td>\n",
       "      <td>[{'alert_name': 'I6 Epoxides, Thioepoxides, Az...</td>\n",
       "      <td>1</td>\n",
       "    </tr>\n",
       "    <tr>\n",
       "      <th>4</th>\n",
       "      <td>4802</td>\n",
       "      <td>19</td>\n",
       "      <td>[{'alert_name': 'R1 Reactive alkyl halides'}, ...</td>\n",
       "      <td>1</td>\n",
       "    </tr>\n",
       "  </tbody>\n",
       "</table>\n",
       "</div>"
      ],
      "text/plain": [
       "  molecule_key  num_alerts                                             alerts  \\\n",
       "0       641189          20  [{'alert_name': 'R1 Reactive alkyl halides'}, ...   \n",
       "1       866774          15  [{'alert_name': 'I4 Disulphides'}, {'alert_nam...   \n",
       "2      1152057          14  [{'alert_name': 'R1 Reactive alkyl halides'}, ...   \n",
       "3         3897          15  [{'alert_name': 'I6 Epoxides, Thioepoxides, Az...   \n",
       "4         4802          19  [{'alert_name': 'R1 Reactive alkyl halides'}, ...   \n",
       "\n",
       "   alert_yn  \n",
       "0         1  \n",
       "1         1  \n",
       "2         1  \n",
       "3         1  \n",
       "4         1  "
      ]
     },
     "execution_count": 21,
     "metadata": {},
     "output_type": "execute_result"
    }
   ],
   "source": [
    "alerts.head()"
   ]
  },
  {
   "cell_type": "code",
   "execution_count": 23,
   "metadata": {},
   "outputs": [
    {
     "data": {
      "text/plain": [
       "(1701313, 1212950)"
      ]
     },
     "execution_count": 23,
     "metadata": {},
     "output_type": "execute_result"
    }
   ],
   "source": [
    "len(alerts), np.sum(alerts.alert_yn)"
   ]
  },
  {
   "cell_type": "code",
   "execution_count": 24,
   "metadata": {},
   "outputs": [
    {
     "data": {
      "text/plain": [
       "1    0.712949\n",
       "0    0.287051\n",
       "Name: alert_yn, dtype: float64"
      ]
     },
     "execution_count": 24,
     "metadata": {},
     "output_type": "execute_result"
    }
   ],
   "source": [
    "alerts['alert_yn'].value_counts(1)"
   ]
  },
  {
   "cell_type": "markdown",
   "metadata": {},
   "source": [
    "- Most molecule have an alert -- can use as a feature. \n",
    "- Query not shown: 1251 distinct alert codes. It would add too much complexity to include them as-is in a model."
   ]
  },
  {
   "cell_type": "markdown",
   "metadata": {},
   "source": [
    "There are several 'alert_sets' in the database -- these could overlap. Look at individual sets."
   ]
  },
  {
   "cell_type": "code",
   "execution_count": 27,
   "metadata": {},
   "outputs": [
    {
     "data": {
      "text/plain": [
       "0.11086277943104506"
      ]
     },
     "execution_count": 27,
     "metadata": {},
     "output_type": "execute_result"
    }
   ],
   "source": [
    "q11b = \"\"\"\n",
    "SELECT md.molregno as molecule_key, \n",
    "    COUNT(a.alert_name) as num_alerts,\n",
    "    ARRAY_AGG(STRUCT(a.alert_name)) as alerts,\n",
    "    (CASE WHEN COUNT(a.alert_name) > 0 THEN 1 ELSE 0 END) as alert_yn\n",
    "FROM `patents-public-data.ebi_chembl.molecule_dictionary_24` as md\n",
    "LEFT JOIN(\n",
    "    SELECT csa.molregno, sa.alert_name\n",
    "    FROM `patents-public-data.ebi_chembl.compound_structural_alerts_24` AS csa \n",
    "    JOIN `patents-public-data.ebi_chembl.structural_alerts_24` sa ON csa.alert_id = sa.alert_id\n",
    "    WHERE sa.alert_set_id = '1'\n",
    "    ) as a\n",
    "ON a.molregno = md.molregno\n",
    "WHERE md.molecule_type = 'Small molecule' \n",
    "GROUP BY md.molregno\n",
    "        \"\"\"\n",
    "ebi_chembl.estimate_query_size(q11b)"
   ]
  },
  {
   "cell_type": "code",
   "execution_count": 28,
   "metadata": {},
   "outputs": [],
   "source": [
    "alerts2 = ebi_chembl.query_to_pandas_safe(q11b)"
   ]
  },
  {
   "cell_type": "code",
   "execution_count": 29,
   "metadata": {},
   "outputs": [
    {
     "data": {
      "text/html": [
       "<div>\n",
       "<style scoped>\n",
       "    .dataframe tbody tr th:only-of-type {\n",
       "        vertical-align: middle;\n",
       "    }\n",
       "\n",
       "    .dataframe tbody tr th {\n",
       "        vertical-align: top;\n",
       "    }\n",
       "\n",
       "    .dataframe thead th {\n",
       "        text-align: right;\n",
       "    }\n",
       "</style>\n",
       "<table border=\"1\" class=\"dataframe\">\n",
       "  <thead>\n",
       "    <tr style=\"text-align: right;\">\n",
       "      <th></th>\n",
       "      <th>molecule_key</th>\n",
       "      <th>num_alerts</th>\n",
       "      <th>alerts</th>\n",
       "      <th>alert_yn</th>\n",
       "    </tr>\n",
       "  </thead>\n",
       "  <tbody>\n",
       "    <tr>\n",
       "      <th>0</th>\n",
       "      <td>1376196</td>\n",
       "      <td>3</td>\n",
       "      <td>[{'alert_name': 'R5 Sulphonates'}, {'alert_nam...</td>\n",
       "      <td>1</td>\n",
       "    </tr>\n",
       "    <tr>\n",
       "      <th>1</th>\n",
       "      <td>1377618</td>\n",
       "      <td>3</td>\n",
       "      <td>[{'alert_name': 'R1 Reactive alkyl halides'}, ...</td>\n",
       "      <td>1</td>\n",
       "    </tr>\n",
       "    <tr>\n",
       "      <th>2</th>\n",
       "      <td>1378611</td>\n",
       "      <td>3</td>\n",
       "      <td>[{'alert_name': 'R1 Reactive alkyl halides'}, ...</td>\n",
       "      <td>1</td>\n",
       "    </tr>\n",
       "    <tr>\n",
       "      <th>3</th>\n",
       "      <td>2197572</td>\n",
       "      <td>3</td>\n",
       "      <td>[{'alert_name': 'R1 Reactive alkyl halides'}, ...</td>\n",
       "      <td>1</td>\n",
       "    </tr>\n",
       "    <tr>\n",
       "      <th>4</th>\n",
       "      <td>10840</td>\n",
       "      <td>3</td>\n",
       "      <td>[{'alert_name': 'R1 Reactive alkyl halides'}, ...</td>\n",
       "      <td>1</td>\n",
       "    </tr>\n",
       "  </tbody>\n",
       "</table>\n",
       "</div>"
      ],
      "text/plain": [
       "  molecule_key  num_alerts                                             alerts  \\\n",
       "0      1376196           3  [{'alert_name': 'R5 Sulphonates'}, {'alert_nam...   \n",
       "1      1377618           3  [{'alert_name': 'R1 Reactive alkyl halides'}, ...   \n",
       "2      1378611           3  [{'alert_name': 'R1 Reactive alkyl halides'}, ...   \n",
       "3      2197572           3  [{'alert_name': 'R1 Reactive alkyl halides'}, ...   \n",
       "4        10840           3  [{'alert_name': 'R1 Reactive alkyl halides'}, ...   \n",
       "\n",
       "   alert_yn  \n",
       "0         1  \n",
       "1         1  \n",
       "2         1  \n",
       "3         1  \n",
       "4         1  "
      ]
     },
     "execution_count": 29,
     "metadata": {},
     "output_type": "execute_result"
    }
   ],
   "source": [
    "alerts2.head()"
   ]
  },
  {
   "cell_type": "code",
   "execution_count": 30,
   "metadata": {},
   "outputs": [
    {
     "data": {
      "text/plain": [
       "0    0.909869\n",
       "1    0.090131\n",
       "Name: alert_yn, dtype: float64"
      ]
     },
     "execution_count": 30,
     "metadata": {},
     "output_type": "execute_result"
    }
   ],
   "source": [
    "alerts2['alert_yn'].value_counts(1)"
   ]
  },
  {
   "cell_type": "code",
   "execution_count": 31,
   "metadata": {},
   "outputs": [
    {
     "data": {
      "text/plain": [
       "count    1.701313e+06\n",
       "mean     9.620687e-02\n",
       "std      3.163020e-01\n",
       "min      0.000000e+00\n",
       "25%      0.000000e+00\n",
       "50%      0.000000e+00\n",
       "75%      0.000000e+00\n",
       "max      4.000000e+00\n",
       "Name: num_alerts, dtype: float64"
      ]
     },
     "execution_count": 31,
     "metadata": {},
     "output_type": "execute_result"
    }
   ],
   "source": [
    "alerts2['num_alerts'].describe()"
   ]
  },
  {
   "cell_type": "markdown",
   "metadata": {},
   "source": [
    "This set seems fairly permissive."
   ]
  },
  {
   "cell_type": "code",
   "execution_count": 32,
   "metadata": {},
   "outputs": [
    {
     "data": {
      "text/plain": [
       "0.11086277943104506"
      ]
     },
     "execution_count": 32,
     "metadata": {},
     "output_type": "execute_result"
    }
   ],
   "source": [
    "q11c = \"\"\"\n",
    "SELECT md.molregno as molecule_key, \n",
    "    COUNT(a.alert_name) as num_alerts,\n",
    "    ARRAY_AGG(STRUCT(a.alert_name)) as alerts,\n",
    "    (CASE WHEN COUNT(a.alert_name) > 0 THEN 1 ELSE 0 END) as alert_yn\n",
    "FROM `patents-public-data.ebi_chembl.molecule_dictionary_24` as md\n",
    "LEFT JOIN(\n",
    "    SELECT csa.molregno, sa.alert_name\n",
    "    FROM `patents-public-data.ebi_chembl.compound_structural_alerts_24` AS csa \n",
    "    JOIN `patents-public-data.ebi_chembl.structural_alerts_24` sa ON csa.alert_id = sa.alert_id\n",
    "    WHERE sa.alert_set_id = '8'\n",
    "    ) as a\n",
    "ON a.molregno = md.molregno\n",
    "WHERE md.molecule_type = 'Small molecule' \n",
    "GROUP BY md.molregno\n",
    "        \"\"\"\n",
    "ebi_chembl.estimate_query_size(q11c)"
   ]
  },
  {
   "cell_type": "code",
   "execution_count": 33,
   "metadata": {},
   "outputs": [],
   "source": [
    "alerts3 = ebi_chembl.query_to_pandas_safe(q11c)"
   ]
  },
  {
   "cell_type": "code",
   "execution_count": 35,
   "metadata": {},
   "outputs": [
    {
     "data": {
      "text/html": [
       "<div>\n",
       "<style scoped>\n",
       "    .dataframe tbody tr th:only-of-type {\n",
       "        vertical-align: middle;\n",
       "    }\n",
       "\n",
       "    .dataframe tbody tr th {\n",
       "        vertical-align: top;\n",
       "    }\n",
       "\n",
       "    .dataframe thead th {\n",
       "        text-align: right;\n",
       "    }\n",
       "</style>\n",
       "<table border=\"1\" class=\"dataframe\">\n",
       "  <thead>\n",
       "    <tr style=\"text-align: right;\">\n",
       "      <th></th>\n",
       "      <th>molecule_key</th>\n",
       "      <th>num_alerts</th>\n",
       "      <th>alerts</th>\n",
       "      <th>alert_yn</th>\n",
       "    </tr>\n",
       "  </thead>\n",
       "  <tbody>\n",
       "    <tr>\n",
       "      <th>0</th>\n",
       "      <td>83515</td>\n",
       "      <td>4</td>\n",
       "      <td>[{'alert_name': 'alkyl esters of S or P'}, {'a...</td>\n",
       "      <td>1</td>\n",
       "    </tr>\n",
       "    <tr>\n",
       "      <th>1</th>\n",
       "      <td>187696</td>\n",
       "      <td>4</td>\n",
       "      <td>[{'alert_name': 'alkyl halide'}, {'alert_name'...</td>\n",
       "      <td>1</td>\n",
       "    </tr>\n",
       "    <tr>\n",
       "      <th>2</th>\n",
       "      <td>430642</td>\n",
       "      <td>4</td>\n",
       "      <td>[{'alert_name': 'terminal vinyl'}, {'alert_nam...</td>\n",
       "      <td>1</td>\n",
       "    </tr>\n",
       "    <tr>\n",
       "      <th>3</th>\n",
       "      <td>581858</td>\n",
       "      <td>5</td>\n",
       "      <td>[{'alert_name': 'alkyl esters of S or P'}, {'a...</td>\n",
       "      <td>1</td>\n",
       "    </tr>\n",
       "    <tr>\n",
       "      <th>4</th>\n",
       "      <td>624185</td>\n",
       "      <td>4</td>\n",
       "      <td>[{'alert_name': 'alpha halo carbonyl'}, {'aler...</td>\n",
       "      <td>1</td>\n",
       "    </tr>\n",
       "  </tbody>\n",
       "</table>\n",
       "</div>"
      ],
      "text/plain": [
       "  molecule_key  num_alerts                                             alerts  \\\n",
       "0        83515           4  [{'alert_name': 'alkyl esters of S or P'}, {'a...   \n",
       "1       187696           4  [{'alert_name': 'alkyl halide'}, {'alert_name'...   \n",
       "2       430642           4  [{'alert_name': 'terminal vinyl'}, {'alert_nam...   \n",
       "3       581858           5  [{'alert_name': 'alkyl esters of S or P'}, {'a...   \n",
       "4       624185           4  [{'alert_name': 'alpha halo carbonyl'}, {'aler...   \n",
       "\n",
       "   alert_yn  \n",
       "0         1  \n",
       "1         1  \n",
       "2         1  \n",
       "3         1  \n",
       "4         1  "
      ]
     },
     "execution_count": 35,
     "metadata": {},
     "output_type": "execute_result"
    }
   ],
   "source": [
    "alerts3.head()"
   ]
  },
  {
   "cell_type": "code",
   "execution_count": 34,
   "metadata": {},
   "outputs": [
    {
     "data": {
      "text/plain": [
       "0    0.627428\n",
       "1    0.372572\n",
       "Name: alert_yn, dtype: float64"
      ]
     },
     "execution_count": 34,
     "metadata": {},
     "output_type": "execute_result"
    }
   ],
   "source": [
    "alerts3['alert_yn'].value_counts(1)"
   ]
  },
  {
   "cell_type": "markdown",
   "metadata": {},
   "source": [
    "This alert set is less permissive"
   ]
  },
  {
   "cell_type": "code",
   "execution_count": 36,
   "metadata": {},
   "outputs": [
    {
     "data": {
      "text/plain": [
       "count    1.701313e+06\n",
       "mean     4.933578e-01\n",
       "std      7.441468e-01\n",
       "min      0.000000e+00\n",
       "25%      0.000000e+00\n",
       "50%      0.000000e+00\n",
       "75%      1.000000e+00\n",
       "max      7.000000e+00\n",
       "Name: num_alerts, dtype: float64"
      ]
     },
     "execution_count": 36,
     "metadata": {},
     "output_type": "execute_result"
    }
   ],
   "source": [
    "alerts3['num_alerts'].describe()"
   ]
  },
  {
   "cell_type": "code",
   "execution_count": 37,
   "metadata": {},
   "outputs": [],
   "source": [
    "alert_df = pd.merge(alerts2, alerts3, on='molecule_key', suffixes=('_set1', '_set8'))\n",
    "\n",
    "alert_df['alerts_set1_extracted'] = alert_df['alerts_set1'].apply(\n",
    "    lambda struct: list(set([x['alert_name'] for x in struct])))\n",
    "\n",
    "alert_df['alerts_set8_extracted'] = alert_df['alerts_set8'].apply(\n",
    "    lambda struct: list(set([x['alert_name'] for x in struct])))\n",
    "\n",
    "alert_df.drop(columns=['alerts_set1', 'alerts_set8'], inplace=True)"
   ]
  },
  {
   "cell_type": "code",
   "execution_count": 43,
   "metadata": {},
   "outputs": [
    {
     "data": {
      "text/html": [
       "<div>\n",
       "<style scoped>\n",
       "    .dataframe tbody tr th:only-of-type {\n",
       "        vertical-align: middle;\n",
       "    }\n",
       "\n",
       "    .dataframe tbody tr th {\n",
       "        vertical-align: top;\n",
       "    }\n",
       "\n",
       "    .dataframe thead th {\n",
       "        text-align: right;\n",
       "    }\n",
       "</style>\n",
       "<table border=\"1\" class=\"dataframe\">\n",
       "  <thead>\n",
       "    <tr style=\"text-align: right;\">\n",
       "      <th></th>\n",
       "      <th>molecule_key</th>\n",
       "      <th>num_alerts_set1</th>\n",
       "      <th>alert_yn_set1</th>\n",
       "      <th>num_alerts_set8</th>\n",
       "      <th>alert_yn_set8</th>\n",
       "      <th>alerts_set1_extracted</th>\n",
       "      <th>alerts_set8_extracted</th>\n",
       "    </tr>\n",
       "  </thead>\n",
       "  <tbody>\n",
       "    <tr>\n",
       "      <th>0</th>\n",
       "      <td>1376196</td>\n",
       "      <td>3</td>\n",
       "      <td>1</td>\n",
       "      <td>4</td>\n",
       "      <td>1</td>\n",
       "      <td>[R5 Sulphonates, I6 Epoxides, Thioepoxides, Az...</td>\n",
       "      <td>[aziridine-like N in 3-membered ring, S/PO3 gr...</td>\n",
       "    </tr>\n",
       "    <tr>\n",
       "      <th>1</th>\n",
       "      <td>1377618</td>\n",
       "      <td>3</td>\n",
       "      <td>1</td>\n",
       "      <td>2</td>\n",
       "      <td>1</td>\n",
       "      <td>[R21 Nitroso, R1 Reactive alkyl halides, R17 a...</td>\n",
       "      <td>[mustards, alkyl halide]</td>\n",
       "    </tr>\n",
       "    <tr>\n",
       "      <th>2</th>\n",
       "      <td>1378611</td>\n",
       "      <td>3</td>\n",
       "      <td>1</td>\n",
       "      <td>2</td>\n",
       "      <td>1</td>\n",
       "      <td>[R21 Nitroso, R1 Reactive alkyl halides, R17 a...</td>\n",
       "      <td>[mustards, alkyl halide]</td>\n",
       "    </tr>\n",
       "    <tr>\n",
       "      <th>3</th>\n",
       "      <td>2197572</td>\n",
       "      <td>3</td>\n",
       "      <td>1</td>\n",
       "      <td>3</td>\n",
       "      <td>1</td>\n",
       "      <td>[R21 Nitroso, R1 Reactive alkyl halides, R17 a...</td>\n",
       "      <td>[mustards, alkyl halide, aromatic NO2]</td>\n",
       "    </tr>\n",
       "    <tr>\n",
       "      <th>4</th>\n",
       "      <td>10840</td>\n",
       "      <td>3</td>\n",
       "      <td>1</td>\n",
       "      <td>2</td>\n",
       "      <td>1</td>\n",
       "      <td>[R21 Nitroso, R1 Reactive alkyl halides, R17 a...</td>\n",
       "      <td>[mustards, alkyl halide]</td>\n",
       "    </tr>\n",
       "  </tbody>\n",
       "</table>\n",
       "</div>"
      ],
      "text/plain": [
       "  molecule_key  num_alerts_set1  alert_yn_set1  num_alerts_set8  \\\n",
       "0      1376196                3              1                4   \n",
       "1      1377618                3              1                2   \n",
       "2      1378611                3              1                2   \n",
       "3      2197572                3              1                3   \n",
       "4        10840                3              1                2   \n",
       "\n",
       "   alert_yn_set8                              alerts_set1_extracted  \\\n",
       "0              1  [R5 Sulphonates, I6 Epoxides, Thioepoxides, Az...   \n",
       "1              1  [R21 Nitroso, R1 Reactive alkyl halides, R17 a...   \n",
       "2              1  [R21 Nitroso, R1 Reactive alkyl halides, R17 a...   \n",
       "3              1  [R21 Nitroso, R1 Reactive alkyl halides, R17 a...   \n",
       "4              1  [R21 Nitroso, R1 Reactive alkyl halides, R17 a...   \n",
       "\n",
       "                               alerts_set8_extracted  \n",
       "0  [aziridine-like N in 3-membered ring, S/PO3 gr...  \n",
       "1                           [mustards, alkyl halide]  \n",
       "2                           [mustards, alkyl halide]  \n",
       "3             [mustards, alkyl halide, aromatic NO2]  \n",
       "4                           [mustards, alkyl halide]  "
      ]
     },
     "execution_count": 43,
     "metadata": {},
     "output_type": "execute_result"
    }
   ],
   "source": [
    "alert_df.head()"
   ]
  },
  {
   "cell_type": "markdown",
   "metadata": {},
   "source": [
    "Set 1 doesn't always yield fewer alerts than Set 8. TBD which to use in model."
   ]
  },
  {
   "cell_type": "code",
   "execution_count": 48,
   "metadata": {},
   "outputs": [],
   "source": [
    "alert_df = u.to_num('molecule_key', alert_df)\n",
    "\n",
    "u.pkl_this('Data/molecule_structure_alerts.pkl', alert_df)"
   ]
  },
  {
   "cell_type": "markdown",
   "metadata": {},
   "source": [
    "## Year"
   ]
  },
  {
   "cell_type": "code",
   "execution_count": 92,
   "metadata": {},
   "outputs": [
    {
     "data": {
      "text/plain": [
       "0.04779325891286135"
      ]
     },
     "execution_count": 92,
     "metadata": {},
     "output_type": "execute_result"
    }
   ],
   "source": [
    "query2 = \"\"\"\n",
    "SELECT md.molregno as molecule_key, COUNT(d.year) AS num_entries, \n",
    "    MIN(d.year) as first_doc, MAX(d.year) as latest_doc\n",
    "FROM `patents-public-data.ebi_chembl.molecule_dictionary_24` as md\n",
    "JOIN `patents-public-data.ebi_chembl.compound_records_24` as cr ON cr.molregno = md.molregno\n",
    "JOIN `patents-public-data.ebi_chembl.docs_24` as d ON d.doc_id = cr.doc_id\n",
    "GROUP BY md.molregno\n",
    "        \"\"\"\n",
    "ebi_chembl.estimate_query_size(query2)"
   ]
  },
  {
   "cell_type": "code",
   "execution_count": 93,
   "metadata": {},
   "outputs": [],
   "source": [
    "years = ebi_chembl.query_to_pandas_safe(query2)"
   ]
  },
  {
   "cell_type": "code",
   "execution_count": 187,
   "metadata": {},
   "outputs": [
    {
     "data": {
      "text/plain": [
       "0.04002964124083519"
      ]
     },
     "execution_count": 187,
     "metadata": {},
     "output_type": "execute_result"
    }
   ],
   "source": [
    "query2b = \"\"\"\n",
    "SELECT molregno as molecule_key, usan_year\n",
    "FROM `patents-public-data.ebi_chembl.molecule_dictionary_24`\n",
    "WHERE molecule_type = 'Small molecule'\n",
    "        \"\"\"\n",
    "ebi_chembl.estimate_query_size(query2b)"
   ]
  },
  {
   "cell_type": "code",
   "execution_count": 188,
   "metadata": {},
   "outputs": [],
   "source": [
    "usan_years = ebi_chembl.query_to_pandas_safe(query2b)"
   ]
  },
  {
   "cell_type": "code",
   "execution_count": 193,
   "metadata": {},
   "outputs": [],
   "source": [
    "years = pd.merge(years, usan_years, on='molecule_key')"
   ]
  },
  {
   "cell_type": "code",
   "execution_count": 194,
   "metadata": {},
   "outputs": [
    {
     "data": {
      "text/html": [
       "<div>\n",
       "<style scoped>\n",
       "    .dataframe tbody tr th:only-of-type {\n",
       "        vertical-align: middle;\n",
       "    }\n",
       "\n",
       "    .dataframe tbody tr th {\n",
       "        vertical-align: top;\n",
       "    }\n",
       "\n",
       "    .dataframe thead th {\n",
       "        text-align: right;\n",
       "    }\n",
       "</style>\n",
       "<table border=\"1\" class=\"dataframe\">\n",
       "  <thead>\n",
       "    <tr style=\"text-align: right;\">\n",
       "      <th></th>\n",
       "      <th>molecule_key</th>\n",
       "      <th>num_entries</th>\n",
       "      <th>first_entry</th>\n",
       "      <th>latest_entry</th>\n",
       "      <th>usan_year</th>\n",
       "    </tr>\n",
       "  </thead>\n",
       "  <tbody>\n",
       "    <tr>\n",
       "      <th>0</th>\n",
       "      <td>13494</td>\n",
       "      <td>179</td>\n",
       "      <td>1978.0</td>\n",
       "      <td>2017.0</td>\n",
       "      <td>1970</td>\n",
       "    </tr>\n",
       "    <tr>\n",
       "      <th>1</th>\n",
       "      <td>3965</td>\n",
       "      <td>282</td>\n",
       "      <td>1977.0</td>\n",
       "      <td>2017.0</td>\n",
       "      <td>2007</td>\n",
       "    </tr>\n",
       "    <tr>\n",
       "      <th>2</th>\n",
       "      <td>6579</td>\n",
       "      <td>927</td>\n",
       "      <td>1977.0</td>\n",
       "      <td>2017.0</td>\n",
       "      <td>None</td>\n",
       "    </tr>\n",
       "    <tr>\n",
       "      <th>3</th>\n",
       "      <td>261184</td>\n",
       "      <td>6</td>\n",
       "      <td>1977.0</td>\n",
       "      <td>2017.0</td>\n",
       "      <td>None</td>\n",
       "    </tr>\n",
       "    <tr>\n",
       "      <th>4</th>\n",
       "      <td>255477</td>\n",
       "      <td>187</td>\n",
       "      <td>1976.0</td>\n",
       "      <td>2017.0</td>\n",
       "      <td>None</td>\n",
       "    </tr>\n",
       "  </tbody>\n",
       "</table>\n",
       "</div>"
      ],
      "text/plain": [
       "  molecule_key  num_entries  first_entry  latest_entry usan_year\n",
       "0        13494          179       1978.0        2017.0      1970\n",
       "1         3965          282       1977.0        2017.0      2007\n",
       "2         6579          927       1977.0        2017.0      None\n",
       "3       261184            6       1977.0        2017.0      None\n",
       "4       255477          187       1976.0        2017.0      None"
      ]
     },
     "execution_count": 194,
     "metadata": {},
     "output_type": "execute_result"
    }
   ],
   "source": [
    "years.head()"
   ]
  },
  {
   "cell_type": "code",
   "execution_count": 97,
   "metadata": {},
   "outputs": [],
   "source": [
    "years['num_entries'] = pd.to_numeric(years['num_entries'])\n",
    "years['first_entry'] = pd.to_numeric(years['first_entry'])\n",
    "years['latest_entry'] = pd.to_numeric(years['latest_entry'])"
   ]
  },
  {
   "cell_type": "markdown",
   "metadata": {},
   "source": [
    "Merge 'years' df with 'phases' df"
   ]
  },
  {
   "cell_type": "code",
   "execution_count": null,
   "metadata": {},
   "outputs": [],
   "source": [
    "phases1 = pd.read_csv('Data/phase_info_md_di.csv')\n",
    "\n",
    "phases1.drop(columns='drug_ind_phase', inplace=True)\n",
    "\n",
    "phase_doc_yr = pd.merge(phases1, years, on='molecule_key')\n",
    "phase_doc_yr.rename(columns={'num_entries':'num_docs'}, inplace=True)\n",
    "phase_doc_yr.drop(columns='drug_ind_phases_extracted', inplace=True)"
   ]
  },
  {
   "cell_type": "code",
   "execution_count": 10,
   "metadata": {},
   "outputs": [
    {
     "data": {
      "text/html": [
       "<div>\n",
       "<style scoped>\n",
       "    .dataframe tbody tr th:only-of-type {\n",
       "        vertical-align: middle;\n",
       "    }\n",
       "\n",
       "    .dataframe tbody tr th {\n",
       "        vertical-align: top;\n",
       "    }\n",
       "\n",
       "    .dataframe thead th {\n",
       "        text-align: right;\n",
       "    }\n",
       "</style>\n",
       "<table border=\"1\" class=\"dataframe\">\n",
       "  <thead>\n",
       "    <tr style=\"text-align: right;\">\n",
       "      <th></th>\n",
       "      <th>Unnamed: 0</th>\n",
       "      <th>molecule_key</th>\n",
       "      <th>mol_dict_phase</th>\n",
       "      <th>thera_flag</th>\n",
       "      <th>approval_year</th>\n",
       "      <th>max_drug_ind_phase</th>\n",
       "      <th>count</th>\n",
       "      <th>num_docs</th>\n",
       "      <th>first_entry</th>\n",
       "      <th>latest_entry</th>\n",
       "      <th>approval_entry_diff</th>\n",
       "    </tr>\n",
       "  </thead>\n",
       "  <tbody>\n",
       "    <tr>\n",
       "      <th>0</th>\n",
       "      <td>0</td>\n",
       "      <td>675621</td>\n",
       "      <td>4</td>\n",
       "      <td>1</td>\n",
       "      <td>1942.0</td>\n",
       "      <td>4.0</td>\n",
       "      <td>1</td>\n",
       "      <td>0</td>\n",
       "      <td>NaN</td>\n",
       "      <td>NaN</td>\n",
       "      <td>NaN</td>\n",
       "    </tr>\n",
       "    <tr>\n",
       "      <th>1</th>\n",
       "      <td>1</td>\n",
       "      <td>675361</td>\n",
       "      <td>4</td>\n",
       "      <td>1</td>\n",
       "      <td>1989.0</td>\n",
       "      <td>3.0</td>\n",
       "      <td>1</td>\n",
       "      <td>1</td>\n",
       "      <td>2004.0</td>\n",
       "      <td>2004.0</td>\n",
       "      <td>-15.0</td>\n",
       "    </tr>\n",
       "    <tr>\n",
       "      <th>2</th>\n",
       "      <td>2</td>\n",
       "      <td>675404</td>\n",
       "      <td>4</td>\n",
       "      <td>1</td>\n",
       "      <td>NaN</td>\n",
       "      <td>3.0</td>\n",
       "      <td>1</td>\n",
       "      <td>0</td>\n",
       "      <td>NaN</td>\n",
       "      <td>NaN</td>\n",
       "      <td>NaN</td>\n",
       "    </tr>\n",
       "    <tr>\n",
       "      <th>3</th>\n",
       "      <td>3</td>\n",
       "      <td>675436</td>\n",
       "      <td>4</td>\n",
       "      <td>1</td>\n",
       "      <td>1982.0</td>\n",
       "      <td>3.0</td>\n",
       "      <td>1</td>\n",
       "      <td>0</td>\n",
       "      <td>NaN</td>\n",
       "      <td>NaN</td>\n",
       "      <td>NaN</td>\n",
       "    </tr>\n",
       "    <tr>\n",
       "      <th>4</th>\n",
       "      <td>4</td>\n",
       "      <td>675443</td>\n",
       "      <td>4</td>\n",
       "      <td>1</td>\n",
       "      <td>1998.0</td>\n",
       "      <td>4.0</td>\n",
       "      <td>1</td>\n",
       "      <td>0</td>\n",
       "      <td>NaN</td>\n",
       "      <td>NaN</td>\n",
       "      <td>NaN</td>\n",
       "    </tr>\n",
       "  </tbody>\n",
       "</table>\n",
       "</div>"
      ],
      "text/plain": [
       "   Unnamed: 0  molecule_key  mol_dict_phase  thera_flag  approval_year  \\\n",
       "0           0        675621               4           1         1942.0   \n",
       "1           1        675361               4           1         1989.0   \n",
       "2           2        675404               4           1            NaN   \n",
       "3           3        675436               4           1         1982.0   \n",
       "4           4        675443               4           1         1998.0   \n",
       "\n",
       "   max_drug_ind_phase  count  num_docs  first_entry  latest_entry  \\\n",
       "0                 4.0      1         0          NaN           NaN   \n",
       "1                 3.0      1         1       2004.0        2004.0   \n",
       "2                 3.0      1         0          NaN           NaN   \n",
       "3                 3.0      1         0          NaN           NaN   \n",
       "4                 4.0      1         0          NaN           NaN   \n",
       "\n",
       "   approval_entry_diff  \n",
       "0                  NaN  \n",
       "1                -15.0  \n",
       "2                  NaN  \n",
       "3                  NaN  \n",
       "4                  NaN  "
      ]
     },
     "execution_count": 10,
     "metadata": {},
     "output_type": "execute_result"
    }
   ],
   "source": [
    "phase_doc_yr.head()"
   ]
  },
  {
   "cell_type": "code",
   "execution_count": 2,
   "metadata": {},
   "outputs": [],
   "source": [
    "phase_doc_yr.to_csv('Data/phases_with_doc_years.csv')\n",
    "# phase_doc_yr = pd.read_csv('Data/phases_with_doc_years.csv')"
   ]
  },
  {
   "cell_type": "code",
   "execution_count": 3,
   "metadata": {},
   "outputs": [
    {
     "data": {
      "text/plain": [
       "0.31644562986762964"
      ]
     },
     "execution_count": 3,
     "metadata": {},
     "output_type": "execute_result"
    }
   ],
   "source": [
    "len(phase_doc_yr[phase_doc_yr['num_docs'] == 0]) / len(phase_doc_yr)"
   ]
  },
  {
   "cell_type": "markdown",
   "metadata": {},
   "source": [
    "#### Can we use difference between approval year and first_doc year to estimate how far back in time we need to discard entries?"
   ]
  },
  {
   "cell_type": "code",
   "execution_count": 4,
   "metadata": {},
   "outputs": [],
   "source": [
    "phase_doc_yr['approval_entry_diff'] = phase_doc_yr['approval_year'] - phase_doc_yr['first_entry']"
   ]
  },
  {
   "cell_type": "code",
   "execution_count": 9,
   "metadata": {},
   "outputs": [
    {
     "data": {
      "image/png": "[encoded data removed]",
      "text/plain": [
       "<Figure size 432x288 with 1 Axes>"
      ]
     },
     "metadata": {
      "needs_background": "light"
     },
     "output_type": "display_data"
    }
   ],
   "source": [
    "plt.hist(phase_doc_yr['approval_entry_diff']);"
   ]
  },
  {
   "cell_type": "markdown",
   "metadata": {},
   "source": [
    "Average is 0; many differences are negative -- this will not be useful"
   ]
  },
  {
   "cell_type": "markdown",
   "metadata": {},
   "source": [
    "### Investigate correlation between numbers"
   ]
  },
  {
   "cell_type": "markdown",
   "metadata": {},
   "source": [
    "Not shown: 'molregno' is assigned by time of entry into db and it not indicative of \"age\" of molecule."
   ]
  },
  {
   "cell_type": "code",
   "execution_count": 201,
   "metadata": {},
   "outputs": [
    {
     "data": {
      "image/png": "[encoded data removed]",
      "text/plain": [
       "<Figure size 432x288 with 1 Axes>"
      ]
     },
     "metadata": {
      "needs_background": "light"
     },
     "output_type": "display_data"
    }
   ],
   "source": [
    "phase_doc_yr.plot(x='first_entry', y='usan_year', kind='scatter', alpha=0.2);"
   ]
  },
  {
   "cell_type": "code",
   "execution_count": 209,
   "metadata": {},
   "outputs": [
    {
     "data": {
      "image/png": "[encoded data removed]",
      "text/plain": [
       "<Figure size 432x288 with 1 Axes>"
      ]
     },
     "metadata": {
      "needs_background": "light"
     },
     "output_type": "display_data"
    }
   ],
   "source": [
    "phase_doc_yr.plot(x='approval_year', y='first_entry', kind='scatter', alpha=0.2);"
   ]
  },
  {
   "cell_type": "code",
   "execution_count": 204,
   "metadata": {},
   "outputs": [
    {
     "data": {
      "image/png": "[encoded data removed]",
      "text/plain": [
       "<Figure size 432x288 with 1 Axes>"
      ]
     },
     "metadata": {
      "needs_background": "light"
     },
     "output_type": "display_data"
    }
   ],
   "source": [
    "phase_doc_yr.plot(x='approval_year', y='usan_year', kind='scatter', alpha=0.2);"
   ]
  },
  {
   "cell_type": "markdown",
   "metadata": {},
   "source": [
    "Some between the years -- esp approval_year & usan_year. Not unexepcted as would likely apply for an USAN/INN (generic) name around the time drug is approved"
   ]
  },
  {
   "cell_type": "code",
   "execution_count": 206,
   "metadata": {},
   "outputs": [
    {
     "data": {
      "text/plain": [
       "99.848594505756"
      ]
     },
     "execution_count": 206,
     "metadata": {},
     "output_type": "execute_result"
    }
   ],
   "source": [
    "u.percent_null('approval_year', phase_doc_yr)"
   ]
  },
  {
   "cell_type": "code",
   "execution_count": 207,
   "metadata": {},
   "outputs": [
    {
     "data": {
      "text/plain": [
       "99.66192681985582"
      ]
     },
     "execution_count": 207,
     "metadata": {},
     "output_type": "execute_result"
    }
   ],
   "source": [
    "u.percent_null('usan_year', phase_doc_yr)"
   ]
  },
  {
   "cell_type": "code",
   "execution_count": 208,
   "metadata": {},
   "outputs": [
    {
     "data": {
      "text/plain": [
       "33.843874797026636"
      ]
     },
     "execution_count": 208,
     "metadata": {},
     "output_type": "execute_result"
    }
   ],
   "source": [
    "u.percent_null('first_entry', phase_doc_yr)"
   ]
  },
  {
   "cell_type": "markdown",
   "metadata": {},
   "source": [
    "\"Impute\" year for a molecule by taking the earliest of approval, first-doc, and usan years"
   ]
  },
  {
   "cell_type": "code",
   "execution_count": 132,
   "metadata": {},
   "outputs": [],
   "source": [
    "def year_impute(row):\n",
    "    init_guess = np.nanmin([row['approval_year'], row['first_entry'], row['usan_year']])\n",
    "    return init_guess"
   ]
  },
  {
   "cell_type": "code",
   "execution_count": 133,
   "metadata": {
    "collapsed": true
   },
   "outputs": [
    {
     "ename": "KeyError",
     "evalue": "('usan_year', 'occurred at index 0')",
     "output_type": "error",
     "traceback": [
      "\u001b[0;31m---------------------------------------------------------------------------\u001b[0m",
      "\u001b[0;31mTypeError\u001b[0m                                 Traceback (most recent call last)",
      "\u001b[0;32m~/bigquery/lib/python3.6/site-packages/pandas/core/indexes/base.py\u001b[0m in \u001b[0;36mget_value\u001b[0;34m(self, series, key)\u001b[0m\n\u001b[1;32m   3123\u001b[0m             \u001b[0;32mtry\u001b[0m\u001b[0;34m:\u001b[0m\u001b[0;34m\u001b[0m\u001b[0m\n\u001b[0;32m-> 3124\u001b[0;31m                 \u001b[0;32mreturn\u001b[0m \u001b[0mlibindex\u001b[0m\u001b[0;34m.\u001b[0m\u001b[0mget_value_box\u001b[0m\u001b[0;34m(\u001b[0m\u001b[0ms\u001b[0m\u001b[0;34m,\u001b[0m \u001b[0mkey\u001b[0m\u001b[0;34m)\u001b[0m\u001b[0;34m\u001b[0m\u001b[0m\n\u001b[0m\u001b[1;32m   3125\u001b[0m             \u001b[0;32mexcept\u001b[0m \u001b[0mIndexError\u001b[0m\u001b[0;34m:\u001b[0m\u001b[0;34m\u001b[0m\u001b[0m\n",
      "\u001b[0;32mpandas/_libs/index.pyx\u001b[0m in \u001b[0;36mpandas._libs.index.get_value_box\u001b[0;34m()\u001b[0m\n",
      "\u001b[0;32mpandas/_libs/index.pyx\u001b[0m in \u001b[0;36mpandas._libs.index.get_value_box\u001b[0;34m()\u001b[0m\n",
      "\u001b[0;31mTypeError\u001b[0m: 'str' object cannot be interpreted as an integer",
      "\nDuring handling of the above exception, another exception occurred:\n",
      "\u001b[0;31mKeyError\u001b[0m                                  Traceback (most recent call last)",
      "\u001b[0;32m<ipython-input-133-9eb76473e2a6>\u001b[0m in \u001b[0;36m<module>\u001b[0;34m\u001b[0m\n\u001b[0;32m----> 1\u001b[0;31m \u001b[0mphase_doc_yr\u001b[0m\u001b[0;34m[\u001b[0m\u001b[0;34m'year_impute'\u001b[0m\u001b[0;34m]\u001b[0m \u001b[0;34m=\u001b[0m \u001b[0mphase_doc_yr\u001b[0m\u001b[0;34m.\u001b[0m\u001b[0mapply\u001b[0m\u001b[0;34m(\u001b[0m\u001b[0;32mlambda\u001b[0m \u001b[0mrow\u001b[0m\u001b[0;34m:\u001b[0m \u001b[0myear_impute\u001b[0m\u001b[0;34m(\u001b[0m\u001b[0mrow\u001b[0m\u001b[0;34m)\u001b[0m\u001b[0;34m,\u001b[0m \u001b[0maxis\u001b[0m\u001b[0;34m=\u001b[0m\u001b[0;36m1\u001b[0m\u001b[0;34m)\u001b[0m\u001b[0;34m\u001b[0m\u001b[0m\n\u001b[0m",
      "\u001b[0;32m~/bigquery/lib/python3.6/site-packages/pandas/core/frame.py\u001b[0m in \u001b[0;36mapply\u001b[0;34m(self, func, axis, broadcast, raw, reduce, result_type, args, **kwds)\u001b[0m\n\u001b[1;32m   6012\u001b[0m                          \u001b[0margs\u001b[0m\u001b[0;34m=\u001b[0m\u001b[0margs\u001b[0m\u001b[0;34m,\u001b[0m\u001b[0;34m\u001b[0m\u001b[0m\n\u001b[1;32m   6013\u001b[0m                          kwds=kwds)\n\u001b[0;32m-> 6014\u001b[0;31m         \u001b[0;32mreturn\u001b[0m \u001b[0mop\u001b[0m\u001b[0;34m.\u001b[0m\u001b[0mget_result\u001b[0m\u001b[0;34m(\u001b[0m\u001b[0;34m)\u001b[0m\u001b[0;34m\u001b[0m\u001b[0m\n\u001b[0m\u001b[1;32m   6015\u001b[0m \u001b[0;34m\u001b[0m\u001b[0m\n\u001b[1;32m   6016\u001b[0m     \u001b[0;32mdef\u001b[0m \u001b[0mapplymap\u001b[0m\u001b[0;34m(\u001b[0m\u001b[0mself\u001b[0m\u001b[0;34m,\u001b[0m \u001b[0mfunc\u001b[0m\u001b[0;34m)\u001b[0m\u001b[0;34m:\u001b[0m\u001b[0;34m\u001b[0m\u001b[0m\n",
      "\u001b[0;32m~/bigquery/lib/python3.6/site-packages/pandas/core/apply.py\u001b[0m in \u001b[0;36mget_result\u001b[0;34m(self)\u001b[0m\n\u001b[1;32m    140\u001b[0m             \u001b[0;32mreturn\u001b[0m \u001b[0mself\u001b[0m\u001b[0;34m.\u001b[0m\u001b[0mapply_raw\u001b[0m\u001b[0;34m(\u001b[0m\u001b[0;34m)\u001b[0m\u001b[0;34m\u001b[0m\u001b[0m\n\u001b[1;32m    141\u001b[0m \u001b[0;34m\u001b[0m\u001b[0m\n\u001b[0;32m--> 142\u001b[0;31m         \u001b[0;32mreturn\u001b[0m \u001b[0mself\u001b[0m\u001b[0;34m.\u001b[0m\u001b[0mapply_standard\u001b[0m\u001b[0;34m(\u001b[0m\u001b[0;34m)\u001b[0m\u001b[0;34m\u001b[0m\u001b[0m\n\u001b[0m\u001b[1;32m    143\u001b[0m \u001b[0;34m\u001b[0m\u001b[0m\n\u001b[1;32m    144\u001b[0m     \u001b[0;32mdef\u001b[0m \u001b[0mapply_empty_result\u001b[0m\u001b[0;34m(\u001b[0m\u001b[0mself\u001b[0m\u001b[0;34m)\u001b[0m\u001b[0;34m:\u001b[0m\u001b[0;34m\u001b[0m\u001b[0m\n",
      "\u001b[0;32m~/bigquery/lib/python3.6/site-packages/pandas/core/apply.py\u001b[0m in \u001b[0;36mapply_standard\u001b[0;34m(self)\u001b[0m\n\u001b[1;32m    246\u001b[0m \u001b[0;34m\u001b[0m\u001b[0m\n\u001b[1;32m    247\u001b[0m         \u001b[0;31m# compute the result using the series generator\u001b[0m\u001b[0;34m\u001b[0m\u001b[0;34m\u001b[0m\u001b[0m\n\u001b[0;32m--> 248\u001b[0;31m         \u001b[0mself\u001b[0m\u001b[0;34m.\u001b[0m\u001b[0mapply_series_generator\u001b[0m\u001b[0;34m(\u001b[0m\u001b[0;34m)\u001b[0m\u001b[0;34m\u001b[0m\u001b[0m\n\u001b[0m\u001b[1;32m    249\u001b[0m \u001b[0;34m\u001b[0m\u001b[0m\n\u001b[1;32m    250\u001b[0m         \u001b[0;31m# wrap results\u001b[0m\u001b[0;34m\u001b[0m\u001b[0;34m\u001b[0m\u001b[0m\n",
      "\u001b[0;32m~/bigquery/lib/python3.6/site-packages/pandas/core/apply.py\u001b[0m in \u001b[0;36mapply_series_generator\u001b[0;34m(self)\u001b[0m\n\u001b[1;32m    275\u001b[0m             \u001b[0;32mtry\u001b[0m\u001b[0;34m:\u001b[0m\u001b[0;34m\u001b[0m\u001b[0m\n\u001b[1;32m    276\u001b[0m                 \u001b[0;32mfor\u001b[0m \u001b[0mi\u001b[0m\u001b[0;34m,\u001b[0m \u001b[0mv\u001b[0m \u001b[0;32min\u001b[0m \u001b[0menumerate\u001b[0m\u001b[0;34m(\u001b[0m\u001b[0mseries_gen\u001b[0m\u001b[0;34m)\u001b[0m\u001b[0;34m:\u001b[0m\u001b[0;34m\u001b[0m\u001b[0m\n\u001b[0;32m--> 277\u001b[0;31m                     \u001b[0mresults\u001b[0m\u001b[0;34m[\u001b[0m\u001b[0mi\u001b[0m\u001b[0;34m]\u001b[0m \u001b[0;34m=\u001b[0m \u001b[0mself\u001b[0m\u001b[0;34m.\u001b[0m\u001b[0mf\u001b[0m\u001b[0;34m(\u001b[0m\u001b[0mv\u001b[0m\u001b[0;34m)\u001b[0m\u001b[0;34m\u001b[0m\u001b[0m\n\u001b[0m\u001b[1;32m    278\u001b[0m                     \u001b[0mkeys\u001b[0m\u001b[0;34m.\u001b[0m\u001b[0mappend\u001b[0m\u001b[0;34m(\u001b[0m\u001b[0mv\u001b[0m\u001b[0;34m.\u001b[0m\u001b[0mname\u001b[0m\u001b[0;34m)\u001b[0m\u001b[0;34m\u001b[0m\u001b[0m\n\u001b[1;32m    279\u001b[0m             \u001b[0;32mexcept\u001b[0m \u001b[0mException\u001b[0m \u001b[0;32mas\u001b[0m \u001b[0me\u001b[0m\u001b[0;34m:\u001b[0m\u001b[0;34m\u001b[0m\u001b[0m\n",
      "\u001b[0;32m<ipython-input-133-9eb76473e2a6>\u001b[0m in \u001b[0;36m<lambda>\u001b[0;34m(row)\u001b[0m\n\u001b[0;32m----> 1\u001b[0;31m \u001b[0mphase_doc_yr\u001b[0m\u001b[0;34m[\u001b[0m\u001b[0;34m'year_impute'\u001b[0m\u001b[0;34m]\u001b[0m \u001b[0;34m=\u001b[0m \u001b[0mphase_doc_yr\u001b[0m\u001b[0;34m.\u001b[0m\u001b[0mapply\u001b[0m\u001b[0;34m(\u001b[0m\u001b[0;32mlambda\u001b[0m \u001b[0mrow\u001b[0m\u001b[0;34m:\u001b[0m \u001b[0myear_impute\u001b[0m\u001b[0;34m(\u001b[0m\u001b[0mrow\u001b[0m\u001b[0;34m)\u001b[0m\u001b[0;34m,\u001b[0m \u001b[0maxis\u001b[0m\u001b[0;34m=\u001b[0m\u001b[0;36m1\u001b[0m\u001b[0;34m)\u001b[0m\u001b[0;34m\u001b[0m\u001b[0m\n\u001b[0m",
      "\u001b[0;32m<ipython-input-132-d20b4988cdf0>\u001b[0m in \u001b[0;36myear_impute\u001b[0;34m(row)\u001b[0m\n\u001b[1;32m      1\u001b[0m \u001b[0;32mdef\u001b[0m \u001b[0myear_impute\u001b[0m\u001b[0;34m(\u001b[0m\u001b[0mrow\u001b[0m\u001b[0;34m)\u001b[0m\u001b[0;34m:\u001b[0m\u001b[0;34m\u001b[0m\u001b[0m\n\u001b[0;32m----> 2\u001b[0;31m     \u001b[0minit_guess\u001b[0m \u001b[0;34m=\u001b[0m \u001b[0mnp\u001b[0m\u001b[0;34m.\u001b[0m\u001b[0mnanmin\u001b[0m\u001b[0;34m(\u001b[0m\u001b[0;34m[\u001b[0m\u001b[0mrow\u001b[0m\u001b[0;34m[\u001b[0m\u001b[0;34m'approval_year'\u001b[0m\u001b[0;34m]\u001b[0m\u001b[0;34m,\u001b[0m \u001b[0mrow\u001b[0m\u001b[0;34m[\u001b[0m\u001b[0;34m'first_entry'\u001b[0m\u001b[0;34m]\u001b[0m\u001b[0;34m,\u001b[0m \u001b[0mrow\u001b[0m\u001b[0;34m[\u001b[0m\u001b[0;34m'usan_year'\u001b[0m\u001b[0;34m]\u001b[0m\u001b[0;34m]\u001b[0m\u001b[0;34m)\u001b[0m\u001b[0;34m\u001b[0m\u001b[0m\n\u001b[0m\u001b[1;32m      3\u001b[0m     \u001b[0;32mreturn\u001b[0m \u001b[0minit_guess\u001b[0m\u001b[0;34m\u001b[0m\u001b[0m\n",
      "\u001b[0;32m~/bigquery/lib/python3.6/site-packages/pandas/core/series.py\u001b[0m in \u001b[0;36m__getitem__\u001b[0;34m(self, key)\u001b[0m\n\u001b[1;32m    765\u001b[0m         \u001b[0mkey\u001b[0m \u001b[0;34m=\u001b[0m \u001b[0mcom\u001b[0m\u001b[0;34m.\u001b[0m\u001b[0m_apply_if_callable\u001b[0m\u001b[0;34m(\u001b[0m\u001b[0mkey\u001b[0m\u001b[0;34m,\u001b[0m \u001b[0mself\u001b[0m\u001b[0;34m)\u001b[0m\u001b[0;34m\u001b[0m\u001b[0m\n\u001b[1;32m    766\u001b[0m         \u001b[0;32mtry\u001b[0m\u001b[0;34m:\u001b[0m\u001b[0;34m\u001b[0m\u001b[0m\n\u001b[0;32m--> 767\u001b[0;31m             \u001b[0mresult\u001b[0m \u001b[0;34m=\u001b[0m \u001b[0mself\u001b[0m\u001b[0;34m.\u001b[0m\u001b[0mindex\u001b[0m\u001b[0;34m.\u001b[0m\u001b[0mget_value\u001b[0m\u001b[0;34m(\u001b[0m\u001b[0mself\u001b[0m\u001b[0;34m,\u001b[0m \u001b[0mkey\u001b[0m\u001b[0;34m)\u001b[0m\u001b[0;34m\u001b[0m\u001b[0m\n\u001b[0m\u001b[1;32m    768\u001b[0m \u001b[0;34m\u001b[0m\u001b[0m\n\u001b[1;32m    769\u001b[0m             \u001b[0;32mif\u001b[0m \u001b[0;32mnot\u001b[0m \u001b[0mis_scalar\u001b[0m\u001b[0;34m(\u001b[0m\u001b[0mresult\u001b[0m\u001b[0;34m)\u001b[0m\u001b[0;34m:\u001b[0m\u001b[0;34m\u001b[0m\u001b[0m\n",
      "\u001b[0;32m~/bigquery/lib/python3.6/site-packages/pandas/core/indexes/base.py\u001b[0m in \u001b[0;36mget_value\u001b[0;34m(self, series, key)\u001b[0m\n\u001b[1;32m   3130\u001b[0m                     \u001b[0;32mraise\u001b[0m \u001b[0mInvalidIndexError\u001b[0m\u001b[0;34m(\u001b[0m\u001b[0mkey\u001b[0m\u001b[0;34m)\u001b[0m\u001b[0;34m\u001b[0m\u001b[0m\n\u001b[1;32m   3131\u001b[0m                 \u001b[0;32melse\u001b[0m\u001b[0;34m:\u001b[0m\u001b[0;34m\u001b[0m\u001b[0m\n\u001b[0;32m-> 3132\u001b[0;31m                     \u001b[0;32mraise\u001b[0m \u001b[0me1\u001b[0m\u001b[0;34m\u001b[0m\u001b[0m\n\u001b[0m\u001b[1;32m   3133\u001b[0m             \u001b[0;32mexcept\u001b[0m \u001b[0mException\u001b[0m\u001b[0;34m:\u001b[0m  \u001b[0;31m# pragma: no cover\u001b[0m\u001b[0;34m\u001b[0m\u001b[0m\n\u001b[1;32m   3134\u001b[0m                 \u001b[0;32mraise\u001b[0m \u001b[0me1\u001b[0m\u001b[0;34m\u001b[0m\u001b[0m\n",
      "\u001b[0;32m~/bigquery/lib/python3.6/site-packages/pandas/core/indexes/base.py\u001b[0m in \u001b[0;36mget_value\u001b[0;34m(self, series, key)\u001b[0m\n\u001b[1;32m   3116\u001b[0m         \u001b[0;32mtry\u001b[0m\u001b[0;34m:\u001b[0m\u001b[0;34m\u001b[0m\u001b[0m\n\u001b[1;32m   3117\u001b[0m             return self._engine.get_value(s, k,\n\u001b[0;32m-> 3118\u001b[0;31m                                           tz=getattr(series.dtype, 'tz', None))\n\u001b[0m\u001b[1;32m   3119\u001b[0m         \u001b[0;32mexcept\u001b[0m \u001b[0mKeyError\u001b[0m \u001b[0;32mas\u001b[0m \u001b[0me1\u001b[0m\u001b[0;34m:\u001b[0m\u001b[0;34m\u001b[0m\u001b[0m\n\u001b[1;32m   3120\u001b[0m             \u001b[0;32mif\u001b[0m \u001b[0mlen\u001b[0m\u001b[0;34m(\u001b[0m\u001b[0mself\u001b[0m\u001b[0;34m)\u001b[0m \u001b[0;34m>\u001b[0m \u001b[0;36m0\u001b[0m \u001b[0;32mand\u001b[0m \u001b[0mself\u001b[0m\u001b[0;34m.\u001b[0m\u001b[0minferred_type\u001b[0m \u001b[0;32min\u001b[0m \u001b[0;34m[\u001b[0m\u001b[0;34m'integer'\u001b[0m\u001b[0;34m,\u001b[0m \u001b[0;34m'boolean'\u001b[0m\u001b[0;34m]\u001b[0m\u001b[0;34m:\u001b[0m\u001b[0;34m\u001b[0m\u001b[0m\n",
      "\u001b[0;32mpandas/_libs/index.pyx\u001b[0m in \u001b[0;36mpandas._libs.index.IndexEngine.get_value\u001b[0;34m()\u001b[0m\n",
      "\u001b[0;32mpandas/_libs/index.pyx\u001b[0m in \u001b[0;36mpandas._libs.index.IndexEngine.get_value\u001b[0;34m()\u001b[0m\n",
      "\u001b[0;32mpandas/_libs/index.pyx\u001b[0m in \u001b[0;36mpandas._libs.index.IndexEngine.get_loc\u001b[0;34m()\u001b[0m\n",
      "\u001b[0;32mpandas/_libs/hashtable_class_helper.pxi\u001b[0m in \u001b[0;36mpandas._libs.hashtable.PyObjectHashTable.get_item\u001b[0;34m()\u001b[0m\n",
      "\u001b[0;32mpandas/_libs/hashtable_class_helper.pxi\u001b[0m in \u001b[0;36mpandas._libs.hashtable.PyObjectHashTable.get_item\u001b[0;34m()\u001b[0m\n",
      "\u001b[0;31mKeyError\u001b[0m: ('usan_year', 'occurred at index 0')"
     ]
    }
   ],
   "source": [
    "phase_doc_yr['year_impute'] = phase_doc_yr.apply(lambda row: year_impute(row), axis=1)"
   ]
  },
  {
   "cell_type": "code",
   "execution_count": 236,
   "metadata": {},
   "outputs": [
    {
     "data": {
      "text/html": [
       "<div>\n",
       "<style scoped>\n",
       "    .dataframe tbody tr th:only-of-type {\n",
       "        vertical-align: middle;\n",
       "    }\n",
       "\n",
       "    .dataframe tbody tr th {\n",
       "        vertical-align: top;\n",
       "    }\n",
       "\n",
       "    .dataframe thead th {\n",
       "        text-align: right;\n",
       "    }\n",
       "</style>\n",
       "<table border=\"1\" class=\"dataframe\">\n",
       "  <thead>\n",
       "    <tr style=\"text-align: right;\">\n",
       "      <th></th>\n",
       "      <th>molecule_key</th>\n",
       "      <th>mol_dict_phase</th>\n",
       "      <th>thera_flag</th>\n",
       "      <th>approval_year</th>\n",
       "      <th>max_drug_ind_phase</th>\n",
       "      <th>count</th>\n",
       "      <th>num_docs</th>\n",
       "      <th>first_entry</th>\n",
       "      <th>latest_entry</th>\n",
       "      <th>usan_year</th>\n",
       "      <th>year_impute</th>\n",
       "    </tr>\n",
       "  </thead>\n",
       "  <tbody>\n",
       "    <tr>\n",
       "      <th>1033356</th>\n",
       "      <td>702236</td>\n",
       "      <td>0</td>\n",
       "      <td>0</td>\n",
       "      <td>NaN</td>\n",
       "      <td>None</td>\n",
       "      <td>1</td>\n",
       "      <td>1</td>\n",
       "      <td>2010.0</td>\n",
       "      <td>2010.0</td>\n",
       "      <td>NaN</td>\n",
       "      <td>2010.0</td>\n",
       "    </tr>\n",
       "    <tr>\n",
       "      <th>377773</th>\n",
       "      <td>560864</td>\n",
       "      <td>0</td>\n",
       "      <td>0</td>\n",
       "      <td>NaN</td>\n",
       "      <td>None</td>\n",
       "      <td>1</td>\n",
       "      <td>1</td>\n",
       "      <td>2009.0</td>\n",
       "      <td>2009.0</td>\n",
       "      <td>NaN</td>\n",
       "      <td>2009.0</td>\n",
       "    </tr>\n",
       "    <tr>\n",
       "      <th>1106336</th>\n",
       "      <td>1683942</td>\n",
       "      <td>0</td>\n",
       "      <td>0</td>\n",
       "      <td>NaN</td>\n",
       "      <td>None</td>\n",
       "      <td>1</td>\n",
       "      <td>0</td>\n",
       "      <td>NaN</td>\n",
       "      <td>NaN</td>\n",
       "      <td>NaN</td>\n",
       "      <td>NaN</td>\n",
       "    </tr>\n",
       "    <tr>\n",
       "      <th>1271157</th>\n",
       "      <td>1743195</td>\n",
       "      <td>0</td>\n",
       "      <td>0</td>\n",
       "      <td>NaN</td>\n",
       "      <td>None</td>\n",
       "      <td>1</td>\n",
       "      <td>1</td>\n",
       "      <td>1979.0</td>\n",
       "      <td>1979.0</td>\n",
       "      <td>NaN</td>\n",
       "      <td>1979.0</td>\n",
       "    </tr>\n",
       "    <tr>\n",
       "      <th>889347</th>\n",
       "      <td>896632</td>\n",
       "      <td>0</td>\n",
       "      <td>0</td>\n",
       "      <td>NaN</td>\n",
       "      <td>None</td>\n",
       "      <td>1</td>\n",
       "      <td>0</td>\n",
       "      <td>NaN</td>\n",
       "      <td>NaN</td>\n",
       "      <td>NaN</td>\n",
       "      <td>NaN</td>\n",
       "    </tr>\n",
       "    <tr>\n",
       "      <th>1359955</th>\n",
       "      <td>738920</td>\n",
       "      <td>0</td>\n",
       "      <td>0</td>\n",
       "      <td>NaN</td>\n",
       "      <td>None</td>\n",
       "      <td>1</td>\n",
       "      <td>0</td>\n",
       "      <td>NaN</td>\n",
       "      <td>NaN</td>\n",
       "      <td>NaN</td>\n",
       "      <td>NaN</td>\n",
       "    </tr>\n",
       "    <tr>\n",
       "      <th>1032891</th>\n",
       "      <td>690560</td>\n",
       "      <td>0</td>\n",
       "      <td>0</td>\n",
       "      <td>NaN</td>\n",
       "      <td>None</td>\n",
       "      <td>1</td>\n",
       "      <td>1</td>\n",
       "      <td>2010.0</td>\n",
       "      <td>2010.0</td>\n",
       "      <td>NaN</td>\n",
       "      <td>2010.0</td>\n",
       "    </tr>\n",
       "    <tr>\n",
       "      <th>673555</th>\n",
       "      <td>253043</td>\n",
       "      <td>0</td>\n",
       "      <td>0</td>\n",
       "      <td>NaN</td>\n",
       "      <td>None</td>\n",
       "      <td>1</td>\n",
       "      <td>1</td>\n",
       "      <td>2001.0</td>\n",
       "      <td>2001.0</td>\n",
       "      <td>NaN</td>\n",
       "      <td>2001.0</td>\n",
       "    </tr>\n",
       "    <tr>\n",
       "      <th>1121141</th>\n",
       "      <td>1899415</td>\n",
       "      <td>0</td>\n",
       "      <td>0</td>\n",
       "      <td>NaN</td>\n",
       "      <td>None</td>\n",
       "      <td>1</td>\n",
       "      <td>0</td>\n",
       "      <td>NaN</td>\n",
       "      <td>NaN</td>\n",
       "      <td>NaN</td>\n",
       "      <td>NaN</td>\n",
       "    </tr>\n",
       "    <tr>\n",
       "      <th>1227710</th>\n",
       "      <td>1074599</td>\n",
       "      <td>0</td>\n",
       "      <td>0</td>\n",
       "      <td>NaN</td>\n",
       "      <td>None</td>\n",
       "      <td>1</td>\n",
       "      <td>1</td>\n",
       "      <td>2011.0</td>\n",
       "      <td>2011.0</td>\n",
       "      <td>NaN</td>\n",
       "      <td>2011.0</td>\n",
       "    </tr>\n",
       "  </tbody>\n",
       "</table>\n",
       "</div>"
      ],
      "text/plain": [
       "        molecule_key mol_dict_phase thera_flag  approval_year  \\\n",
       "1033356       702236              0          0            NaN   \n",
       "377773        560864              0          0            NaN   \n",
       "1106336      1683942              0          0            NaN   \n",
       "1271157      1743195              0          0            NaN   \n",
       "889347        896632              0          0            NaN   \n",
       "1359955       738920              0          0            NaN   \n",
       "1032891       690560              0          0            NaN   \n",
       "673555        253043              0          0            NaN   \n",
       "1121141      1899415              0          0            NaN   \n",
       "1227710      1074599              0          0            NaN   \n",
       "\n",
       "        max_drug_ind_phase  count  num_docs  first_entry  latest_entry  \\\n",
       "1033356               None      1         1       2010.0        2010.0   \n",
       "377773                None      1         1       2009.0        2009.0   \n",
       "1106336               None      1         0          NaN           NaN   \n",
       "1271157               None      1         1       1979.0        1979.0   \n",
       "889347                None      1         0          NaN           NaN   \n",
       "1359955               None      1         0          NaN           NaN   \n",
       "1032891               None      1         1       2010.0        2010.0   \n",
       "673555                None      1         1       2001.0        2001.0   \n",
       "1121141               None      1         0          NaN           NaN   \n",
       "1227710               None      1         1       2011.0        2011.0   \n",
       "\n",
       "         usan_year  year_impute  \n",
       "1033356        NaN       2010.0  \n",
       "377773         NaN       2009.0  \n",
       "1106336        NaN          NaN  \n",
       "1271157        NaN       1979.0  \n",
       "889347         NaN          NaN  \n",
       "1359955        NaN          NaN  \n",
       "1032891        NaN       2010.0  \n",
       "673555         NaN       2001.0  \n",
       "1121141        NaN          NaN  \n",
       "1227710        NaN       2011.0  "
      ]
     },
     "execution_count": 236,
     "metadata": {},
     "output_type": "execute_result"
    }
   ],
   "source": [
    "phase_doc_yr.sample(10)"
   ]
  },
  {
   "cell_type": "code",
   "execution_count": 189,
   "metadata": {},
   "outputs": [
    {
     "name": "stdout",
     "output_type": "stream",
     "text": [
      "If we threw out those molecules without a year,\n",
      "we'd be left with 1194784 out of 1747899\n"
     ]
    }
   ],
   "source": [
    "print(f'''If we threw out those molecules without a year,\n",
    "we'd be left with {len(phase_doc_yr[phase_doc_yr['first_entry'].notnull()])} out of {len(phase_doc_yr)}''')"
   ]
  },
  {
   "cell_type": "code",
   "execution_count": 193,
   "metadata": {},
   "outputs": [
    {
     "name": "stdout",
     "output_type": "stream",
     "text": [
      "If we further excluded those entered after 2008,\n",
      "we'd be left with 669158 out of 1747899\n"
     ]
    }
   ],
   "source": [
    "print(f'''If we further excluded those entered after 2008,\n",
    "we'd be left with {len(phase_doc_yr[phase_doc_yr['first_entry'] > 2008])} out of {len(phase_doc_yr)}''')"
   ]
  },
  {
   "cell_type": "code",
   "execution_count": 195,
   "metadata": {},
   "outputs": [
    {
     "name": "stdout",
     "output_type": "stream",
     "text": [
      "However, of these \"recent\" molecules, 902 are approved, so we could add them back in\n"
     ]
    }
   ],
   "source": [
    "print(f'''However, of these \"recent\" molecules, {len(phase_doc_yr[(phase_doc_yr['mol_dict_phase'] > 2) & \n",
    "                 ((phase_doc_yr['first_entry'].isnull()) & \n",
    "                  phase_doc_yr['approval_year'].isnull())])} are approved, so we could add them back in''')"
   ]
  },
  {
   "cell_type": "code",
   "execution_count": 237,
   "metadata": {},
   "outputs": [],
   "source": [
    "entry_year = phase_doc_yr[['molecule_key', 'num_docs', 'year_impute']]"
   ]
  },
  {
   "cell_type": "code",
   "execution_count": 238,
   "metadata": {},
   "outputs": [
    {
     "data": {
      "text/html": [
       "<div>\n",
       "<style scoped>\n",
       "    .dataframe tbody tr th:only-of-type {\n",
       "        vertical-align: middle;\n",
       "    }\n",
       "\n",
       "    .dataframe tbody tr th {\n",
       "        vertical-align: top;\n",
       "    }\n",
       "\n",
       "    .dataframe thead th {\n",
       "        text-align: right;\n",
       "    }\n",
       "</style>\n",
       "<table border=\"1\" class=\"dataframe\">\n",
       "  <thead>\n",
       "    <tr style=\"text-align: right;\">\n",
       "      <th></th>\n",
       "      <th>molecule_key</th>\n",
       "      <th>num_docs</th>\n",
       "      <th>year_impute</th>\n",
       "    </tr>\n",
       "  </thead>\n",
       "  <tbody>\n",
       "    <tr>\n",
       "      <th>0</th>\n",
       "      <td>675621</td>\n",
       "      <td>0</td>\n",
       "      <td>1942.0</td>\n",
       "    </tr>\n",
       "    <tr>\n",
       "      <th>1</th>\n",
       "      <td>675604</td>\n",
       "      <td>2</td>\n",
       "      <td>1996.0</td>\n",
       "    </tr>\n",
       "    <tr>\n",
       "      <th>2</th>\n",
       "      <td>1763559</td>\n",
       "      <td>0</td>\n",
       "      <td>2014.0</td>\n",
       "    </tr>\n",
       "    <tr>\n",
       "      <th>3</th>\n",
       "      <td>1926791</td>\n",
       "      <td>1</td>\n",
       "      <td>2015.0</td>\n",
       "    </tr>\n",
       "    <tr>\n",
       "      <th>4</th>\n",
       "      <td>1926875</td>\n",
       "      <td>0</td>\n",
       "      <td>NaN</td>\n",
       "    </tr>\n",
       "  </tbody>\n",
       "</table>\n",
       "</div>"
      ],
      "text/plain": [
       "  molecule_key  num_docs  year_impute\n",
       "0       675621         0       1942.0\n",
       "1       675604         2       1996.0\n",
       "2      1763559         0       2014.0\n",
       "3      1926791         1       2015.0\n",
       "4      1926875         0          NaN"
      ]
     },
     "execution_count": 238,
     "metadata": {},
     "output_type": "execute_result"
    }
   ],
   "source": [
    "entry_year.head()"
   ]
  },
  {
   "cell_type": "code",
   "execution_count": 203,
   "metadata": {},
   "outputs": [
    {
     "name": "stdout",
     "output_type": "stream",
     "text": [
      "  66.32% of molecules have a year associated with them\n"
     ]
    }
   ],
   "source": [
    "print(f' {1075742 / len(entry_year) *100: .2f}% of molecules have a year associated with them')"
   ]
  },
  {
   "cell_type": "code",
   "execution_count": 2,
   "metadata": {},
   "outputs": [],
   "source": [
    "# entry_year.to_csv('Data/entry_years.csv', index=False)\n",
    "entry_year = pd.read_csv('Data/entry_years.csv')"
   ]
  },
  {
   "cell_type": "code",
   "execution_count": 6,
   "metadata": {},
   "outputs": [
    {
     "name": "stderr",
     "output_type": "stream",
     "text": [
      "/Users/kendra/bigquery/lib/python3.6/site-packages/numpy/lib/histograms.py:754: RuntimeWarning: invalid value encountered in greater_equal\n",
      "  keep = (tmp_a >= first_edge)\n",
      "/Users/kendra/bigquery/lib/python3.6/site-packages/numpy/lib/histograms.py:755: RuntimeWarning: invalid value encountered in less_equal\n",
      "  keep &= (tmp_a <= last_edge)\n"
     ]
    },
    {
     "data": {
      "image/png": "[encoded data removed]",
      "text/plain": [
       "<Figure size 432x288 with 1 Axes>"
      ]
     },
     "metadata": {
      "needs_background": "light"
     },
     "output_type": "display_data"
    }
   ],
   "source": [
    "plt.hist(entry_year['year_impute'], bins=20);"
   ]
  },
  {
   "cell_type": "code",
   "execution_count": null,
   "metadata": {},
   "outputs": [],
   "source": []
  },
  {
   "cell_type": "markdown",
   "metadata": {},
   "source": [
    "#### Explore number of entries as a feature:"
   ]
  },
  {
   "cell_type": "code",
   "execution_count": 103,
   "metadata": {},
   "outputs": [
    {
     "data": {
      "text/plain": [
       "count    1.747899e+06\n",
       "mean     8.418862e-01\n",
       "std      3.539025e+00\n",
       "min      0.000000e+00\n",
       "25%      0.000000e+00\n",
       "50%      1.000000e+00\n",
       "75%      1.000000e+00\n",
       "max      1.521000e+03\n",
       "Name: num_entries, dtype: float64"
      ]
     },
     "execution_count": 103,
     "metadata": {},
     "output_type": "execute_result"
    }
   ],
   "source": [
    "years['num_entries'].describe()"
   ]
  },
  {
   "cell_type": "code",
   "execution_count": 104,
   "metadata": {},
   "outputs": [
    {
     "data": {
      "text/plain": [
       "{'whiskers': [<matplotlib.lines.Line2D at 0x1477c3940>,\n",
       "  <matplotlib.lines.Line2D at 0x1477c3c88>],\n",
       " 'caps': [<matplotlib.lines.Line2D at 0x1477c3fd0>,\n",
       "  <matplotlib.lines.Line2D at 0x12be51358>],\n",
       " 'boxes': [<matplotlib.lines.Line2D at 0x1477c37f0>],\n",
       " 'medians': [<matplotlib.lines.Line2D at 0x12be516a0>],\n",
       " 'fliers': [<matplotlib.lines.Line2D at 0x12be519e8>],\n",
       " 'means': []}"
      ]
     },
     "execution_count": 104,
     "metadata": {},
     "output_type": "execute_result"
    },
    {
     "data": {
      "image/png": "[encoded data removed]",
      "text/plain": [
       "<Figure size 432x288 with 1 Axes>"
      ]
     },
     "metadata": {
      "needs_background": "light"
     },
     "output_type": "display_data"
    }
   ],
   "source": [
    "plt.boxplot(years['num_entries'])"
   ]
  },
  {
   "cell_type": "markdown",
   "metadata": {},
   "source": [
    "Ultimately decided this is posterior information and cannot be used in model."
   ]
  },
  {
   "cell_type": "markdown",
   "metadata": {},
   "source": [
    "### Research Company"
   ]
  },
  {
   "cell_type": "code",
   "execution_count": 175,
   "metadata": {},
   "outputs": [
    {
     "data": {
      "text/plain": [
       "0.046476264484226704"
      ]
     },
     "execution_count": 175,
     "metadata": {},
     "output_type": "execute_result"
    }
   ],
   "source": [
    "query5b = \"\"\"\n",
    "SELECT ms.molregno as molecule_key, MAX(md.max_phase) as max_phase,\n",
    "    ARRAY_AGG(rc.company) as research_company,\n",
    "    COUNT(rc.company) as num_companies\n",
    "FROM `patents-public-data.ebi_chembl.molecule_synonyms_24` as ms\n",
    "JOIN `patents-public-data.ebi_chembl.molecule_dictionary_24` as md ON md.molregno = ms.molregno\n",
    "JOIN `patents-public-data.ebi_chembl.research_companies_24` as rc ON rc.res_stem_id = ms.res_stem_id\n",
    "WHERE md.molecule_type = 'Small molecule' \n",
    "GROUP BY ms.molregno\n",
    "        \"\"\"\n",
    "ebi_chembl.estimate_query_size(query5b)"
   ]
  },
  {
   "cell_type": "code",
   "execution_count": 176,
   "metadata": {},
   "outputs": [],
   "source": [
    "res_co2 = ebi_chembl.query_to_pandas_safe(query5b)"
   ]
  },
  {
   "cell_type": "code",
   "execution_count": 177,
   "metadata": {},
   "outputs": [
    {
     "data": {
      "text/html": [
       "<div>\n",
       "<style scoped>\n",
       "    .dataframe tbody tr th:only-of-type {\n",
       "        vertical-align: middle;\n",
       "    }\n",
       "\n",
       "    .dataframe tbody tr th {\n",
       "        vertical-align: top;\n",
       "    }\n",
       "\n",
       "    .dataframe thead th {\n",
       "        text-align: right;\n",
       "    }\n",
       "</style>\n",
       "<table border=\"1\" class=\"dataframe\">\n",
       "  <thead>\n",
       "    <tr style=\"text-align: right;\">\n",
       "      <th></th>\n",
       "      <th>molecule_key</th>\n",
       "      <th>max_phase</th>\n",
       "      <th>research_company</th>\n",
       "      <th>num_companies</th>\n",
       "    </tr>\n",
       "  </thead>\n",
       "  <tbody>\n",
       "    <tr>\n",
       "      <th>0</th>\n",
       "      <td>53118</td>\n",
       "      <td>0</td>\n",
       "      <td>[GEA]</td>\n",
       "      <td>1</td>\n",
       "    </tr>\n",
       "    <tr>\n",
       "      <th>1</th>\n",
       "      <td>1066428</td>\n",
       "      <td>0</td>\n",
       "      <td>[OSI]</td>\n",
       "      <td>1</td>\n",
       "    </tr>\n",
       "    <tr>\n",
       "      <th>2</th>\n",
       "      <td>1078529</td>\n",
       "      <td>0</td>\n",
       "      <td>[OSI]</td>\n",
       "      <td>1</td>\n",
       "    </tr>\n",
       "    <tr>\n",
       "      <th>3</th>\n",
       "      <td>3611</td>\n",
       "      <td>0</td>\n",
       "      <td>[Ono]</td>\n",
       "      <td>1</td>\n",
       "    </tr>\n",
       "    <tr>\n",
       "      <th>4</th>\n",
       "      <td>33880</td>\n",
       "      <td>0</td>\n",
       "      <td>[Ono]</td>\n",
       "      <td>1</td>\n",
       "    </tr>\n",
       "  </tbody>\n",
       "</table>\n",
       "</div>"
      ],
      "text/plain": [
       "  molecule_key max_phase research_company  num_companies\n",
       "0        53118         0            [GEA]              1\n",
       "1      1066428         0            [OSI]              1\n",
       "2      1078529         0            [OSI]              1\n",
       "3         3611         0            [Ono]              1\n",
       "4        33880         0            [Ono]              1"
      ]
     },
     "execution_count": 177,
     "metadata": {},
     "output_type": "execute_result"
    }
   ],
   "source": [
    "res_co2.head()"
   ]
  },
  {
   "cell_type": "code",
   "execution_count": 167,
   "metadata": {},
   "outputs": [
    {
     "data": {
      "text/plain": [
       "35107"
      ]
     },
     "execution_count": 167,
     "metadata": {},
     "output_type": "execute_result"
    }
   ],
   "source": [
    "len(res_co2)"
   ]
  },
  {
   "cell_type": "code",
   "execution_count": 166,
   "metadata": {},
   "outputs": [
    {
     "data": {
      "text/plain": [
       "count    35107.000000\n",
       "mean         1.278264\n",
       "std          0.812240\n",
       "min          1.000000\n",
       "25%          1.000000\n",
       "50%          1.000000\n",
       "75%          1.000000\n",
       "max         17.000000\n",
       "Name: num_companies, dtype: float64"
      ]
     },
     "execution_count": 166,
     "metadata": {},
     "output_type": "execute_result"
    }
   ],
   "source": [
    "res_co2.num_companies.describe()"
   ]
  },
  {
   "cell_type": "code",
   "execution_count": 178,
   "metadata": {},
   "outputs": [
    {
     "data": {
      "text/plain": [
       "0    33180\n",
       "4     1118\n",
       "2      386\n",
       "3      280\n",
       "1      143\n",
       "Name: max_phase, dtype: int64"
      ]
     },
     "execution_count": 178,
     "metadata": {},
     "output_type": "execute_result"
    }
   ],
   "source": [
    "res_co2.max_phase.value_counts()"
   ]
  },
  {
   "cell_type": "markdown",
   "metadata": {},
   "source": [
    "Great! this isn't a leaky variable"
   ]
  },
  {
   "cell_type": "code",
   "execution_count": 223,
   "metadata": {},
   "outputs": [],
   "source": [
    "u.pkl_this('Data/molecule_research_co.pkl', res_co2)"
   ]
  },
  {
   "cell_type": "markdown",
   "metadata": {},
   "source": [
    "A different approach: T/F (1/0) if molecule has an associated research co. T/F (1/0) if molecule has a synonym. (There are >150,000 entries in the synonym table, so this doesn't appear to be a leaky variable)"
   ]
  },
  {
   "cell_type": "code",
   "execution_count": 227,
   "metadata": {},
   "outputs": [
    {
     "data": {
      "text/plain": [
       "0.04255192540585995"
      ]
     },
     "execution_count": 227,
     "metadata": {},
     "output_type": "execute_result"
    }
   ],
   "source": [
    "query5d = \"\"\" \n",
    "WITH mol_syn as(\n",
    "    SELECT ms.molregno as key, COUNT(ms.molsyn_id) as num_syn, COUNT(rc.company) as num_co\n",
    "    FROM `patents-public-data.ebi_chembl.molecule_synonyms_24` as ms\n",
    "    LEFT JOIN `patents-public-data.ebi_chembl.research_companies_24` as rc ON rc.res_stem_id = ms.res_stem_id\n",
    "    GROUP BY ms.molregno\n",
    "    )\n",
    "\n",
    "SELECT md.molregno as molecule_key, \n",
    "    (CASE WHEN mol_syn.num_syn > 0 THEN 1 ELSE 0 END) as synonym,\n",
    "    (CASE WHEN mol_syn.num_co > 0 THEN 1 ELSE 0 END) as research_co\n",
    "FROM  `patents-public-data.ebi_chembl.molecule_dictionary_24` as md\n",
    "LEFT JOIN mol_syn on mol_syn.key = md.molregno\n",
    "WHERE md.molecule_type = 'Small molecule'\n",
    "        \"\"\"\n",
    "ebi_chembl.estimate_query_size(query5d)"
   ]
  },
  {
   "cell_type": "code",
   "execution_count": 228,
   "metadata": {},
   "outputs": [],
   "source": [
    "syn_res = ebi_chembl.query_to_pandas_safe(query5d)"
   ]
  },
  {
   "cell_type": "code",
   "execution_count": 229,
   "metadata": {},
   "outputs": [
    {
     "data": {
      "text/html": [
       "<div>\n",
       "<style scoped>\n",
       "    .dataframe tbody tr th:only-of-type {\n",
       "        vertical-align: middle;\n",
       "    }\n",
       "\n",
       "    .dataframe tbody tr th {\n",
       "        vertical-align: top;\n",
       "    }\n",
       "\n",
       "    .dataframe thead th {\n",
       "        text-align: right;\n",
       "    }\n",
       "</style>\n",
       "<table border=\"1\" class=\"dataframe\">\n",
       "  <thead>\n",
       "    <tr style=\"text-align: right;\">\n",
       "      <th></th>\n",
       "      <th>molecule_key</th>\n",
       "      <th>synonym</th>\n",
       "      <th>research_co</th>\n",
       "    </tr>\n",
       "  </thead>\n",
       "  <tbody>\n",
       "    <tr>\n",
       "      <th>0</th>\n",
       "      <td>871699</td>\n",
       "      <td>0</td>\n",
       "      <td>0</td>\n",
       "    </tr>\n",
       "    <tr>\n",
       "      <th>1</th>\n",
       "      <td>1248979</td>\n",
       "      <td>0</td>\n",
       "      <td>0</td>\n",
       "    </tr>\n",
       "    <tr>\n",
       "      <th>2</th>\n",
       "      <td>1382991</td>\n",
       "      <td>0</td>\n",
       "      <td>0</td>\n",
       "    </tr>\n",
       "    <tr>\n",
       "      <th>3</th>\n",
       "      <td>1382992</td>\n",
       "      <td>0</td>\n",
       "      <td>0</td>\n",
       "    </tr>\n",
       "    <tr>\n",
       "      <th>4</th>\n",
       "      <td>1382993</td>\n",
       "      <td>0</td>\n",
       "      <td>0</td>\n",
       "    </tr>\n",
       "  </tbody>\n",
       "</table>\n",
       "</div>"
      ],
      "text/plain": [
       "  molecule_key  synonym  research_co\n",
       "0       871699        0            0\n",
       "1      1248979        0            0\n",
       "2      1382991        0            0\n",
       "3      1382992        0            0\n",
       "4      1382993        0            0"
      ]
     },
     "execution_count": 229,
     "metadata": {},
     "output_type": "execute_result"
    }
   ],
   "source": [
    "syn_res.head()"
   ]
  },
  {
   "cell_type": "code",
   "execution_count": 230,
   "metadata": {},
   "outputs": [
    {
     "data": {
      "text/plain": [
       "82499"
      ]
     },
     "execution_count": 230,
     "metadata": {},
     "output_type": "execute_result"
    }
   ],
   "source": [
    "np.sum(syn_res['synonym'])"
   ]
  },
  {
   "cell_type": "code",
   "execution_count": 232,
   "metadata": {},
   "outputs": [
    {
     "data": {
      "text/plain": [
       "0.04117761645466089"
      ]
     },
     "execution_count": 232,
     "metadata": {},
     "output_type": "execute_result"
    }
   ],
   "source": [
    "query5e = \"\"\" \n",
    "    SELECT COUNT (DISTINCT ms.molregno) \n",
    "    FROM `patents-public-data.ebi_chembl.molecule_synonyms_24` as ms\n",
    "    JOIN `patents-public-data.ebi_chembl.molecule_dictionary_24` as md on md.molregno = ms.molregno\n",
    "    WHERE md.molecule_type = 'Small molecule'\n",
    "        \"\"\"\n",
    "ebi_chembl.estimate_query_size(query5e)"
   ]
  },
  {
   "cell_type": "code",
   "execution_count": 233,
   "metadata": {},
   "outputs": [
    {
     "data": {
      "text/html": [
       "<div>\n",
       "<style scoped>\n",
       "    .dataframe tbody tr th:only-of-type {\n",
       "        vertical-align: middle;\n",
       "    }\n",
       "\n",
       "    .dataframe tbody tr th {\n",
       "        vertical-align: top;\n",
       "    }\n",
       "\n",
       "    .dataframe thead th {\n",
       "        text-align: right;\n",
       "    }\n",
       "</style>\n",
       "<table border=\"1\" class=\"dataframe\">\n",
       "  <thead>\n",
       "    <tr style=\"text-align: right;\">\n",
       "      <th></th>\n",
       "      <th>f0_</th>\n",
       "    </tr>\n",
       "  </thead>\n",
       "  <tbody>\n",
       "    <tr>\n",
       "      <th>0</th>\n",
       "      <td>82499</td>\n",
       "    </tr>\n",
       "  </tbody>\n",
       "</table>\n",
       "</div>"
      ],
      "text/plain": [
       "     f0_\n",
       "0  82499"
      ]
     },
     "execution_count": 233,
     "metadata": {},
     "output_type": "execute_result"
    }
   ],
   "source": [
    "num_syns = ebi_chembl.query_to_pandas_safe(query5e)\n",
    "num_syns"
   ]
  },
  {
   "cell_type": "code",
   "execution_count": 231,
   "metadata": {},
   "outputs": [
    {
     "data": {
      "text/plain": [
       "35107"
      ]
     },
     "execution_count": 231,
     "metadata": {},
     "output_type": "execute_result"
    }
   ],
   "source": [
    "# this is same as number of reserach_co results above\n",
    "np.sum(syn_res['research_co'])"
   ]
  },
  {
   "cell_type": "code",
   "execution_count": 234,
   "metadata": {},
   "outputs": [
    {
     "data": {
      "text/plain": [
       "(1701313, 1701313)"
      ]
     },
     "execution_count": 234,
     "metadata": {},
     "output_type": "execute_result"
    }
   ],
   "source": [
    "len(syn_res), len(syn_res['molecule_key'].unique())"
   ]
  },
  {
   "cell_type": "code",
   "execution_count": 222,
   "metadata": {},
   "outputs": [],
   "source": [
    "syn_res.to_csv('Data/mol_syn_resco.csv')"
   ]
  },
  {
   "cell_type": "markdown",
   "metadata": {},
   "source": [
    "### Merge year & research co info into one df for export to modeling notebook"
   ]
  },
  {
   "cell_type": "code",
   "execution_count": 224,
   "metadata": {},
   "outputs": [
    {
     "data": {
      "text/html": [
       "<div>\n",
       "<style scoped>\n",
       "    .dataframe tbody tr th:only-of-type {\n",
       "        vertical-align: middle;\n",
       "    }\n",
       "\n",
       "    .dataframe tbody tr th {\n",
       "        vertical-align: top;\n",
       "    }\n",
       "\n",
       "    .dataframe thead th {\n",
       "        text-align: right;\n",
       "    }\n",
       "</style>\n",
       "<table border=\"1\" class=\"dataframe\">\n",
       "  <thead>\n",
       "    <tr style=\"text-align: right;\">\n",
       "      <th></th>\n",
       "      <th>molecule_key</th>\n",
       "      <th>num_docs</th>\n",
       "      <th>year_impute</th>\n",
       "    </tr>\n",
       "  </thead>\n",
       "  <tbody>\n",
       "    <tr>\n",
       "      <th>0</th>\n",
       "      <td>675621</td>\n",
       "      <td>0</td>\n",
       "      <td>1942.0</td>\n",
       "    </tr>\n",
       "    <tr>\n",
       "      <th>1</th>\n",
       "      <td>675604</td>\n",
       "      <td>2</td>\n",
       "      <td>1996.0</td>\n",
       "    </tr>\n",
       "    <tr>\n",
       "      <th>2</th>\n",
       "      <td>1763559</td>\n",
       "      <td>0</td>\n",
       "      <td>2014.0</td>\n",
       "    </tr>\n",
       "    <tr>\n",
       "      <th>3</th>\n",
       "      <td>1926791</td>\n",
       "      <td>1</td>\n",
       "      <td>2015.0</td>\n",
       "    </tr>\n",
       "    <tr>\n",
       "      <th>4</th>\n",
       "      <td>1926875</td>\n",
       "      <td>0</td>\n",
       "      <td>NaN</td>\n",
       "    </tr>\n",
       "  </tbody>\n",
       "</table>\n",
       "</div>"
      ],
      "text/plain": [
       "   molecule_key  num_docs  year_impute\n",
       "0        675621         0       1942.0\n",
       "1        675604         2       1996.0\n",
       "2       1763559         0       2014.0\n",
       "3       1926791         1       2015.0\n",
       "4       1926875         0          NaN"
      ]
     },
     "execution_count": 224,
     "metadata": {},
     "output_type": "execute_result"
    }
   ],
   "source": [
    "entry_year.head()"
   ]
  },
  {
   "cell_type": "code",
   "execution_count": 226,
   "metadata": {},
   "outputs": [
    {
     "data": {
      "text/plain": [
       "1622134"
      ]
     },
     "execution_count": 226,
     "metadata": {},
     "output_type": "execute_result"
    }
   ],
   "source": [
    "len(entry_year)"
   ]
  },
  {
   "cell_type": "code",
   "execution_count": 240,
   "metadata": {},
   "outputs": [],
   "source": [
    "syn_res['molecule_key'] = pd.to_numeric(syn_res['molecule_key'])\n",
    "grand_df = pd.merge(syn_res, entry_year, how='left', on='molecule_key')"
   ]
  },
  {
   "cell_type": "code",
   "execution_count": 242,
   "metadata": {},
   "outputs": [
    {
     "data": {
      "text/html": [
       "<div>\n",
       "<style scoped>\n",
       "    .dataframe tbody tr th:only-of-type {\n",
       "        vertical-align: middle;\n",
       "    }\n",
       "\n",
       "    .dataframe tbody tr th {\n",
       "        vertical-align: top;\n",
       "    }\n",
       "\n",
       "    .dataframe thead th {\n",
       "        text-align: right;\n",
       "    }\n",
       "</style>\n",
       "<table border=\"1\" class=\"dataframe\">\n",
       "  <thead>\n",
       "    <tr style=\"text-align: right;\">\n",
       "      <th></th>\n",
       "      <th>molecule_key</th>\n",
       "      <th>synonym</th>\n",
       "      <th>research_co</th>\n",
       "      <th>num_docs</th>\n",
       "      <th>year_impute</th>\n",
       "    </tr>\n",
       "  </thead>\n",
       "  <tbody>\n",
       "    <tr>\n",
       "      <th>0</th>\n",
       "      <td>871699</td>\n",
       "      <td>0</td>\n",
       "      <td>0</td>\n",
       "      <td>0</td>\n",
       "      <td>1992.0</td>\n",
       "    </tr>\n",
       "    <tr>\n",
       "      <th>1</th>\n",
       "      <td>1248979</td>\n",
       "      <td>0</td>\n",
       "      <td>0</td>\n",
       "      <td>0</td>\n",
       "      <td>1963.0</td>\n",
       "    </tr>\n",
       "    <tr>\n",
       "      <th>2</th>\n",
       "      <td>1627026</td>\n",
       "      <td>0</td>\n",
       "      <td>0</td>\n",
       "      <td>1</td>\n",
       "      <td>1963.0</td>\n",
       "    </tr>\n",
       "    <tr>\n",
       "      <th>3</th>\n",
       "      <td>218</td>\n",
       "      <td>0</td>\n",
       "      <td>0</td>\n",
       "      <td>1</td>\n",
       "      <td>2003.0</td>\n",
       "    </tr>\n",
       "    <tr>\n",
       "      <th>4</th>\n",
       "      <td>220</td>\n",
       "      <td>0</td>\n",
       "      <td>0</td>\n",
       "      <td>1</td>\n",
       "      <td>2003.0</td>\n",
       "    </tr>\n",
       "  </tbody>\n",
       "</table>\n",
       "</div>"
      ],
      "text/plain": [
       "   molecule_key  synonym  research_co  num_docs  year_impute\n",
       "0        871699        0            0         0       1992.0\n",
       "1       1248979        0            0         0       1963.0\n",
       "2       1627026        0            0         1       1963.0\n",
       "3           218        0            0         1       2003.0\n",
       "4           220        0            0         1       2003.0"
      ]
     },
     "execution_count": 242,
     "metadata": {},
     "output_type": "execute_result"
    }
   ],
   "source": [
    "grand_df.head()"
   ]
  },
  {
   "cell_type": "code",
   "execution_count": 249,
   "metadata": {},
   "outputs": [
    {
     "data": {
      "text/html": [
       "<div>\n",
       "<style scoped>\n",
       "    .dataframe tbody tr th:only-of-type {\n",
       "        vertical-align: middle;\n",
       "    }\n",
       "\n",
       "    .dataframe tbody tr th {\n",
       "        vertical-align: top;\n",
       "    }\n",
       "\n",
       "    .dataframe thead th {\n",
       "        text-align: right;\n",
       "    }\n",
       "</style>\n",
       "<table border=\"1\" class=\"dataframe\">\n",
       "  <thead>\n",
       "    <tr style=\"text-align: right;\">\n",
       "      <th></th>\n",
       "      <th>molecule_key</th>\n",
       "      <th>synonym</th>\n",
       "      <th>research_co</th>\n",
       "      <th>num_docs</th>\n",
       "      <th>year_impute</th>\n",
       "    </tr>\n",
       "  </thead>\n",
       "  <tbody>\n",
       "  </tbody>\n",
       "</table>\n",
       "</div>"
      ],
      "text/plain": [
       "Empty DataFrame\n",
       "Columns: [molecule_key, synonym, research_co, num_docs, year_impute]\n",
       "Index: []"
      ]
     },
     "execution_count": 249,
     "metadata": {},
     "output_type": "execute_result"
    }
   ],
   "source": [
    "grand_df[(grand_df['num_docs'].isnull()) & (grand_df['year_impute'].notnull())].head()"
   ]
  },
  {
   "cell_type": "markdown",
   "metadata": {},
   "source": [
    "I didn't do a LEFT JOIN to generate the 'entry_year' table / count docs. But any molecule that is missing a doc count is also missing a year, and thus will be excluded (sadly) from my analysis."
   ]
  },
  {
   "cell_type": "code",
   "execution_count": 250,
   "metadata": {},
   "outputs": [],
   "source": [
    "grand_df.to_csv('Data/mol_docs_year_syn_res.csv')"
   ]
  },
  {
   "cell_type": "code",
   "execution_count": null,
   "metadata": {},
   "outputs": [],
   "source": []
  }
 ],
 "metadata": {
  "kernelspec": {
   "display_name": "bigquery",
   "language": "python",
   "name": "bigquery"
  },
  "language_info": {
   "codemirror_mode": {
    "name": "ipython",
    "version": 3
   },
   "file_extension": ".py",
   "mimetype": "text/x-python",
   "name": "python",
   "nbconvert_exporter": "python",
   "pygments_lexer": "ipython3",
   "version": "3.6.6"
  }
 },
 "nbformat": 4,
 "nbformat_minor": 2
}
