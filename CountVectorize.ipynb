{
 "cells": [
  {
   "cell_type": "code",
   "execution_count": 1,
   "metadata": {},
   "outputs": [],
   "source": [
    "import pandas as pd\n",
    "import numpy as np\n",
    "import matplotlib.pyplot as plt\n",
    "\n",
    "import util as u\n",
    "import pipeline as p\n",
    "import assess_clf_models as acm\n",
    "%load_ext autoreload\n",
    "%autoreload 2\n",
    "\n",
    "from sklearn.linear_model import LogisticRegression\n",
    "from sklearn.tree import DecisionTreeClassifier\n",
    "from sklearn.ensemble import GradientBoostingClassifier, RandomForestClassifier, BaggingClassifier\n",
    "from catboost import CatBoostClassifier\n",
    "\n",
    "from sklearn.compose import ColumnTransformer\n",
    "from sklearn.preprocessing import StandardScaler, OneHotEncoder, FunctionTransformer\n",
    "from sklearn.pipeline import Pipeline, FeatureUnion\n",
    "from sklearn.model_selection import train_test_split\n",
    "from sklearn.feature_extraction.text import CountVectorizer\n",
    "\n",
    "import warnings\n",
    "from sklearn.exceptions import DataConversionWarning\n",
    "warnings.filterwarnings(action='ignore', category=FutureWarning)\n",
    "warnings.filterwarnings(action='ignore', category=DeprecationWarning)\n",
    "warnings.filterwarnings(action='ignore', category=DataConversionWarning)"
   ]
  },
  {
   "cell_type": "code",
   "execution_count": 2,
   "metadata": {},
   "outputs": [],
   "source": [
    "from imblearn.under_sampling import RandomUnderSampler, TomekLinks, EditedNearestNeighbours, NeighbourhoodCleaningRule\n",
    "from imblearn.under_sampling import NearMiss\n",
    "from imblearn.under_sampling import CondensedNearestNeighbour, OneSidedSelection, InstanceHardnessThreshold\n",
    "from imblearn.over_sampling import SMOTE, ADASYN, SVMSMOTE, SMOTENC\n",
    "from imblearn.under_sampling import ClusterCentroids, NearMiss, TomekLinks\n",
    "from imblearn.combine import SMOTETomek, SMOTEENN\n",
    "from imblearn.ensemble import BalancedBaggingClassifier, RUSBoostClassifier, EasyEnsembleClassifier\n",
    "from imblearn.combine import SMOTEENN, SMOTETomek"
   ]
  },
  {
   "cell_type": "markdown",
   "metadata": {},
   "source": [
    "## Load Data"
   ]
  },
  {
   "cell_type": "markdown",
   "metadata": {},
   "source": [
    "Prepared / cleaned in 'DataPrep' notebook"
   ]
  },
  {
   "cell_type": "code",
   "execution_count": 3,
   "metadata": {},
   "outputs": [],
   "source": [
    "X_train1 = u.open_pkl('Data/X_train_10yrs.pkl')\n",
    "y_train1 = u.open_pkl('Data/y_train_10yrs.pkl')"
   ]
  },
  {
   "cell_type": "markdown",
   "metadata": {},
   "source": [
    "### Create sub-set of dataset\n",
    "10% of data, to expedite testing of models"
   ]
  },
  {
   "cell_type": "code",
   "execution_count": 23,
   "metadata": {},
   "outputs": [
    {
     "name": "stdout",
     "output_type": "stream",
     "text": [
      "28974\n"
     ]
    }
   ],
   "source": [
    "size_X = len(X_train1)\n",
    "rand_idx = np.random.randint(0, size_X - 1, size=int(size_X*0.1))\n",
    "mini_X = X_train1.loc[rand_idx]\n",
    "mini_y = pd.Series([y_train1.iloc[x] for x in rand_idx])\n",
    "mini_X.reset_index(inplace=True, drop=True)\n",
    "print(len(mini_X))"
   ]
  },
  {
   "cell_type": "markdown",
   "metadata": {},
   "source": [
    "### Features"
   ]
  },
  {
   "cell_type": "markdown",
   "metadata": {},
   "source": [
    "Exclude:\n",
    "- num_lipinski_ro5_violations: From initial/MVP model, had nearly 0 importance.\n",
    "- acd_most_apka & acd_most_bpka have high % nulls.\n",
    "- synonyms: wouldn't be \"known\" at time of initial assaying of molecule.\n",
    "- year: not germaine or accurate. need to use to drop entries, however.\n",
    "- org_ids\n",
    "- keep only num_alerts_set1. Exclude others.\n",
    "\n",
    "Might be leaky: (would these be known at time of \"discovery\" of molecule?)\n",
    "- num_docs\n",
    "- num_targets\n",
    "- num_activities & num_assays\n",
    "\n",
    "Encode:\n",
    "- molecular_species: one-hot\n",
    "- target_classes: n-hot\n",
    "- assay_types: n-hot\n",
    "\n",
    "Engineer / Combine:\n",
    "- num_activities & num_assays: they are correlated. take average"
   ]
  },
  {
   "cell_type": "markdown",
   "metadata": {},
   "source": [
    "# Develop pipeline"
   ]
  },
  {
   "cell_type": "markdown",
   "metadata": {},
   "source": [
    "### Define columns to include in model\n",
    "not sure I need this, but good to have a list"
   ]
  },
  {
   "cell_type": "code",
   "execution_count": 5,
   "metadata": {},
   "outputs": [],
   "source": [
    "col_features = ['mw_freebase', 'alogp', 'acd_logp', 'acd_logd', 'hba', 'hbd', 'psa', 'rtb', 'ro3_pass',\n",
    "       'num_ro5_violations', 'molecular_species', 'aromatic_rings', 'heavy_atoms', 'qed_weighted',\n",
    "       'hba_lipinski', 'hbd_lipinski', 'research_co', 'target_classes', 'human_target', \n",
    "        'num_target_organisms', 'assay_types', 'num_alerts_set1']\n",
    "\n",
    "# test_X = mini_X[col_features]"
   ]
  },
  {
   "cell_type": "markdown",
   "metadata": {},
   "source": [
    "### Count-Vectorize - target_classes & assay_classes\n",
    "Need to impute missing values in target_classes first"
   ]
  },
  {
   "cell_type": "code",
   "execution_count": 6,
   "metadata": {},
   "outputs": [],
   "source": [
    "# tar_cls_col = list(mini_X.columns).index('target_classes')\n",
    "asy_cls_col = list(mini_X.columns).index('assay_types')\n",
    "\n",
    "preproc_target = Pipeline([\n",
    "        ('impute', p.TargetClassImputer()),\n",
    "        ('target_cv', p.target_transformer)\n",
    "])\n",
    "\n",
    "preproc_assay = ColumnTransformer(transformers=[\n",
    "            ('assay_cv', p.assay_transformer, asy_cls_col)\n",
    "])\n",
    "\n",
    "# Count Vectorizer requires column indices in scalar format\n",
    "preproc_cv = Pipeline([\n",
    "    ('cv', FeatureUnion([\n",
    "        ('assays', preproc_assay),\n",
    "        ('targets', preproc_target)\n",
    "        ])),\n",
    "    ('densify', FunctionTransformer(p.densify, validate=False))\n",
    "])"
   ]
  },
  {
   "cell_type": "code",
   "execution_count": 7,
   "metadata": {},
   "outputs": [],
   "source": [
    "preproc_assay.fit(mini_X)\n",
    "feat_cv_asy = preproc_assay.named_transformers_['assay_cv'].get_feature_names()\n",
    "\n",
    "preproc_target.fit(mini_X)\n",
    "feat_cv_trg = preproc_target.named_steps['target_cv'].get_feature_names()\n",
    "\n",
    "feat_cv_asy = ['assay_class_' + x for x in feat_cv_asy]\n",
    "feat_cv_trg = ['target_' + x for x in feat_cv_trg]"
   ]
  },
  {
   "cell_type": "code",
   "execution_count": 24,
   "metadata": {},
   "outputs": [
    {
     "data": {
      "text/html": [
       "<div>\n",
       "<style scoped>\n",
       "    .dataframe tbody tr th:only-of-type {\n",
       "        vertical-align: middle;\n",
       "    }\n",
       "\n",
       "    .dataframe tbody tr th {\n",
       "        vertical-align: top;\n",
       "    }\n",
       "\n",
       "    .dataframe thead th {\n",
       "        text-align: right;\n",
       "    }\n",
       "</style>\n",
       "<table border=\"1\" class=\"dataframe\">\n",
       "  <thead>\n",
       "    <tr style=\"text-align: right;\">\n",
       "      <th></th>\n",
       "      <th>target</th>\n",
       "      <th>assay_types</th>\n",
       "    </tr>\n",
       "  </thead>\n",
       "  <tbody>\n",
       "    <tr>\n",
       "      <th>0</th>\n",
       "      <td>UNDEFINED</td>\n",
       "      <td>F</td>\n",
       "    </tr>\n",
       "    <tr>\n",
       "      <th>1</th>\n",
       "      <td>UNDEFINED,NON-MOLECULAR,PROTEIN</td>\n",
       "      <td>F</td>\n",
       "    </tr>\n",
       "    <tr>\n",
       "      <th>2</th>\n",
       "      <td>PROTEIN</td>\n",
       "      <td>B,F</td>\n",
       "    </tr>\n",
       "    <tr>\n",
       "      <th>3</th>\n",
       "      <td>UNDEFINED,NON-MOLECULAR</td>\n",
       "      <td>A,U,F</td>\n",
       "    </tr>\n",
       "  </tbody>\n",
       "</table>\n",
       "</div>"
      ],
      "text/plain": [
       "                            target assay_types\n",
       "0                        UNDEFINED           F\n",
       "1  UNDEFINED,NON-MOLECULAR,PROTEIN           F\n",
       "2                          PROTEIN         B,F\n",
       "3          UNDEFINED,NON-MOLECULAR       A,U,F"
      ]
     },
     "execution_count": 24,
     "metadata": {},
     "output_type": "execute_result"
    }
   ],
   "source": [
    "trX = preproc_target.fit_transform(mini_X)\n",
    "df = pd.DataFrame(trX.toarray(), columns=feat_cv_trg)\n",
    "\n",
    "ex = mini_X.rename(columns={'target':'target_names','target_classes':'target'})\n",
    "\n",
    "ex.loc[0:3,['target', 'assay_types']]"
   ]
  },
  {
   "cell_type": "code",
   "execution_count": 25,
   "metadata": {},
   "outputs": [
    {
     "data": {
      "text/html": [
       "<div>\n",
       "<style scoped>\n",
       "    .dataframe tbody tr th:only-of-type {\n",
       "        vertical-align: middle;\n",
       "    }\n",
       "\n",
       "    .dataframe tbody tr th {\n",
       "        vertical-align: top;\n",
       "    }\n",
       "\n",
       "    .dataframe thead th {\n",
       "        text-align: right;\n",
       "    }\n",
       "</style>\n",
       "<table border=\"1\" class=\"dataframe\">\n",
       "  <thead>\n",
       "    <tr style=\"text-align: right;\">\n",
       "      <th></th>\n",
       "      <th>target_molecular</th>\n",
       "      <th>target_non-molecular</th>\n",
       "      <th>target_protein</th>\n",
       "      <th>target_undefined</th>\n",
       "    </tr>\n",
       "  </thead>\n",
       "  <tbody>\n",
       "    <tr>\n",
       "      <th>0</th>\n",
       "      <td>0</td>\n",
       "      <td>0</td>\n",
       "      <td>0</td>\n",
       "      <td>1</td>\n",
       "    </tr>\n",
       "    <tr>\n",
       "      <th>1</th>\n",
       "      <td>0</td>\n",
       "      <td>1</td>\n",
       "      <td>1</td>\n",
       "      <td>1</td>\n",
       "    </tr>\n",
       "    <tr>\n",
       "      <th>2</th>\n",
       "      <td>0</td>\n",
       "      <td>0</td>\n",
       "      <td>1</td>\n",
       "      <td>0</td>\n",
       "    </tr>\n",
       "    <tr>\n",
       "      <th>3</th>\n",
       "      <td>0</td>\n",
       "      <td>1</td>\n",
       "      <td>0</td>\n",
       "      <td>1</td>\n",
       "    </tr>\n",
       "  </tbody>\n",
       "</table>\n",
       "</div>"
      ],
      "text/plain": [
       "   target_molecular  target_non-molecular  target_protein  target_undefined\n",
       "0                 0                     0               0                 1\n",
       "1                 0                     1               1                 1\n",
       "2                 0                     0               1                 0\n",
       "3                 0                     1               0                 1"
      ]
     },
     "execution_count": 25,
     "metadata": {},
     "output_type": "execute_result"
    }
   ],
   "source": [
    "df.head(4)"
   ]
  },
  {
   "cell_type": "markdown",
   "metadata": {},
   "source": [
    "### One-hot-Encode - other categorical features"
   ]
  },
  {
   "cell_type": "code",
   "execution_count": 28,
   "metadata": {},
   "outputs": [],
   "source": [
    "cols_to_encode = ['molecular_species']\n",
    "cols_to_encode_idx = [list(mini_X.columns).index(x) for x in cols_to_encode]\n",
    "\n",
    "# OneHotEncoder requires columns indices in list format\n",
    "preproc_ohe = ColumnTransformer(transformers=[\n",
    "    ('cat', OneHotEncoder(), cols_to_encode_idx)])"
   ]
  },
  {
   "cell_type": "code",
   "execution_count": 129,
   "metadata": {},
   "outputs": [],
   "source": [
    "preproc_ohe.fit(mini_X)\n",
    "feat_ohe = preproc_ohe.named_transformers_['cat'].get_feature_names()\n",
    "feat_ohe = feat_ohe.tolist()\n"
   ]
  },
  {
   "cell_type": "markdown",
   "metadata": {},
   "source": [
    "### Scale - sub-set of numeric"
   ]
  },
  {
   "cell_type": "code",
   "execution_count": 29,
   "metadata": {},
   "outputs": [],
   "source": [
    "cols_to_scale = ['mw_freebase', 'alogp', 'acd_logp', 'acd_logd', 'hba', 'hbd', 'psa', 'rtb', \n",
    "       'num_ro5_violations', 'aromatic_rings', 'heavy_atoms', 'hba_lipinski', 'hbd_lipinski',  \n",
    "       'num_target_organisms', 'num_alerts_set1']\n",
    "cols_to_scale_idx = [list(mini_X.columns).index(x) for x in cols_to_scale]\n",
    "\n",
    "\n",
    "preproc_scale = ColumnTransformer(transformers=[\n",
    "        ('num', StandardScaler(), cols_to_scale_idx), \n",
    "    ], remainder='drop')    "
   ]
  },
  {
   "cell_type": "code",
   "execution_count": 116,
   "metadata": {},
   "outputs": [],
   "source": [
    "feat_num = cols_to_scale"
   ]
  },
  {
   "cell_type": "markdown",
   "metadata": {},
   "source": [
    "### Features to keep as-is"
   ]
  },
  {
   "cell_type": "markdown",
   "metadata": {},
   "source": [
    "They are boolen-encoded. 1 = yes/True, 0 = no/False"
   ]
  },
  {
   "cell_type": "code",
   "execution_count": 30,
   "metadata": {},
   "outputs": [],
   "source": [
    "cols_to_pass = ['ro3_pass', 'research_co','human_target']\n",
    "cols_to_pass_idx = [list(mini_X.columns).index(x) for x in cols_to_pass]\n",
    "\n",
    "\n",
    "preproc_pass = ColumnTransformer(transformers=[\n",
    "        ('as_is', 'passthrough', cols_to_pass_idx), \n",
    "])\n",
    "\n",
    "preproc_pass_num = ColumnTransformer(transformers=[\n",
    "        ('as_is', 'passthrough', cols_to_scale_idx), \n",
    "])"
   ]
  },
  {
   "cell_type": "code",
   "execution_count": 117,
   "metadata": {},
   "outputs": [],
   "source": [
    "feat_pass = cols_to_pass"
   ]
  },
  {
   "cell_type": "markdown",
   "metadata": {},
   "source": [
    "### Feature Engineering"
   ]
  },
  {
   "cell_type": "markdown",
   "metadata": {},
   "source": [
    "New as of 02d-01:\n",
    "- Take average of num_targets & num_activities. There were highly correlated"
   ]
  },
  {
   "cell_type": "code",
   "execution_count": 31,
   "metadata": {},
   "outputs": [],
   "source": [
    "# num_asy_col = [list(mini_X.columns).index('num_assays')]\n",
    "\n",
    "feat_eng1 = Pipeline([\n",
    "    ('avg', p.TargetActivityAvg()),\n",
    "    ('reshape', FunctionTransformer(p.reshaper, validate=False))\n",
    "])\n",
    "\n",
    "feat_eng2 = Pipeline([\n",
    "        ('ratio',  p.AssayRatio()),\n",
    "        ('reshape', FunctionTransformer(p.reshaper, validate=False)),\n",
    "        ])\n",
    "\n",
    "preproc_feat_eng = Pipeline([\n",
    "    ('feat_eng', FeatureUnion([\n",
    "        ('avg', feat_eng1),\n",
    "        ('ratio', feat_eng2)\n",
    "    ]))\n",
    "])\n",
    "\n",
    "preproc_feat_eng_scaled = Pipeline([\n",
    "    ('feat_eng', FeatureUnion([\n",
    "        ('avg', feat_eng1),\n",
    "        ('ratio', feat_eng2)\n",
    "    ])),\n",
    "    ('scale', StandardScaler())\n",
    "])"
   ]
  },
  {
   "cell_type": "code",
   "execution_count": 119,
   "metadata": {},
   "outputs": [],
   "source": [
    "feat_fe = ['avg_num_targ_act', 'ratio_assay_avg_targ_act']\n"
   ]
  },
  {
   "cell_type": "markdown",
   "metadata": {},
   "source": [
    "## Sew them all together"
   ]
  },
  {
   "cell_type": "markdown",
   "metadata": {},
   "source": [
    "#### Includes scaling"
   ]
  },
  {
   "cell_type": "code",
   "execution_count": 32,
   "metadata": {},
   "outputs": [],
   "source": [
    "pipe_with_scale = Pipeline([\n",
    "    ('all', FeatureUnion([\n",
    "        ('cvs', preproc_cv),\n",
    "        ('feat_eng', preproc_feat_eng_scaled),\n",
    "        ('ohe', preproc_ohe), \n",
    "        ('pass', preproc_pass),\n",
    "        ('num', preproc_scale),\n",
    "    ])\n",
    "    )\n",
    "])"
   ]
  },
  {
   "cell_type": "markdown",
   "metadata": {},
   "source": [
    "#### Categorical only"
   ]
  },
  {
   "cell_type": "code",
   "execution_count": 33,
   "metadata": {},
   "outputs": [],
   "source": [
    "preproc_pass = ColumnTransformer(transformers=[\n",
    "        ('as_is', 'passthrough', cols_to_pass_idx), \n",
    "])\n",
    "\n",
    "pipe_cat_only = Pipeline([\n",
    "    ('all', FeatureUnion([\n",
    "        ('cvs', preproc_cv),\n",
    "        ('feat_eng', preproc_feat_eng),\n",
    "        ('ohe', preproc_ohe), \n",
    "        ('pass', preproc_pass),\n",
    "        ('num', preproc_pass_num)\n",
    "    ])\n",
    "    )\n",
    "])"
   ]
  },
  {
   "cell_type": "code",
   "execution_count": 130,
   "metadata": {},
   "outputs": [],
   "source": [
    "# Feature names for pipe_cat_only & pipe_with_scale\n",
    "feat_names = feat_cv_asy + feat_cv_trg + feat_fe + feat_ohe + feat_pass + feat_num"
   ]
  },
  {
   "cell_type": "markdown",
   "metadata": {},
   "source": [
    "#### Cat Boost\n",
    "needs different pre-processing"
   ]
  },
  {
   "cell_type": "code",
   "execution_count": 34,
   "metadata": {},
   "outputs": [],
   "source": [
    "other_cb_features = ['mw_freebase', 'alogp', 'acd_logp', 'acd_logd', 'hba', 'hbd', 'psa', 'rtb', 'ro3_pass',\n",
    "       'num_ro5_violations', 'molecular_species', 'aromatic_rings', 'heavy_atoms', 'qed_weighted',\n",
    "       'hba_lipinski', 'hbd_lipinski', 'research_co', 'num_target_organisms',\n",
    "        'human_target', 'num_target_organisms', 'num_alerts_set1']\n",
    "other_cb_feat_idx = [list(mini_X.columns).index(x) for x in other_cb_features]\n",
    "\n",
    "preproc_pass_cb = ColumnTransformer(transformers=[\n",
    "        ('as_is', 'passthrough', other_cb_feat_idx), \n",
    "])\n",
    "\n",
    "pipe_cat_boost = Pipeline([\n",
    "    ('all', FeatureUnion([\n",
    "        ('cvs', preproc_cv),\n",
    "        ('feat_eng', preproc_feat_eng),\n",
    "        ('pass', preproc_pass_cb)\n",
    "    ])\n",
    "    )\n",
    "])\n",
    "\n",
    "# where the \"categorical\" columns end up after the above pre-processing\n",
    "# (I determined this manually -- couldn't figure out a way to do it automatically)\n",
    "cab_cat_feats = ['ro3_pass', 'molecular_species', 'research_co', 'human_target']\n",
    "cb_cat_cols = [20, 22, 28, 30]"
   ]
  },
  {
   "cell_type": "code",
   "execution_count": 131,
   "metadata": {},
   "outputs": [],
   "source": [
    "feat_other_cb = other_cb_features\n",
    "\n",
    "# for pipe_cat_boost:\n",
    "feat_names_cb = feat_cv_asy + feat_cv_trg + feat_fe + feat_other_cb"
   ]
  },
  {
   "cell_type": "markdown",
   "metadata": {},
   "source": [
    "#### Save pipelines & feature name"
   ]
  },
  {
   "cell_type": "code",
   "execution_count": 16,
   "metadata": {},
   "outputs": [],
   "source": [
    "u.pkl_this('Data/Models/cat_boost_preproc_01.pkl', pipe_cat_boost)\n",
    "u.pkl_this('Data/Models/cat_boost_categ_cols.pkl', cb_cat_cols)\n",
    "u.pkl_this('Data/Models/preproc_scaler.pkl', pipe_with_scale)\n",
    "u.pkl_this('Data/Models/preproc_cat.pkl', pipe_cat_only)\n",
    "u.pkl_this('Data/Models/cat_boost_feature_names.pkl', feat_names_cb)"
   ]
  },
  {
   "cell_type": "markdown",
   "metadata": {},
   "source": [
    "## Test out models"
   ]
  },
  {
   "cell_type": "markdown",
   "metadata": {},
   "source": [
    "- Within crossvalidation:\n",
    "    - preprocess (scale, one-hot-encode)\n",
    "    - fit model\n",
    "    - assess on test / hold-out portion"
   ]
  },
  {
   "cell_type": "code",
   "execution_count": 23,
   "metadata": {},
   "outputs": [],
   "source": [
    "log_reg = LogisticRegression(solver='liblinear')\n",
    "log_reg_bal = LogisticRegression(class_weight='balanced')\n",
    "rand_for = RandomForestClassifier(n_estimators=10)\n",
    "grad_boost = GradientBoostingClassifier()\n",
    "cb = CatBoostClassifier(cat_features=cb_cat_cols, logging_level='Silent')\n",
    "dtb = BaggingClassifier(base_estimator=DecisionTreeClassifier())"
   ]
  },
  {
   "cell_type": "code",
   "execution_count": 42,
   "metadata": {},
   "outputs": [],
   "source": [
    "mini_results_lr = acm.assess_model(pipe_with_scale, log_reg, mini_X, mini_y)\n",
    "mini_results_lr2 = acm.assess_model(pipe_with_scale, log_reg_bal, mini_X, mini_y)\n",
    "mini_results_rf = acm.assess_model(pipe_cat_only, rand_for, mini_X, mini_y)\n",
    "mini_results_gb = acm.assess_model(pipe_cat_only, grad_boost, mini_X, mini_y)\n",
    "mini_results_dtb = acm.assess_model(pipe_cat_only, dtb, mini_X, mini_y)\n",
    "mini_results_cb = acm.assess_model(pipe_cat_boost, cb, mini_X, mini_y)"
   ]
  },
  {
   "cell_type": "code",
   "execution_count": 43,
   "metadata": {},
   "outputs": [
    {
     "data": {
      "text/html": [
       "<div>\n",
       "<style scoped>\n",
       "    .dataframe tbody tr th:only-of-type {\n",
       "        vertical-align: middle;\n",
       "    }\n",
       "\n",
       "    .dataframe tbody tr th {\n",
       "        vertical-align: top;\n",
       "    }\n",
       "\n",
       "    .dataframe thead th {\n",
       "        text-align: right;\n",
       "    }\n",
       "</style>\n",
       "<table border=\"1\" class=\"dataframe\">\n",
       "  <thead>\n",
       "    <tr style=\"text-align: right;\">\n",
       "      <th></th>\n",
       "      <th>Precision-0</th>\n",
       "      <th>Recall-0 (Specificty)</th>\n",
       "      <th>F1score-0</th>\n",
       "      <th>Precision-1</th>\n",
       "      <th>Recall-1 (Sensitivity)</th>\n",
       "      <th>F1score-1</th>\n",
       "      <th>TN</th>\n",
       "      <th>FN</th>\n",
       "      <th>FP</th>\n",
       "      <th>TP</th>\n",
       "      <th>AUC</th>\n",
       "      <th>Accuracy</th>\n",
       "    </tr>\n",
       "  </thead>\n",
       "  <tbody>\n",
       "    <tr>\n",
       "      <th>LogReg</th>\n",
       "      <td>0.997620</td>\n",
       "      <td>0.999717</td>\n",
       "      <td>0.998668</td>\n",
       "      <td>0.801678</td>\n",
       "      <td>0.310638</td>\n",
       "      <td>0.443966</td>\n",
       "      <td>13415.8</td>\n",
       "      <td>32.0</td>\n",
       "      <td>3.8</td>\n",
       "      <td>14.4</td>\n",
       "      <td>0.953200</td>\n",
       "      <td>0.997341</td>\n",
       "    </tr>\n",
       "    <tr>\n",
       "      <th>LogReg-bal</th>\n",
       "      <td>0.999553</td>\n",
       "      <td>0.933053</td>\n",
       "      <td>0.965156</td>\n",
       "      <td>0.043514</td>\n",
       "      <td>0.879371</td>\n",
       "      <td>0.082914</td>\n",
       "      <td>12521.2</td>\n",
       "      <td>5.6</td>\n",
       "      <td>898.4</td>\n",
       "      <td>40.8</td>\n",
       "      <td>0.961740</td>\n",
       "      <td>0.932868</td>\n",
       "    </tr>\n",
       "    <tr>\n",
       "      <th>RandFor</th>\n",
       "      <td>0.997695</td>\n",
       "      <td>0.999821</td>\n",
       "      <td>0.998757</td>\n",
       "      <td>0.885333</td>\n",
       "      <td>0.332100</td>\n",
       "      <td>0.476129</td>\n",
       "      <td>13417.2</td>\n",
       "      <td>31.0</td>\n",
       "      <td>2.4</td>\n",
       "      <td>15.4</td>\n",
       "      <td>0.854003</td>\n",
       "      <td>0.997520</td>\n",
       "    </tr>\n",
       "    <tr>\n",
       "      <th>GradBst</th>\n",
       "      <td>0.997664</td>\n",
       "      <td>0.999359</td>\n",
       "      <td>0.998511</td>\n",
       "      <td>0.639934</td>\n",
       "      <td>0.323589</td>\n",
       "      <td>0.426096</td>\n",
       "      <td>13411.0</td>\n",
       "      <td>31.4</td>\n",
       "      <td>8.6</td>\n",
       "      <td>15.0</td>\n",
       "      <td>0.952465</td>\n",
       "      <td>0.997030</td>\n",
       "    </tr>\n",
       "    <tr>\n",
       "      <th>Bagged-DecTr</th>\n",
       "      <td>0.997798</td>\n",
       "      <td>0.999463</td>\n",
       "      <td>0.998630</td>\n",
       "      <td>0.697699</td>\n",
       "      <td>0.362072</td>\n",
       "      <td>0.473903</td>\n",
       "      <td>13412.4</td>\n",
       "      <td>29.6</td>\n",
       "      <td>7.2</td>\n",
       "      <td>16.8</td>\n",
       "      <td>0.839191</td>\n",
       "      <td>0.997267</td>\n",
       "    </tr>\n",
       "    <tr>\n",
       "      <th>Cat Boost</th>\n",
       "      <td>0.997947</td>\n",
       "      <td>0.999553</td>\n",
       "      <td>0.998749</td>\n",
       "      <td>0.761822</td>\n",
       "      <td>0.405643</td>\n",
       "      <td>0.523980</td>\n",
       "      <td>13413.6</td>\n",
       "      <td>27.6</td>\n",
       "      <td>6.0</td>\n",
       "      <td>18.8</td>\n",
       "      <td>0.981397</td>\n",
       "      <td>0.997505</td>\n",
       "    </tr>\n",
       "  </tbody>\n",
       "</table>\n",
       "</div>"
      ],
      "text/plain": [
       "              Precision-0  Recall-0 (Specificty)  F1score-0  Precision-1  \\\n",
       "LogReg           0.997620               0.999717   0.998668     0.801678   \n",
       "LogReg-bal       0.999553               0.933053   0.965156     0.043514   \n",
       "RandFor          0.997695               0.999821   0.998757     0.885333   \n",
       "GradBst          0.997664               0.999359   0.998511     0.639934   \n",
       "Bagged-DecTr     0.997798               0.999463   0.998630     0.697699   \n",
       "Cat Boost        0.997947               0.999553   0.998749     0.761822   \n",
       "\n",
       "              Recall-1 (Sensitivity)  F1score-1       TN    FN     FP    TP  \\\n",
       "LogReg                      0.310638   0.443966  13415.8  32.0    3.8  14.4   \n",
       "LogReg-bal                  0.879371   0.082914  12521.2   5.6  898.4  40.8   \n",
       "RandFor                     0.332100   0.476129  13417.2  31.0    2.4  15.4   \n",
       "GradBst                     0.323589   0.426096  13411.0  31.4    8.6  15.0   \n",
       "Bagged-DecTr                0.362072   0.473903  13412.4  29.6    7.2  16.8   \n",
       "Cat Boost                   0.405643   0.523980  13413.6  27.6    6.0  18.8   \n",
       "\n",
       "                   AUC  Accuracy  \n",
       "LogReg        0.953200  0.997341  \n",
       "LogReg-bal    0.961740  0.932868  \n",
       "RandFor       0.854003  0.997520  \n",
       "GradBst       0.952465  0.997030  \n",
       "Bagged-DecTr  0.839191  0.997267  \n",
       "Cat Boost     0.981397  0.997505  "
      ]
     },
     "execution_count": 43,
     "metadata": {},
     "output_type": "execute_result"
    }
   ],
   "source": [
    "comp_df = pd.DataFrame([mini_results_lr, mini_results_lr2, mini_results_rf, mini_results_gb, mini_results_dtb, \n",
    "                        mini_results_cb],\n",
    "             index=['LogReg','LogReg-bal','RandFor','GradBst','Bagged-DecTr', 'Cat Boost'])\n",
    "comp_df"
   ]
  },
  {
   "cell_type": "markdown",
   "metadata": {},
   "source": [
    "#### Conclusions:\n",
    "- Use Precision(1) as metric: want to be confident that something I predict to be approved will be\n",
    "    - `acm.assess_model_precision(preproc, model, mini_X, mini_y)`\n",
    "- Thus, Logistic Regression (**without** balanced classes)performed the best, then Random Forest & Bagged Decision Trees. \n",
    "- Address imbalance"
   ]
  },
  {
   "cell_type": "markdown",
   "metadata": {},
   "source": [
    "#### Aside: which features are important?"
   ]
  },
  {
   "cell_type": "code",
   "execution_count": 446,
   "metadata": {},
   "outputs": [],
   "source": [
    "pipeline = Pipeline(steps = [('prepro', pipe_with_scale), ('clf', log_reg)])\n",
    "model_lf = pipeline.fit(mini_X, mini_y)"
   ]
  },
  {
   "cell_type": "code",
   "execution_count": 447,
   "metadata": {},
   "outputs": [],
   "source": [
    "fis = pipeline.named_steps['clf'].coef_[0]"
   ]
  },
  {
   "cell_type": "code",
   "execution_count": 448,
   "metadata": {},
   "outputs": [],
   "source": [
    "fi_list = list(zip(feat_names, fis))\n",
    "fi_list.sort(reverse=False, key=lambda x: x[1])\n",
    "\n",
    "labels = [x[0] for x in fi_list]\n",
    "imp = [x[1] for x in fi_list]"
   ]
  },
  {
   "cell_type": "code",
   "execution_count": 449,
   "metadata": {},
   "outputs": [
    {
     "data": {
      "text/plain": [
       "<BarContainer object of 34 artists>"
      ]
     },
     "execution_count": 449,
     "metadata": {},
     "output_type": "execute_result"
    },
    {
     "data": {
      "image/png": "[encoded data removed]",
      "text/plain": [
       "<Figure size 720x720 with 1 Axes>"
      ]
     },
     "metadata": {
      "needs_background": "light"
     },
     "output_type": "display_data"
    }
   ],
   "source": [
    "plt.figure(figsize=(10,10))\n",
    "plt.barh(y=range(len(fi_list)), width=list(zip(*fi_list))[1], tick_label = list(zip(*fi_list))[0])\n",
    "# plt.barh(y=range(len(fis[0])), width = fis_sorted)"
   ]
  },
  {
   "cell_type": "code",
   "execution_count": 461,
   "metadata": {},
   "outputs": [],
   "source": [
    "pipeline2 = Pipeline(steps = [('prepro', pipe_cat_only), ('clf', rand_for)])\n",
    "model_rf = pipeline2.fit(mini_X, mini_y)"
   ]
  },
  {
   "cell_type": "code",
   "execution_count": 462,
   "metadata": {},
   "outputs": [],
   "source": [
    "fis2 = pipeline2.named_steps['clf'].feature_importances_"
   ]
  },
  {
   "cell_type": "code",
   "execution_count": 463,
   "metadata": {},
   "outputs": [
    {
     "data": {
      "text/plain": [
       "34"
      ]
     },
     "execution_count": 463,
     "metadata": {},
     "output_type": "execute_result"
    }
   ],
   "source": [
    "len(fis2)"
   ]
  },
  {
   "cell_type": "code",
   "execution_count": 464,
   "metadata": {},
   "outputs": [
    {
     "data": {
      "text/plain": [
       "<BarContainer object of 34 artists>"
      ]
     },
     "execution_count": 464,
     "metadata": {},
     "output_type": "execute_result"
    },
    {
     "data": {
      "image/png": "[encoded data removed]",
      "text/plain": [
       "<Figure size 720x720 with 1 Axes>"
      ]
     },
     "metadata": {
      "needs_background": "light"
     },
     "output_type": "display_data"
    }
   ],
   "source": [
    "fi_list2 = list(zip(feat_names, fis2))\n",
    "fi_list2.sort(reverse=False, key=lambda x: x[1])\n",
    "\n",
    "labels = [x[0] for x in fi_list2]\n",
    "imp = [x[1] for x in fi_list2]\n",
    "\n",
    "plt.figure(figsize=(10,10))\n",
    "plt.barh(y=range(len(fi_list2)), width=list(zip(*fi_list2))[1], tick_label = list(zip(*fi_list2))[0])"
   ]
  },
  {
   "cell_type": "code",
   "execution_count": 454,
   "metadata": {},
   "outputs": [],
   "source": [
    "#try this?\n",
    "rf2 = RandomForestClassifier(oob_score=True, class_weight='balanced')"
   ]
  },
  {
   "cell_type": "markdown",
   "metadata": {},
   "source": [
    "## Imbalance"
   ]
  },
  {
   "cell_type": "code",
   "execution_count": 549,
   "metadata": {},
   "outputs": [],
   "source": [
    "# lists to track results\n",
    "rf_resamp_list = []\n",
    "lr_resamp_list = []\n",
    "\n",
    "rf_resamp_list.append(['Baseline', acm.assess_model_precision(pipe_cat_only, rand_for, mini_X, mini_y)])\n",
    "lr_resamp_list.append(['Baseline', acm.assess_model_precision(pipe_with_scale, log_reg, mini_X, mini_y)])"
   ]
  },
  {
   "cell_type": "code",
   "execution_count": 469,
   "metadata": {},
   "outputs": [],
   "source": [
    "seed = 19"
   ]
  },
  {
   "cell_type": "markdown",
   "metadata": {},
   "source": [
    "#### Dealing with Mixed Features"
   ]
  },
  {
   "cell_type": "markdown",
   "metadata": {},
   "source": [
    "SMOTE-NC is the only `imblearn` method which can handle mixed features. Even then, it cannot handle my target_classes and assay_types, which are lists. And, I would still need to impute target na's before. It's not worth creating a specific preprocessor to handle it. \n",
    "\n",
    "Use 'pipe_cat_only' to convert categorical variables prior to resampling with imblearn methods:"
   ]
  },
  {
   "cell_type": "code",
   "execution_count": 615,
   "metadata": {},
   "outputs": [],
   "source": [
    "X_for_res_cat = pipe_cat_only.fit_transform(mini_X)\n"
   ]
  },
  {
   "cell_type": "markdown",
   "metadata": {},
   "source": [
    "Need to treat scale-only slightly different than we did above, as the indices get changed up once we fit_transform. Still need to impute & transform categorical variable before we pass into imblearn methods; perform StandaradScaling inside cross-validation."
   ]
  },
  {
   "cell_type": "code",
   "execution_count": 620,
   "metadata": {},
   "outputs": [],
   "source": [
    "preproc_res_scaler = Pipeline([\n",
    "    ('all', FeatureUnion([\n",
    "        ('cvs', preproc_cv),\n",
    "        ('feat_eng', preproc_act_asy),\n",
    "#         ('pass_fe', preproc_pass_fe),\n",
    "        ('ohe', preproc_ohe), \n",
    "        ('pass', preproc_pass),\n",
    "        ('num', preproc_pass_num)\n",
    "    ])\n",
    "    ),\n",
    "    ('densify', FunctionTransformer(p.densify, validate=False))    \n",
    "])"
   ]
  },
  {
   "cell_type": "code",
   "execution_count": 609,
   "metadata": {},
   "outputs": [],
   "source": [
    "cols_scale_res_idx = [feat_names.index(x) for x in cols_to_scale] + [feat_names.index('avg_num_act_asy')]"
   ]
  },
  {
   "cell_type": "code",
   "execution_count": 618,
   "metadata": {},
   "outputs": [],
   "source": [
    "pipe_scale = ColumnTransformer(transformers= [\n",
    "    ('scaler', StandardScaler(), cols_scale_res_idx)\n",
    "])"
   ]
  },
  {
   "cell_type": "markdown",
   "metadata": {},
   "source": [
    "### Over-sampling"
   ]
  },
  {
   "cell_type": "code",
   "execution_count": 545,
   "metadata": {},
   "outputs": [],
   "source": [
    "res = SMOTE(randome_state=seed)\n",
    "\n",
    "rf_sm = acm.assess_model_only_with_resamp_prec(rand_for, res, X_for_res_cat, mini_y)\n",
    "rf_resamp_list.append([\"Smote\", rf_sm])\n",
    "\n",
    "\n",
    "lr_sm = acm.assess_model_with_resamp_prec(pipe_scale, log_reg, res, X_for_res_scale, mini_y)\n",
    "lr_resamp_list.append([\"Smote\", lr_sm])\n"
   ]
  },
  {
   "cell_type": "code",
   "execution_count": 628,
   "metadata": {},
   "outputs": [],
   "source": [
    "res = ADASYN(random_state=seed)\n",
    "\n",
    "rf_resamp_list.append([\"ADASYN\", \n",
    "                       acm.assess_model_only_with_resamp_prec(rand_for, res, X_for_res_cat, mini_y)])\n",
    "\n",
    "lr_resamp_list.append([\"ADASYN\", \n",
    "                       acm.assess_model_with_resamp_prec(pipe_scale, log_reg, res, X_for_res_scale, mini_y)])"
   ]
  },
  {
   "cell_type": "markdown",
   "metadata": {},
   "source": [
    "### Under-sampling"
   ]
  },
  {
   "cell_type": "code",
   "execution_count": 635,
   "metadata": {},
   "outputs": [],
   "source": [
    "res = RandomUnderSampler(random_state=seed)\n",
    "\n",
    "rf_resamp_list.append([\"RandomUnder\", \n",
    "                       acm.assess_model_only_with_resamp_prec(rand_for, res, X_for_res_cat, mini_y)])\n",
    "\n",
    "lr_resamp_list.append([\"RandomUnder\", \n",
    "                       acm.assess_model_with_resamp_prec(pipe_scale, log_reg, res, X_for_res_scale, mini_y)])"
   ]
  },
  {
   "cell_type": "code",
   "execution_count": 638,
   "metadata": {},
   "outputs": [],
   "source": [
    "res = EditedNearestNeighbours(random_state=seed)\n",
    "\n",
    "rf_resamp_list.append([\"ENN\", \n",
    "                       acm.assess_model_only_with_resamp_prec(rand_for, res, X_for_res_cat, mini_y)])\n",
    "\n",
    "lr_resamp_list.append([\"ENN\", \n",
    "                       acm.assess_model_with_resamp_prec(pipe_scale, log_reg, res, X_for_res_scale, mini_y)])"
   ]
  },
  {
   "cell_type": "code",
   "execution_count": 641,
   "metadata": {},
   "outputs": [],
   "source": [
    "res = NearMiss(random_state=seed, version=3)\n",
    "\n",
    "rf_resamp_list.append([\"NearMiss3\", \n",
    "                       acm.assess_model_only_with_resamp_prec(rand_for, res, X_for_res_cat, mini_y)])\n",
    "\n",
    "lr_resamp_list.append([\"NearMiss3\", \n",
    "                       acm.assess_model_with_resamp_prec(pipe_scale, log_reg, res, X_for_res_scale, mini_y)])"
   ]
  },
  {
   "cell_type": "code",
   "execution_count": 644,
   "metadata": {},
   "outputs": [],
   "source": [
    "res = NearMiss(random_state=seed, version=1)\n",
    "\n",
    "rf_resamp_list.append([\"NearMiss1\", \n",
    "                       acm.assess_model_only_with_resamp_prec(rand_for, res, X_for_res_cat, mini_y)])\n",
    "\n",
    "lr_resamp_list.append([\"NearMiss1\", \n",
    "                       acm.assess_model_with_resamp_prec(pipe_scale, log_reg, res, X_for_res_scale, mini_y)])"
   ]
  },
  {
   "cell_type": "code",
   "execution_count": null,
   "metadata": {},
   "outputs": [],
   "source": []
  },
  {
   "cell_type": "markdown",
   "metadata": {},
   "source": [
    "### Ensemble"
   ]
  },
  {
   "cell_type": "code",
   "execution_count": 631,
   "metadata": {},
   "outputs": [],
   "source": [
    "res = SMOTEENN(random_state=seed)\n",
    "\n",
    "rf_resamp_list.append([\"SMOTE-EEN\", \n",
    "                       acm.assess_model_only_with_resamp_prec(rand_for, res, X_for_res_cat, mini_y)])\n",
    "\n",
    "lr_resamp_list.append([\"SMOTE-EEN\", \n",
    "                       acm.assess_model_with_resamp_prec(pipe_scale, log_reg, res, X_for_res_scale, mini_y)])"
   ]
  },
  {
   "cell_type": "code",
   "execution_count": 632,
   "metadata": {},
   "outputs": [],
   "source": [
    "res = SMOTETomek(random_state=seed)\n",
    "\n",
    "rf_resamp_list.append([\"SMOTE-Tomek\", \n",
    "                       acm.assess_model_only_with_resamp_prec(rand_for, res, X_for_res_cat, mini_y)])\n",
    "\n",
    "lr_resamp_list.append([\"SMOTE-Tomek\", \n",
    "                       acm.assess_model_with_resamp_prec(pipe_scale, log_reg, res, X_for_res_scale, mini_y)])"
   ]
  },
  {
   "cell_type": "code",
   "execution_count": null,
   "metadata": {},
   "outputs": [],
   "source": [
    "lr_resamp_list"
   ]
  },
  {
   "cell_type": "code",
   "execution_count": 645,
   "metadata": {},
   "outputs": [
    {
     "data": {
      "text/plain": [
       "[['Baseline', 0.7536942355889724],\n",
       " ['Smote', 0.6949509803921567],\n",
       " ['ADASYN', 0.6727194227194226],\n",
       " ['SMOTE-EEN', 0.5159946840228878],\n",
       " ['SMOTE-Tomek', 0.6332809875896965],\n",
       " ['RandomUnder', 0.059763158004542405],\n",
       " ['ENN', 0.6453479853479853],\n",
       " ['NearMiss3', 0.006595497666855373],\n",
       " ['NearMiss1', 0.009948276060309433]]"
      ]
     },
     "execution_count": 645,
     "metadata": {},
     "output_type": "execute_result"
    }
   ],
   "source": [
    "rf_resamp_list"
   ]
  },
  {
   "cell_type": "markdown",
   "metadata": {},
   "source": [
    "None of these improved the base (imbalanced) model "
   ]
  }
 ],
 "metadata": {
  "kernelspec": {
   "display_name": "Python 3",
   "language": "python",
   "name": "python3"
  },
  "language_info": {
   "codemirror_mode": {
    "name": "ipython",
    "version": 3
   },
   "file_extension": ".py",
   "mimetype": "text/x-python",
   "name": "python",
   "nbconvert_exporter": "python",
   "pygments_lexer": "ipython3",
   "version": "3.6.6"
  }
 },
 "nbformat": 4,
 "nbformat_minor": 2
}
