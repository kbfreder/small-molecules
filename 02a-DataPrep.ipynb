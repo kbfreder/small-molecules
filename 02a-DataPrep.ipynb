{
 "cells": [
  {
   "cell_type": "markdown",
   "metadata": {},
   "source": [
    "## Drop *all* entries after 2008\n",
    "Even if they have been approved."
   ]
  },
  {
   "cell_type": "code",
   "execution_count": 1,
   "metadata": {},
   "outputs": [],
   "source": [
    "import pandas as pd\n",
    "import numpy as np\n",
    "# import matplotlib.pyplot as plt\n",
    "\n",
    "import util as u\n",
    "import pipeline as p\n",
    "import assess_clf_models as acm\n",
    "%load_ext autoreload\n",
    "%autoreload 2\n",
    "\n",
    "import warnings\n",
    "from sklearn.exceptions import DataConversionWarning\n",
    "warnings.filterwarnings(action='ignore', category=FutureWarning)\n",
    "warnings.filterwarnings(action='ignore', category=DeprecationWarning)\n",
    "warnings.filterwarnings(action='ignore', category=DataConversionWarning)\n",
    "\n",
    "from sklearn.model_selection import train_test_split"
   ]
  },
  {
   "cell_type": "markdown",
   "metadata": {},
   "source": [
    "### Load Data"
   ]
  },
  {
   "cell_type": "code",
   "execution_count": 2,
   "metadata": {},
   "outputs": [],
   "source": [
    "if 1 == 0:\n",
    "    # df0 = u.open_pkl('Data/compound_properties_02_no_dups.pkl')\n",
    "    df0 = pd.read_csv('Data/compound_properties_02.csv')\n",
    "    df1 = pd.read_csv('Data/mol_docs_year_syn_res.csv') # num of docs, year-guess, if mol has syn, if mol has res co\n",
    "    df2 = pd.read_csv('Data/molecule_target_agg_query.csv') # num of targets, target classes, if human_target\n",
    "    df4 = u.open_pkl('Data/molecule_assays.pkl') # num of activities, num of assays, assay types\n",
    "    df5 = u.open_pkl('Data/molecule_structure_alerts.pkl') # structural alerts for molecule\n",
    "\n",
    "    df = pd.merge(df0, df1, how='left', on='molecule_key')\n",
    "    df = pd.merge(df, df2, how='left', on='molecule_key')\n",
    "    df = pd.merge(df, df4, how='left', on='molecule_key')\n",
    "    df = pd.merge(df, df5, how='left', on='molecule_key')\n",
    "    df = u.clean_model_df(df)\n",
    "    u.pkl_this('Data/model_df_02.pkl', df)\n",
    "else:\n",
    "    df = u.open_pkl('Data/model_df_02.pkl')"
   ]
  },
  {
   "cell_type": "code",
   "execution_count": 3,
   "metadata": {},
   "outputs": [
    {
     "data": {
      "text/html": [
       "<div>\n",
       "<style scoped>\n",
       "    .dataframe tbody tr th:only-of-type {\n",
       "        vertical-align: middle;\n",
       "    }\n",
       "\n",
       "    .dataframe tbody tr th {\n",
       "        vertical-align: top;\n",
       "    }\n",
       "\n",
       "    .dataframe thead th {\n",
       "        text-align: right;\n",
       "    }\n",
       "</style>\n",
       "<table border=\"1\" class=\"dataframe\">\n",
       "  <thead>\n",
       "    <tr style=\"text-align: right;\">\n",
       "      <th></th>\n",
       "      <th>molecule_key</th>\n",
       "      <th>molecule_name</th>\n",
       "      <th>mw_freebase</th>\n",
       "      <th>alogp</th>\n",
       "      <th>acd_logp</th>\n",
       "      <th>acd_logd</th>\n",
       "      <th>hba</th>\n",
       "      <th>hbd</th>\n",
       "      <th>psa</th>\n",
       "      <th>rtb</th>\n",
       "      <th>...</th>\n",
       "      <th>num_assays</th>\n",
       "      <th>assay_types</th>\n",
       "      <th>num_alerts_set1</th>\n",
       "      <th>alert_yn_set1</th>\n",
       "      <th>num_alerts_set8</th>\n",
       "      <th>alert_yn_set8</th>\n",
       "      <th>alerts_set1</th>\n",
       "      <th>alerts_set8</th>\n",
       "      <th>patent</th>\n",
       "      <th>approved</th>\n",
       "    </tr>\n",
       "  </thead>\n",
       "  <tbody>\n",
       "    <tr>\n",
       "      <th>0</th>\n",
       "      <td>460508</td>\n",
       "      <td>none given</td>\n",
       "      <td>691.65</td>\n",
       "      <td>1.92</td>\n",
       "      <td>1.69</td>\n",
       "      <td>1.69</td>\n",
       "      <td>13.0</td>\n",
       "      <td>8.0</td>\n",
       "      <td>222.86</td>\n",
       "      <td>6.0</td>\n",
       "      <td>...</td>\n",
       "      <td>6</td>\n",
       "      <td>B,F</td>\n",
       "      <td>0</td>\n",
       "      <td>0</td>\n",
       "      <td>0</td>\n",
       "      <td>0</td>\n",
       "      <td>[None]</td>\n",
       "      <td>[None]</td>\n",
       "      <td>0</td>\n",
       "      <td>0</td>\n",
       "    </tr>\n",
       "    <tr>\n",
       "      <th>1</th>\n",
       "      <td>506107</td>\n",
       "      <td>none given</td>\n",
       "      <td>934.63</td>\n",
       "      <td>1.00</td>\n",
       "      <td>1.70</td>\n",
       "      <td>-4.57</td>\n",
       "      <td>26.0</td>\n",
       "      <td>15.0</td>\n",
       "      <td>452.00</td>\n",
       "      <td>2.0</td>\n",
       "      <td>...</td>\n",
       "      <td>2</td>\n",
       "      <td>F</td>\n",
       "      <td>1</td>\n",
       "      <td>1</td>\n",
       "      <td>0</td>\n",
       "      <td>0</td>\n",
       "      <td>[I7 2,4,5 trihydroxyphenyl]</td>\n",
       "      <td>[None]</td>\n",
       "      <td>0</td>\n",
       "      <td>0</td>\n",
       "    </tr>\n",
       "    <tr>\n",
       "      <th>2</th>\n",
       "      <td>623893</td>\n",
       "      <td>none given</td>\n",
       "      <td>913.88</td>\n",
       "      <td>9.13</td>\n",
       "      <td>-0.23</td>\n",
       "      <td>-5.75</td>\n",
       "      <td>18.0</td>\n",
       "      <td>7.0</td>\n",
       "      <td>372.91</td>\n",
       "      <td>11.0</td>\n",
       "      <td>...</td>\n",
       "      <td>2</td>\n",
       "      <td>B</td>\n",
       "      <td>0</td>\n",
       "      <td>0</td>\n",
       "      <td>4</td>\n",
       "      <td>1</td>\n",
       "      <td>[None]</td>\n",
       "      <td>[acyclic N-,=N and not N bound to carbonyl or ...</td>\n",
       "      <td>0</td>\n",
       "      <td>0</td>\n",
       "    </tr>\n",
       "    <tr>\n",
       "      <th>3</th>\n",
       "      <td>460509</td>\n",
       "      <td>none given</td>\n",
       "      <td>691.65</td>\n",
       "      <td>1.92</td>\n",
       "      <td>1.81</td>\n",
       "      <td>1.81</td>\n",
       "      <td>13.0</td>\n",
       "      <td>8.0</td>\n",
       "      <td>222.86</td>\n",
       "      <td>6.0</td>\n",
       "      <td>...</td>\n",
       "      <td>6</td>\n",
       "      <td>B,F</td>\n",
       "      <td>0</td>\n",
       "      <td>0</td>\n",
       "      <td>0</td>\n",
       "      <td>0</td>\n",
       "      <td>[None]</td>\n",
       "      <td>[None]</td>\n",
       "      <td>0</td>\n",
       "      <td>0</td>\n",
       "    </tr>\n",
       "    <tr>\n",
       "      <th>4</th>\n",
       "      <td>47659</td>\n",
       "      <td>none given</td>\n",
       "      <td>810.68</td>\n",
       "      <td>6.12</td>\n",
       "      <td>2.12</td>\n",
       "      <td>-3.13</td>\n",
       "      <td>16.0</td>\n",
       "      <td>8.0</td>\n",
       "      <td>282.68</td>\n",
       "      <td>6.0</td>\n",
       "      <td>...</td>\n",
       "      <td>59</td>\n",
       "      <td>B,F</td>\n",
       "      <td>0</td>\n",
       "      <td>0</td>\n",
       "      <td>0</td>\n",
       "      <td>0</td>\n",
       "      <td>[None]</td>\n",
       "      <td>[None]</td>\n",
       "      <td>0</td>\n",
       "      <td>0</td>\n",
       "    </tr>\n",
       "  </tbody>\n",
       "</table>\n",
       "<p>5 rows × 45 columns</p>\n",
       "</div>"
      ],
      "text/plain": [
       "   molecule_key molecule_name  mw_freebase  alogp  acd_logp  acd_logd   hba  \\\n",
       "0        460508    none given       691.65   1.92      1.69      1.69  13.0   \n",
       "1        506107    none given       934.63   1.00      1.70     -4.57  26.0   \n",
       "2        623893    none given       913.88   9.13     -0.23     -5.75  18.0   \n",
       "3        460509    none given       691.65   1.92      1.81      1.81  13.0   \n",
       "4         47659    none given       810.68   6.12      2.12     -3.13  16.0   \n",
       "\n",
       "    hbd     psa   rtb    ...     num_assays  assay_types  num_alerts_set1  \\\n",
       "0   8.0  222.86   6.0    ...              6          B,F                0   \n",
       "1  15.0  452.00   2.0    ...              2            F                1   \n",
       "2   7.0  372.91  11.0    ...              2            B                0   \n",
       "3   8.0  222.86   6.0    ...              6          B,F                0   \n",
       "4   8.0  282.68   6.0    ...             59          B,F                0   \n",
       "\n",
       "   alert_yn_set1 num_alerts_set8  alert_yn_set8                  alerts_set1  \\\n",
       "0              0               0              0                       [None]   \n",
       "1              1               0              0  [I7 2,4,5 trihydroxyphenyl]   \n",
       "2              0               4              1                       [None]   \n",
       "3              0               0              0                       [None]   \n",
       "4              0               0              0                       [None]   \n",
       "\n",
       "                                         alerts_set8  patent  approved  \n",
       "0                                             [None]       0         0  \n",
       "1                                             [None]       0         0  \n",
       "2  [acyclic N-,=N and not N bound to carbonyl or ...       0         0  \n",
       "3                                             [None]       0         0  \n",
       "4                                             [None]       0         0  \n",
       "\n",
       "[5 rows x 45 columns]"
      ]
     },
     "execution_count": 3,
     "metadata": {},
     "output_type": "execute_result"
    }
   ],
   "source": [
    "df.head()"
   ]
  },
  {
   "cell_type": "code",
   "execution_count": 3,
   "metadata": {},
   "outputs": [
    {
     "data": {
      "text/plain": [
       "1699286"
      ]
     },
     "execution_count": 3,
     "metadata": {},
     "output_type": "execute_result"
    }
   ],
   "source": [
    "len(df)"
   ]
  },
  {
   "cell_type": "markdown",
   "metadata": {},
   "source": [
    "# Clean Data\n",
    "- Drop duplicate entries\n",
    "- Drop missing years & year > 2008, but keep phase > 0\n",
    "    - No reliable way to impute\n",
    "    - Keep those who we know the outcome for (i.e. approved = 1). This is 300 entries. Consider it a form of over-sampling\n",
    "- Drop n/a's for compound_properties columns"
   ]
  },
  {
   "cell_type": "code",
   "execution_count": 4,
   "metadata": {},
   "outputs": [
    {
     "data": {
      "text/plain": [
       "1522351"
      ]
     },
     "execution_count": 4,
     "metadata": {},
     "output_type": "execute_result"
    }
   ],
   "source": [
    "cols_to_compare = ['mw_freebase', 'alogp', 'acd_logp',\n",
    "       'acd_logd', 'hba', 'hbd', 'psa', 'rtb', 'ro3_pass',\n",
    "       'num_ro5_violations', 'acd_most_apka', 'acd_most_bpka',\n",
    "       'molecular_species', 'aromatic_rings', 'heavy_atoms', 'qed_weighted',\n",
    "       'hba_lipinski', 'hbd_lipinski', 'num_lipinski_ro5_violations']\n",
    "\n",
    "df_no_dups = df.sort_values('num_assays', ascending=False).drop_duplicates(subset=cols_to_compare, keep='first')\n",
    "\n",
    "len(df_no_dups)"
   ]
  },
  {
   "cell_type": "code",
   "execution_count": 5,
   "metadata": {},
   "outputs": [
    {
     "name": "stdout",
     "output_type": "stream",
     "text": [
      "432160\n"
     ]
    }
   ],
   "source": [
    "df_drop = df_no_dups[(df_no_dups['year_impute'].notnull())] #| (df_no_dups['approved'] == 1)]\n",
    "df_drop = df_drop[(df_drop['year_impute'] < 2009) ]#| (df_drop['approved'] == 1)]\n",
    "\n",
    "cols_to_drop_nas = ['alogp', 'acd_logp', 'acd_logd', 'hba', 'hbd', 'psa', 'rtb', 'ro3_pass',\n",
    "       'num_ro5_violations', 'molecular_species', 'aromatic_rings', 'heavy_atoms', 'qed_weighted',\n",
    "       'hba_lipinski', 'hbd_lipinski']\n",
    "\n",
    "df_drop = df_drop.dropna(axis=0, subset=cols_to_drop_nas)\n",
    "\n",
    "print(len(df_drop))"
   ]
  },
  {
   "cell_type": "code",
   "execution_count": 6,
   "metadata": {},
   "outputs": [
    {
     "data": {
      "text/plain": [
       "0    0.99577\n",
       "1    0.00423\n",
       "Name: approved, dtype: float64"
      ]
     },
     "execution_count": 6,
     "metadata": {},
     "output_type": "execute_result"
    }
   ],
   "source": [
    "df_drop['approved'].value_counts(1)"
   ]
  },
  {
   "cell_type": "markdown",
   "metadata": {},
   "source": [
    "This is a better perecentage, actually. Use this data instead?"
   ]
  },
  {
   "cell_type": "code",
   "execution_count": 7,
   "metadata": {},
   "outputs": [
    {
     "data": {
      "text/plain": [
       "0    429976\n",
       "4      1544\n",
       "3       284\n",
       "2       269\n",
       "1        87\n",
       "Name: phase, dtype: int64"
      ]
     },
     "execution_count": 7,
     "metadata": {},
     "output_type": "execute_result"
    }
   ],
   "source": [
    "df_drop['phase'].value_counts()"
   ]
  },
  {
   "cell_type": "code",
   "execution_count": 9,
   "metadata": {},
   "outputs": [
    {
     "data": {
      "text/plain": [
       "1828"
      ]
     },
     "execution_count": 9,
     "metadata": {},
     "output_type": "execute_result"
    }
   ],
   "source": [
    "1544 + 284"
   ]
  },
  {
   "cell_type": "code",
   "execution_count": 10,
   "metadata": {},
   "outputs": [
    {
     "data": {
      "text/plain": [
       "2184"
      ]
     },
     "execution_count": 10,
     "metadata": {},
     "output_type": "execute_result"
    }
   ],
   "source": [
    "1544 + 284 + 269 + 87"
   ]
  },
  {
   "cell_type": "code",
   "execution_count": 12,
   "metadata": {},
   "outputs": [
    {
     "data": {
      "text/plain": [
       "9000.0"
      ]
     },
     "execution_count": 12,
     "metadata": {},
     "output_type": "execute_result"
    }
   ],
   "source": [
    "1.8e7 / 2000"
   ]
  },
  {
   "cell_type": "code",
   "execution_count": 13,
   "metadata": {},
   "outputs": [
    {
     "data": {
      "text/plain": [
       "21.5"
      ]
     },
     "execution_count": 13,
     "metadata": {},
     "output_type": "execute_result"
    }
   ],
   "source": [
    "43000 / 2000"
   ]
  },
  {
   "cell_type": "code",
   "execution_count": 8,
   "metadata": {},
   "outputs": [
    {
     "data": {
      "text/plain": [
       "0    0.994946\n",
       "4    0.003573\n",
       "3    0.000657\n",
       "2    0.000622\n",
       "1    0.000201\n",
       "Name: phase, dtype: float64"
      ]
     },
     "execution_count": 8,
     "metadata": {},
     "output_type": "execute_result"
    }
   ],
   "source": [
    "df_drop['phase'].value_counts(1)"
   ]
  },
  {
   "cell_type": "markdown",
   "metadata": {},
   "source": [
    "# Create test-train split"
   ]
  },
  {
   "cell_type": "code",
   "execution_count": 14,
   "metadata": {},
   "outputs": [],
   "source": [
    "y1 = df_drop['approved']\n",
    "X1 = df_drop.drop(columns='approved')\n",
    "X_train1, X_test1, y_train1, y_test1 = train_test_split(X1, y1, test_size=0.33, random_state=19)\n",
    "X_train1.reset_index(inplace=True, drop=True)"
   ]
  },
  {
   "cell_type": "code",
   "execution_count": 15,
   "metadata": {},
   "outputs": [],
   "source": [
    "u.pkl_this('Data/X_train_10yrs_02.pkl', X_train1)\n",
    "u.pkl_this('Data/y_train_10yrs_02.pkl', y_train1)\n",
    "u.pkl_this('Data/X_test_10yrs_02.pkl', X_test1)\n",
    "u.pkl_this('Data/y_test_10yrs_02.pkl', y_test1)"
   ]
  },
  {
   "cell_type": "code",
   "execution_count": null,
   "metadata": {},
   "outputs": [],
   "source": []
  }
 ],
 "metadata": {
  "anaconda-cloud": {},
  "kernelspec": {
   "display_name": "Python 3",
   "language": "python",
   "name": "python3"
  },
  "language_info": {
   "codemirror_mode": {
    "name": "ipython",
    "version": 3
   },
   "file_extension": ".py",
   "mimetype": "text/x-python",
   "name": "python",
   "nbconvert_exporter": "python",
   "pygments_lexer": "ipython3",
   "version": "3.6.6"
  }
 },
 "nbformat": 4,
 "nbformat_minor": 2
}
